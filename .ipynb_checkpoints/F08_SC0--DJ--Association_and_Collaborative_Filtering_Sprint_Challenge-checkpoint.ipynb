{
 "cells": [
  {
   "cell_type": "markdown",
   "metadata": {
    "colab_type": "text",
    "id": "view-in-github"
   },
   "source": [
    "[View in Colaboratory](https://colab.research.google.com/github/schwaaweb/aimlds1_08-UnsupervisedLearning/blob/master/F08_SC0--DJ--Association_and_Collaborative_Filtering_Sprint_Challenge.ipynb)"
   ]
  },
  {
   "cell_type": "markdown",
   "metadata": {
    "colab_type": "text",
    "id": "9Siy77yANn8h"
   },
   "source": [
    "## **Association Sprint Challenge**\n",
    "\n",
    "\n",
    "The journey into Association, a form of Unsupervised Machine Learning exposed you to the concepts of:\n",
    "\n",
    "a) Market Basket Analysis \n",
    "\n",
    "b) Collaborative Filtering (including Matrix Factorization)\n",
    "\n",
    "The purpose of this Sprint Challenge is to solidify your understanding of the Association Rule Learning topics covered this week by providing additional practice.\n",
    "\n",
    "In this Sprint Challenge, we are going to use a few different data sets:\n",
    "\n",
    "**Store Transactions data set**: https://www.dropbox.com/s/v3wdo3nzl41vxcd/Store_Transactions.csv?raw=1\n",
    "\n",
    "**Movies data set**: https://www.dropbox.com/s/qo7v9k5rcwt7wgh/movies.csv?raw=1\n",
    "\n",
    "**User Movie Ratings data set**: https://www.dropbox.com/s/piypmzeucyz160l/ratings_small.csv?raw=1\n",
    "\n",
    "\n",
    "**Smaller Dataset to Start**: https://www.dropbox.com/s/4ec9l887mth6rep/movie_ratings.csv?raw=1\n",
    "\n",
    "\n",
    "**Some Tips**:\n",
    "\n",
    "1) You *may* need to prepare the data.\n",
    "\n",
    "2) You will have to transpose the data set so that you get a proper representation of the underlying data set that can be feed into the Apriori Algorithm\n",
    "\n",
    "Create solutions for the following code blocks. This exercise should take ~ 1.5 - 2 hours.\n",
    "\n",
    "Share with mlsubmissions@lambdaschool.com when finished.\n"
   ]
  },
  {
   "cell_type": "code",
   "execution_count": 2,
   "metadata": {
    "colab": {},
    "colab_type": "code",
    "id": "uGBw5qIacaoG"
   },
   "outputs": [],
   "source": [
    "# LAMBDA SCHOOL\n",
    "#\n",
    "# MACHINE LEARNING\n",
    "#\n",
    "# MIT LICENSE\n",
    "\n",
    "import numpy as np\n",
    "import matplotlib.pyplot as plt\n",
    "import pandas as pd\n",
    "from pandas import Series, DataFrame"
   ]
  },
  {
   "cell_type": "code",
   "execution_count": 3,
   "metadata": {
    "colab": {},
    "colab_type": "code",
    "id": "kOiVkm3voWkz"
   },
   "outputs": [],
   "source": [
    "#Install the MLxtend package\n",
    "\n",
    "#!pip install MLxtend\n",
    "\n",
    "### This is what I use for Anaconda\n",
    "#%%bash\n",
    "#conda install -c conda-forge mlxtend"
   ]
  },
  {
   "cell_type": "code",
   "execution_count": 4,
   "metadata": {
    "colab": {},
    "colab_type": "code",
    "id": "d-HHff1hoaLu"
   },
   "outputs": [],
   "source": [
    "from mlxtend.frequent_patterns import apriori\n",
    "from mlxtend.frequent_patterns import association_rules\n",
    "from mlxtend.preprocessing import OnehotTransactions\n",
    "from mlxtend.preprocessing import TransactionEncoder"
   ]
  },
  {
   "cell_type": "markdown",
   "metadata": {
    "colab_type": "text",
    "id": "ndoWJD5htDwf"
   },
   "source": [
    "### Identifying Frequent Itemsets and Association Rules"
   ]
  },
  {
   "cell_type": "markdown",
   "metadata": {
    "colab_type": "text",
    "id": "TDqaOQbrtt9-"
   },
   "source": [
    "**Dataset:**\n",
    "\n",
    "Store Transactions: https://www.dropbox.com/s/v3wdo3nzl41vxcd/Store_Transactions.csv?raw=1"
   ]
  },
  {
   "cell_type": "code",
   "execution_count": 5,
   "metadata": {},
   "outputs": [
    {
     "name": "stdout",
     "output_type": "stream",
     "text": [
      "--2018-05-25 11:50:09--  https://www.dropbox.com/s/v3wdo3nzl41vxcd/Store_Transactions.csv?raw=1\n",
      "Resolving www.dropbox.com (www.dropbox.com)... 162.125.5.1\n",
      "Connecting to www.dropbox.com (www.dropbox.com)|162.125.5.1|:443... connected.\n",
      "HTTP request sent, awaiting response... 302 Found\n",
      "Location: https://dl.dropboxusercontent.com/content_link/jOqcwd1gxRb7JRB9PjpaZ0r4oQ14sP11fPNvs7h9VOVKMmCcWXQPL4bUXY3n7fMC/file [following]\n",
      "--2018-05-25 11:50:10--  https://dl.dropboxusercontent.com/content_link/jOqcwd1gxRb7JRB9PjpaZ0r4oQ14sP11fPNvs7h9VOVKMmCcWXQPL4bUXY3n7fMC/file\n",
      "Resolving dl.dropboxusercontent.com (dl.dropboxusercontent.com)... 162.125.5.6\n",
      "Connecting to dl.dropboxusercontent.com (dl.dropboxusercontent.com)|162.125.5.6|:443... connected.\n",
      "HTTP request sent, awaiting response... 200 OK\n",
      "Length: 34386 (34K) [text/csv]\n",
      "Saving to: ‘Store_Transactions.csv?raw=1’\n",
      "\n",
      "Store_Transactions. 100%[===================>]  33.58K  --.-KB/s    in 0.01s   \n",
      "\n",
      "2018-05-25 11:50:10 (3.43 MB/s) - ‘Store_Transactions.csv?raw=1’ saved [34386/34386]\n",
      "\n",
      "total 72\n",
      "-rw-r--r--@ 1 darwinm  staff    34K May 25 11:50 Store_Transactions.csv\n"
     ]
    }
   ],
   "source": [
    "#!mkdir sc_data && cd sc_data && wget -c https://www.dropbox.com/s/v3wdo3nzl41vxcd/Store_Transactions.csv?raw=1 && mv Store_Transactions.csv?raw=1 Store_Transactions.csv && ls -lh \n",
    "    "
   ]
  },
  {
   "cell_type": "markdown",
   "metadata": {
    "colab_type": "text",
    "id": "A9HQ9tiwcKLF"
   },
   "source": [
    "**1:** Utilize the Apriori Algorithm to uncover frequent itemsets"
   ]
  },
  {
   "cell_type": "code",
   "execution_count": 9,
   "metadata": {
    "colab": {},
    "colab_type": "code",
    "id": "2lsCzG_bcJCU"
   },
   "outputs": [
    {
     "data": {
      "text/html": [
       "<div>\n",
       "<style scoped>\n",
       "    .dataframe tbody tr th:only-of-type {\n",
       "        vertical-align: middle;\n",
       "    }\n",
       "\n",
       "    .dataframe tbody tr th {\n",
       "        vertical-align: top;\n",
       "    }\n",
       "\n",
       "    .dataframe thead th {\n",
       "        text-align: right;\n",
       "    }\n",
       "</style>\n",
       "<table border=\"1\" class=\"dataframe\">\n",
       "  <thead>\n",
       "    <tr style=\"text-align: right;\">\n",
       "      <th></th>\n",
       "      <th>Rowid</th>\n",
       "      <th>Transaction_id</th>\n",
       "      <th>Product_id</th>\n",
       "      <th>Quantity</th>\n",
       "    </tr>\n",
       "  </thead>\n",
       "  <tbody>\n",
       "    <tr>\n",
       "      <th>0</th>\n",
       "      <td>1</td>\n",
       "      <td>370</td>\n",
       "      <td>154</td>\n",
       "      <td>3</td>\n",
       "    </tr>\n",
       "    <tr>\n",
       "      <th>1</th>\n",
       "      <td>2</td>\n",
       "      <td>41</td>\n",
       "      <td>40</td>\n",
       "      <td>3</td>\n",
       "    </tr>\n",
       "    <tr>\n",
       "      <th>2</th>\n",
       "      <td>3</td>\n",
       "      <td>109</td>\n",
       "      <td>173</td>\n",
       "      <td>3</td>\n",
       "    </tr>\n",
       "    <tr>\n",
       "      <th>3</th>\n",
       "      <td>4</td>\n",
       "      <td>556</td>\n",
       "      <td>11</td>\n",
       "      <td>4</td>\n",
       "    </tr>\n",
       "    <tr>\n",
       "      <th>4</th>\n",
       "      <td>5</td>\n",
       "      <td>143</td>\n",
       "      <td>72</td>\n",
       "      <td>1</td>\n",
       "    </tr>\n",
       "  </tbody>\n",
       "</table>\n",
       "</div>"
      ],
      "text/plain": [
       "   Rowid  Transaction_id  Product_id  Quantity\n",
       "0      1             370         154         3\n",
       "1      2              41          40         3\n",
       "2      3             109         173         3\n",
       "3      4             556          11         4\n",
       "4      5             143          72         1"
      ]
     },
     "execution_count": 9,
     "metadata": {},
     "output_type": "execute_result"
    }
   ],
   "source": [
    "df_store = pd.read_csv('sc_data/Store_Transactions.csv')\n",
    "df_store.shape\n",
    "df_store.head()"
   ]
  },
  {
   "cell_type": "code",
   "execution_count": 23,
   "metadata": {},
   "outputs": [
    {
     "name": "stdout",
     "output_type": "stream",
     "text": [
      "Rowid             int64\n",
      "Transaction_id    int64\n",
      "Product_id        int64\n",
      "Quantity          int64\n",
      "dtype: object \n",
      "\n",
      "Rowid             0\n",
      "Transaction_id    0\n",
      "Product_id        0\n",
      "Quantity          0\n",
      "dtype: int64 \n",
      "\n"
     ]
    },
    {
     "data": {
      "text/plain": [
       "(2328, 4)"
      ]
     },
     "execution_count": 23,
     "metadata": {},
     "output_type": "execute_result"
    }
   ],
   "source": [
    "print(df_store.dtypes,'\\n')\n",
    "print(df_store.isnull().sum(),'\\n')\n",
    "#print(df_store.info)\n",
    "\n",
    "df_store.shape"
   ]
  },
  {
   "cell_type": "code",
   "execution_count": 25,
   "metadata": {},
   "outputs": [
    {
     "data": {
      "text/plain": [
       "2328"
      ]
     },
     "execution_count": 25,
     "metadata": {},
     "output_type": "execute_result"
    }
   ],
   "source": [
    "df_store.Rowid.nunique()"
   ]
  },
  {
   "cell_type": "code",
   "execution_count": 66,
   "metadata": {},
   "outputs": [],
   "source": [
    "transactions_per_row = df_store.pivot_table(index='Transaction_id', columns='Product_id', values='Quantity', aggfunc='sum', fill_value=0)"
   ]
  },
  {
   "cell_type": "code",
   "execution_count": 67,
   "metadata": {},
   "outputs": [
    {
     "data": {
      "text/html": [
       "<div>\n",
       "<style scoped>\n",
       "    .dataframe tbody tr th:only-of-type {\n",
       "        vertical-align: middle;\n",
       "    }\n",
       "\n",
       "    .dataframe tbody tr th {\n",
       "        vertical-align: top;\n",
       "    }\n",
       "\n",
       "    .dataframe thead th {\n",
       "        text-align: right;\n",
       "    }\n",
       "</style>\n",
       "<table border=\"1\" class=\"dataframe\">\n",
       "  <thead>\n",
       "    <tr style=\"text-align: right;\">\n",
       "      <th>Product_id</th>\n",
       "      <th>1</th>\n",
       "      <th>2</th>\n",
       "      <th>3</th>\n",
       "      <th>4</th>\n",
       "      <th>5</th>\n",
       "      <th>6</th>\n",
       "      <th>7</th>\n",
       "      <th>8</th>\n",
       "      <th>9</th>\n",
       "      <th>10</th>\n",
       "      <th>...</th>\n",
       "      <th>169</th>\n",
       "      <th>170</th>\n",
       "      <th>171</th>\n",
       "      <th>172</th>\n",
       "      <th>173</th>\n",
       "      <th>174</th>\n",
       "      <th>175</th>\n",
       "      <th>176</th>\n",
       "      <th>177</th>\n",
       "      <th>178</th>\n",
       "    </tr>\n",
       "    <tr>\n",
       "      <th>Transaction_id</th>\n",
       "      <th></th>\n",
       "      <th></th>\n",
       "      <th></th>\n",
       "      <th></th>\n",
       "      <th></th>\n",
       "      <th></th>\n",
       "      <th></th>\n",
       "      <th></th>\n",
       "      <th></th>\n",
       "      <th></th>\n",
       "      <th></th>\n",
       "      <th></th>\n",
       "      <th></th>\n",
       "      <th></th>\n",
       "      <th></th>\n",
       "      <th></th>\n",
       "      <th></th>\n",
       "      <th></th>\n",
       "      <th></th>\n",
       "      <th></th>\n",
       "      <th></th>\n",
       "    </tr>\n",
       "  </thead>\n",
       "  <tbody>\n",
       "    <tr>\n",
       "      <th>1</th>\n",
       "      <td>0</td>\n",
       "      <td>0</td>\n",
       "      <td>3</td>\n",
       "      <td>5</td>\n",
       "      <td>0</td>\n",
       "      <td>0</td>\n",
       "      <td>0</td>\n",
       "      <td>0</td>\n",
       "      <td>0</td>\n",
       "      <td>0</td>\n",
       "      <td>...</td>\n",
       "      <td>0</td>\n",
       "      <td>0</td>\n",
       "      <td>0</td>\n",
       "      <td>0</td>\n",
       "      <td>0</td>\n",
       "      <td>0</td>\n",
       "      <td>0</td>\n",
       "      <td>0</td>\n",
       "      <td>0</td>\n",
       "      <td>0</td>\n",
       "    </tr>\n",
       "    <tr>\n",
       "      <th>2</th>\n",
       "      <td>0</td>\n",
       "      <td>0</td>\n",
       "      <td>0</td>\n",
       "      <td>0</td>\n",
       "      <td>0</td>\n",
       "      <td>0</td>\n",
       "      <td>0</td>\n",
       "      <td>0</td>\n",
       "      <td>0</td>\n",
       "      <td>0</td>\n",
       "      <td>...</td>\n",
       "      <td>0</td>\n",
       "      <td>0</td>\n",
       "      <td>0</td>\n",
       "      <td>0</td>\n",
       "      <td>0</td>\n",
       "      <td>0</td>\n",
       "      <td>0</td>\n",
       "      <td>0</td>\n",
       "      <td>0</td>\n",
       "      <td>0</td>\n",
       "    </tr>\n",
       "    <tr>\n",
       "      <th>3</th>\n",
       "      <td>0</td>\n",
       "      <td>0</td>\n",
       "      <td>0</td>\n",
       "      <td>0</td>\n",
       "      <td>0</td>\n",
       "      <td>0</td>\n",
       "      <td>0</td>\n",
       "      <td>0</td>\n",
       "      <td>0</td>\n",
       "      <td>0</td>\n",
       "      <td>...</td>\n",
       "      <td>0</td>\n",
       "      <td>0</td>\n",
       "      <td>0</td>\n",
       "      <td>0</td>\n",
       "      <td>0</td>\n",
       "      <td>0</td>\n",
       "      <td>0</td>\n",
       "      <td>0</td>\n",
       "      <td>0</td>\n",
       "      <td>0</td>\n",
       "    </tr>\n",
       "    <tr>\n",
       "      <th>4</th>\n",
       "      <td>0</td>\n",
       "      <td>0</td>\n",
       "      <td>0</td>\n",
       "      <td>0</td>\n",
       "      <td>0</td>\n",
       "      <td>0</td>\n",
       "      <td>0</td>\n",
       "      <td>0</td>\n",
       "      <td>0</td>\n",
       "      <td>0</td>\n",
       "      <td>...</td>\n",
       "      <td>0</td>\n",
       "      <td>0</td>\n",
       "      <td>0</td>\n",
       "      <td>0</td>\n",
       "      <td>0</td>\n",
       "      <td>0</td>\n",
       "      <td>0</td>\n",
       "      <td>0</td>\n",
       "      <td>0</td>\n",
       "      <td>0</td>\n",
       "    </tr>\n",
       "    <tr>\n",
       "      <th>5</th>\n",
       "      <td>0</td>\n",
       "      <td>0</td>\n",
       "      <td>0</td>\n",
       "      <td>0</td>\n",
       "      <td>0</td>\n",
       "      <td>0</td>\n",
       "      <td>0</td>\n",
       "      <td>0</td>\n",
       "      <td>0</td>\n",
       "      <td>0</td>\n",
       "      <td>...</td>\n",
       "      <td>0</td>\n",
       "      <td>0</td>\n",
       "      <td>0</td>\n",
       "      <td>0</td>\n",
       "      <td>0</td>\n",
       "      <td>0</td>\n",
       "      <td>0</td>\n",
       "      <td>0</td>\n",
       "      <td>0</td>\n",
       "      <td>0</td>\n",
       "    </tr>\n",
       "  </tbody>\n",
       "</table>\n",
       "<p>5 rows × 178 columns</p>\n",
       "</div>"
      ],
      "text/plain": [
       "Product_id      1    2    3    4    5    6    7    8    9    10  ...   169  \\\n",
       "Transaction_id                                                   ...         \n",
       "1                 0    0    3    5    0    0    0    0    0    0 ...     0   \n",
       "2                 0    0    0    0    0    0    0    0    0    0 ...     0   \n",
       "3                 0    0    0    0    0    0    0    0    0    0 ...     0   \n",
       "4                 0    0    0    0    0    0    0    0    0    0 ...     0   \n",
       "5                 0    0    0    0    0    0    0    0    0    0 ...     0   \n",
       "\n",
       "Product_id      170  171  172  173  174  175  176  177  178  \n",
       "Transaction_id                                               \n",
       "1                 0    0    0    0    0    0    0    0    0  \n",
       "2                 0    0    0    0    0    0    0    0    0  \n",
       "3                 0    0    0    0    0    0    0    0    0  \n",
       "4                 0    0    0    0    0    0    0    0    0  \n",
       "5                 0    0    0    0    0    0    0    0    0  \n",
       "\n",
       "[5 rows x 178 columns]"
      ]
     },
     "execution_count": 67,
     "metadata": {},
     "output_type": "execute_result"
    }
   ],
   "source": [
    "transactions_per_row.head()"
   ]
  },
  {
   "cell_type": "code",
   "execution_count": 68,
   "metadata": {},
   "outputs": [],
   "source": [
    "purchase_sets = transactions_per_row.applymap(lambda quantity: 1 if quantity >= 1 else 0)"
   ]
  },
  {
   "cell_type": "code",
   "execution_count": 77,
   "metadata": {},
   "outputs": [],
   "source": [
    "#purchase_sets"
   ]
  },
  {
   "cell_type": "code",
   "execution_count": 90,
   "metadata": {},
   "outputs": [],
   "source": [
    "frequent_itemsets = apriori(purchase_sets, min_support=0.005, use_colnames=True)\n",
    "confidence_rules = association_rules(frequent_itemsets, metric='confidence', min_threshold=0.26)"
   ]
  },
  {
   "cell_type": "code",
   "execution_count": 91,
   "metadata": {},
   "outputs": [
    {
     "data": {
      "text/html": [
       "<div>\n",
       "<style scoped>\n",
       "    .dataframe tbody tr th:only-of-type {\n",
       "        vertical-align: middle;\n",
       "    }\n",
       "\n",
       "    .dataframe tbody tr th {\n",
       "        vertical-align: top;\n",
       "    }\n",
       "\n",
       "    .dataframe thead th {\n",
       "        text-align: right;\n",
       "    }\n",
       "</style>\n",
       "<table border=\"1\" class=\"dataframe\">\n",
       "  <thead>\n",
       "    <tr style=\"text-align: right;\">\n",
       "      <th></th>\n",
       "      <th>antecedants</th>\n",
       "      <th>consequents</th>\n",
       "      <th>antecedent support</th>\n",
       "      <th>consequent support</th>\n",
       "      <th>support</th>\n",
       "      <th>confidence</th>\n",
       "      <th>lift</th>\n",
       "      <th>leverage</th>\n",
       "      <th>conviction</th>\n",
       "    </tr>\n",
       "  </thead>\n",
       "  <tbody>\n",
       "    <tr>\n",
       "      <th>0</th>\n",
       "      <td>(15)</td>\n",
       "      <td>(136)</td>\n",
       "      <td>0.018739</td>\n",
       "      <td>0.028961</td>\n",
       "      <td>0.005111</td>\n",
       "      <td>0.272727</td>\n",
       "      <td>9.417112</td>\n",
       "      <td>0.004568</td>\n",
       "      <td>1.335179</td>\n",
       "    </tr>\n",
       "    <tr>\n",
       "      <th>1</th>\n",
       "      <td>(18)</td>\n",
       "      <td>(151)</td>\n",
       "      <td>0.025554</td>\n",
       "      <td>0.028961</td>\n",
       "      <td>0.006814</td>\n",
       "      <td>0.266667</td>\n",
       "      <td>9.207843</td>\n",
       "      <td>0.006074</td>\n",
       "      <td>1.324144</td>\n",
       "    </tr>\n",
       "    <tr>\n",
       "      <th>2</th>\n",
       "      <td>(35)</td>\n",
       "      <td>(176)</td>\n",
       "      <td>0.018739</td>\n",
       "      <td>0.027257</td>\n",
       "      <td>0.005111</td>\n",
       "      <td>0.272727</td>\n",
       "      <td>10.005682</td>\n",
       "      <td>0.004600</td>\n",
       "      <td>1.337521</td>\n",
       "    </tr>\n",
       "    <tr>\n",
       "      <th>3</th>\n",
       "      <td>(36)</td>\n",
       "      <td>(85)</td>\n",
       "      <td>0.017036</td>\n",
       "      <td>0.017036</td>\n",
       "      <td>0.005111</td>\n",
       "      <td>0.300000</td>\n",
       "      <td>17.610000</td>\n",
       "      <td>0.004821</td>\n",
       "      <td>1.404235</td>\n",
       "    </tr>\n",
       "    <tr>\n",
       "      <th>4</th>\n",
       "      <td>(85)</td>\n",
       "      <td>(36)</td>\n",
       "      <td>0.017036</td>\n",
       "      <td>0.017036</td>\n",
       "      <td>0.005111</td>\n",
       "      <td>0.300000</td>\n",
       "      <td>17.610000</td>\n",
       "      <td>0.004821</td>\n",
       "      <td>1.404235</td>\n",
       "    </tr>\n",
       "    <tr>\n",
       "      <th>5</th>\n",
       "      <td>(69)</td>\n",
       "      <td>(84)</td>\n",
       "      <td>0.018739</td>\n",
       "      <td>0.028961</td>\n",
       "      <td>0.005111</td>\n",
       "      <td>0.272727</td>\n",
       "      <td>9.417112</td>\n",
       "      <td>0.004568</td>\n",
       "      <td>1.335179</td>\n",
       "    </tr>\n",
       "    <tr>\n",
       "      <th>6</th>\n",
       "      <td>(168)</td>\n",
       "      <td>(146)</td>\n",
       "      <td>0.018739</td>\n",
       "      <td>0.022147</td>\n",
       "      <td>0.005111</td>\n",
       "      <td>0.272727</td>\n",
       "      <td>12.314685</td>\n",
       "      <td>0.004696</td>\n",
       "      <td>1.344549</td>\n",
       "    </tr>\n",
       "  </tbody>\n",
       "</table>\n",
       "</div>"
      ],
      "text/plain": [
       "  antecedants consequents  antecedent support  consequent support   support  \\\n",
       "0        (15)       (136)            0.018739            0.028961  0.005111   \n",
       "1        (18)       (151)            0.025554            0.028961  0.006814   \n",
       "2        (35)       (176)            0.018739            0.027257  0.005111   \n",
       "3        (36)        (85)            0.017036            0.017036  0.005111   \n",
       "4        (85)        (36)            0.017036            0.017036  0.005111   \n",
       "5        (69)        (84)            0.018739            0.028961  0.005111   \n",
       "6       (168)       (146)            0.018739            0.022147  0.005111   \n",
       "\n",
       "   confidence       lift  leverage  conviction  \n",
       "0    0.272727   9.417112  0.004568    1.335179  \n",
       "1    0.266667   9.207843  0.006074    1.324144  \n",
       "2    0.272727  10.005682  0.004600    1.337521  \n",
       "3    0.300000  17.610000  0.004821    1.404235  \n",
       "4    0.300000  17.610000  0.004821    1.404235  \n",
       "5    0.272727   9.417112  0.004568    1.335179  \n",
       "6    0.272727  12.314685  0.004696    1.344549  "
      ]
     },
     "execution_count": 91,
     "metadata": {},
     "output_type": "execute_result"
    }
   ],
   "source": [
    "confidence_rules"
   ]
  },
  {
   "cell_type": "code",
   "execution_count": 98,
   "metadata": {},
   "outputs": [],
   "source": [
    "lift_rules = association_rules(frequent_itemsets, metric='lift', min_threshold=11)"
   ]
  },
  {
   "cell_type": "code",
   "execution_count": 99,
   "metadata": {},
   "outputs": [
    {
     "data": {
      "text/html": [
       "<div>\n",
       "<style scoped>\n",
       "    .dataframe tbody tr th:only-of-type {\n",
       "        vertical-align: middle;\n",
       "    }\n",
       "\n",
       "    .dataframe tbody tr th {\n",
       "        vertical-align: top;\n",
       "    }\n",
       "\n",
       "    .dataframe thead th {\n",
       "        text-align: right;\n",
       "    }\n",
       "</style>\n",
       "<table border=\"1\" class=\"dataframe\">\n",
       "  <thead>\n",
       "    <tr style=\"text-align: right;\">\n",
       "      <th></th>\n",
       "      <th>antecedants</th>\n",
       "      <th>consequents</th>\n",
       "      <th>antecedent support</th>\n",
       "      <th>consequent support</th>\n",
       "      <th>support</th>\n",
       "      <th>confidence</th>\n",
       "      <th>lift</th>\n",
       "      <th>leverage</th>\n",
       "      <th>conviction</th>\n",
       "    </tr>\n",
       "  </thead>\n",
       "  <tbody>\n",
       "    <tr>\n",
       "      <th>0</th>\n",
       "      <td>(36)</td>\n",
       "      <td>(85)</td>\n",
       "      <td>0.017036</td>\n",
       "      <td>0.017036</td>\n",
       "      <td>0.005111</td>\n",
       "      <td>0.300000</td>\n",
       "      <td>17.610000</td>\n",
       "      <td>0.004821</td>\n",
       "      <td>1.404235</td>\n",
       "    </tr>\n",
       "    <tr>\n",
       "      <th>1</th>\n",
       "      <td>(85)</td>\n",
       "      <td>(36)</td>\n",
       "      <td>0.017036</td>\n",
       "      <td>0.017036</td>\n",
       "      <td>0.005111</td>\n",
       "      <td>0.300000</td>\n",
       "      <td>17.610000</td>\n",
       "      <td>0.004821</td>\n",
       "      <td>1.404235</td>\n",
       "    </tr>\n",
       "    <tr>\n",
       "      <th>2</th>\n",
       "      <td>(168)</td>\n",
       "      <td>(146)</td>\n",
       "      <td>0.018739</td>\n",
       "      <td>0.022147</td>\n",
       "      <td>0.005111</td>\n",
       "      <td>0.272727</td>\n",
       "      <td>12.314685</td>\n",
       "      <td>0.004696</td>\n",
       "      <td>1.344549</td>\n",
       "    </tr>\n",
       "    <tr>\n",
       "      <th>3</th>\n",
       "      <td>(146)</td>\n",
       "      <td>(168)</td>\n",
       "      <td>0.022147</td>\n",
       "      <td>0.018739</td>\n",
       "      <td>0.005111</td>\n",
       "      <td>0.230769</td>\n",
       "      <td>12.314685</td>\n",
       "      <td>0.004696</td>\n",
       "      <td>1.275639</td>\n",
       "    </tr>\n",
       "    <tr>\n",
       "      <th>4</th>\n",
       "      <td>(160)</td>\n",
       "      <td>(157)</td>\n",
       "      <td>0.020443</td>\n",
       "      <td>0.020443</td>\n",
       "      <td>0.005111</td>\n",
       "      <td>0.250000</td>\n",
       "      <td>12.229167</td>\n",
       "      <td>0.004693</td>\n",
       "      <td>1.306076</td>\n",
       "    </tr>\n",
       "    <tr>\n",
       "      <th>5</th>\n",
       "      <td>(157)</td>\n",
       "      <td>(160)</td>\n",
       "      <td>0.020443</td>\n",
       "      <td>0.020443</td>\n",
       "      <td>0.005111</td>\n",
       "      <td>0.250000</td>\n",
       "      <td>12.229167</td>\n",
       "      <td>0.004693</td>\n",
       "      <td>1.306076</td>\n",
       "    </tr>\n",
       "  </tbody>\n",
       "</table>\n",
       "</div>"
      ],
      "text/plain": [
       "  antecedants consequents  antecedent support  consequent support   support  \\\n",
       "0        (36)        (85)            0.017036            0.017036  0.005111   \n",
       "1        (85)        (36)            0.017036            0.017036  0.005111   \n",
       "2       (168)       (146)            0.018739            0.022147  0.005111   \n",
       "3       (146)       (168)            0.022147            0.018739  0.005111   \n",
       "4       (160)       (157)            0.020443            0.020443  0.005111   \n",
       "5       (157)       (160)            0.020443            0.020443  0.005111   \n",
       "\n",
       "   confidence       lift  leverage  conviction  \n",
       "0    0.300000  17.610000  0.004821    1.404235  \n",
       "1    0.300000  17.610000  0.004821    1.404235  \n",
       "2    0.272727  12.314685  0.004696    1.344549  \n",
       "3    0.230769  12.314685  0.004696    1.275639  \n",
       "4    0.250000  12.229167  0.004693    1.306076  \n",
       "5    0.250000  12.229167  0.004693    1.306076  "
      ]
     },
     "execution_count": 99,
     "metadata": {},
     "output_type": "execute_result"
    }
   ],
   "source": [
    "lift_rules"
   ]
  },
  {
   "cell_type": "code",
   "execution_count": null,
   "metadata": {},
   "outputs": [],
   "source": []
  },
  {
   "cell_type": "markdown",
   "metadata": {
    "colab_type": "text",
    "id": "Q9eVWs40cs7n"
   },
   "source": [
    "**2:** Discover the strongest association rules that have high lift and high confidence"
   ]
  },
  {
   "cell_type": "code",
   "execution_count": null,
   "metadata": {
    "colab": {},
    "colab_type": "code",
    "id": "zfh4Bj_ScrwA"
   },
   "outputs": [],
   "source": []
  },
  {
   "cell_type": "markdown",
   "metadata": {
    "colab_type": "text",
    "id": "X3Y42q59edso"
   },
   "source": [
    "**3:**  Create a Summary Table or Directed Graph to surface the association rules identified in **Ask 2** above"
   ]
  },
  {
   "cell_type": "code",
   "execution_count": 88,
   "metadata": {
    "colab": {},
    "colab_type": "code",
    "id": "NwC9D-_DiJU5"
   },
   "outputs": [],
   "source": [
    "import networkx as netx\n",
    "import matplotlib.pyplot as plt\n",
    "\n",
    "def draw_association_graph(rules, rules_to_show):\n",
    "  \"\"\"Function to draw graph visualization association rules.\"\"\"\n",
    "  DiGraph = netx.DiGraph()\n",
    "  \n",
    "  colors = np.random.rand(rules_to_show)\n",
    "  rule_nodes = set()\n",
    "  \n",
    "  for i in range(rules_to_show):\n",
    "    rule_node = 'R' + str(i)\n",
    "    DiGraph.add_nodes_from([rule_node])\n",
    "    rule_nodes.add(rule_node)\n",
    "    lift = rules.iloc[i]['lift']\n",
    "    \n",
    "    # For antecedant, the arrow originates from antecedant to the Rule node\n",
    "    for antecedant in rules.iloc[i]['antecedants']:\n",
    "      DiGraph.add_nodes_from([antecedant])\n",
    "      DiGraph.add_edge(antecedant, rule_node, color=colors[i], weight=lift)\n",
    "    \n",
    "    # For consequent, the arrow originates fromt he Rule node to the consequent\n",
    "    for consequent in rules.iloc[i]['consequents']:\n",
    "      DiGraph.add_edge(rule_node, consequent, color=colors[i], weight=lift)\n",
    "  \n",
    "  # Set the color of rule nodes to orange, non-rule nodes to green\n",
    "  node_colors = ['orange' if node in rule_nodes else 'green'\n",
    "                 for node in DiGraph]\n",
    "  \n",
    "  # Print/draw results!\n",
    "  edges = DiGraph.edges()\n",
    "  nodes = DiGraph.nodes()\n",
    "  print('Nodes: ' + str(nodes))\n",
    "  print('Edges: ' + str(edges))\n",
    "  \n",
    "  edge_colors = [DiGraph[src][dest]['color'] for src, dest in edges]\n",
    "  edge_weights =  [DiGraph[src][dest]['weight'] for src, dest in edges]\n",
    "  \n",
    "  positions = netx.spring_layout(DiGraph, k=15, scale=1)\n",
    "  print(\"Node positions: \" + str(positions))\n",
    "  netx.draw_networkx(DiGraph, positions, edges=edges, node_color=node_colors,\n",
    "                    edge_color=edge_colors, width=edge_weights, font_size=16,\n",
    "                    with_labels=False)\n",
    "  \n",
    "  # Add labels under nodes\n",
    "  for position in positions:\n",
    "    positions[position][1] -= 0.15\n",
    "  netx.draw_networkx_labels(DiGraph, positions)\n",
    "  plt.show()"
   ]
  },
  {
   "cell_type": "code",
   "execution_count": 96,
   "metadata": {},
   "outputs": [
    {
     "name": "stdout",
     "output_type": "stream",
     "text": [
      "Nodes: ['R0', 15, 136, 'R1', 18, 151, 'R2', 35, 176, 'R3', 36, 85, 'R4', 'R5', 69, 84, 'R6', 168, 146]\n",
      "Edges: [('R0', 136), (15, 'R0'), ('R1', 151), (18, 'R1'), ('R2', 176), (35, 'R2'), ('R3', 85), (36, 'R3'), (85, 'R4'), ('R4', 36), ('R5', 84), (69, 'R5'), ('R6', 146), (168, 'R6')]\n",
      "Node positions: {'R0': array([-0.94967813, -0.36429611]), 15: array([-0.45444335, -0.84821016]), 136: array([-0.02817305,  0.91515512]), 'R1': array([-0.13240198, -0.91181941]), 18: array([0.80257652, 0.57146002]), 151: array([-0.57587079,  0.69063518]), 'R2': array([-0.84024493,  0.48098664]), 35: array([0.27456762, 1.        ]), 176: array([-0.7625777 , -0.72375966]), 'R3': array([ 0.18642647, -0.97936849]), 36: array([0.94238231, 0.27322168]), 85: array([-0.9987972 ,  0.11280671]), 'R4': array([0.5760246 , 0.81629934]), 'R5': array([-0.36311536,  0.94781532]), 69: array([ 0.97974697, -0.04971317]), 84: array([ 0.52775801, -0.8598113 ]), 'R6': array([ 0.68745632, -0.60411103]), 168: array([ 0.88389205, -0.35897241]), 146: array([-0.75552839, -0.10831826])}\n"
     ]
    },
    {
     "data": {
      "image/png": "[encoded data removed]",
      "text/plain": [
       "<matplotlib.figure.Figure at 0x151142a978>"
      ]
     },
     "metadata": {},
     "output_type": "display_data"
    }
   ],
   "source": [
    "draw_association_graph(confidence_rules, confidence_rules.shape[0])"
   ]
  },
  {
   "cell_type": "code",
   "execution_count": 100,
   "metadata": {},
   "outputs": [
    {
     "name": "stdout",
     "output_type": "stream",
     "text": [
      "Nodes: ['R0', 36, 85, 'R1', 'R2', 168, 146, 'R3', 'R4', 160, 157, 'R5']\n",
      "Edges: [('R0', 85), (36, 'R0'), (85, 'R1'), ('R1', 36), ('R2', 146), (168, 'R2'), (146, 'R3'), ('R3', 168), ('R4', 157), (160, 'R4'), (157, 'R5'), ('R5', 160)]\n",
      "Node positions: {'R0': array([ 0.84844404, -0.56813873]), 36: array([-0.55996308,  0.85445249]), 85: array([-0.45241917, -0.76253714]), 'R1': array([-0.02658583,  0.93065731]), 'R2': array([-0.9222618 ,  0.44624084]), 168: array([0.83823857, 0.46295708]), 146: array([ 1.        , -0.03120999]), 'R3': array([-0.74808548, -0.43173853]), 'R4': array([-0.96718767, -0.06232569]), 160: array([ 0.44989798, -0.81973319]), 157: array([-0.00175003, -0.88042644]), 'R5': array([0.54167246, 0.86180198])}\n"
     ]
    },
    {
     "data": {
      "image/png": "[encoded data removed]",
      "text/plain": [
       "<matplotlib.figure.Figure at 0x151a0725c0>"
      ]
     },
     "metadata": {},
     "output_type": "display_data"
    }
   ],
   "source": [
    "draw_association_graph(lift_rules, lift_rules.shape[0])"
   ]
  },
  {
   "cell_type": "markdown",
   "metadata": {
    "colab_type": "text",
    "id": "wcSaEaidta7Q"
   },
   "source": [
    "### Collaborative Filtering"
   ]
  },
  {
   "cell_type": "markdown",
   "metadata": {
    "colab_type": "text",
    "id": "mqQFGos9uKjf"
   },
   "source": [
    "Dataset:\n",
    "\n",
    "\n",
    "*Movies*: https://www.dropbox.com/s/qo7v9k5rcwt7wgh/movies.csv?raw=1\n",
    "\n",
    "*User Movie Ratings*: https://www.dropbox.com/s/piypmzeucyz160l/ratings_small.csv?raw=1"
   ]
  },
  {
   "cell_type": "code",
   "execution_count": 101,
   "metadata": {},
   "outputs": [
    {
     "name": "stdout",
     "output_type": "stream",
     "text": [
      "--2018-05-25 12:56:49--  https://www.dropbox.com/s/qo7v9k5rcwt7wgh/movies.csv?raw=1\n",
      "Resolving www.dropbox.com (www.dropbox.com)... 162.125.5.1\n",
      "Connecting to www.dropbox.com (www.dropbox.com)|162.125.5.1|:443... connected.\n",
      "HTTP request sent, awaiting response... 302 Found\n",
      "Location: https://dl.dropboxusercontent.com/content_link/Oj1fWgCNg9FBgftyixBvs3E510XUfS7CQlQvFlLe1NjKVG4ySqsRyFnDhw6HI4Rh/file [following]\n",
      "--2018-05-25 12:56:49--  https://dl.dropboxusercontent.com/content_link/Oj1fWgCNg9FBgftyixBvs3E510XUfS7CQlQvFlLe1NjKVG4ySqsRyFnDhw6HI4Rh/file\n",
      "Resolving dl.dropboxusercontent.com (dl.dropboxusercontent.com)... 162.125.5.6\n",
      "Connecting to dl.dropboxusercontent.com (dl.dropboxusercontent.com)|162.125.5.6|:443... connected.\n",
      "HTTP request sent, awaiting response... 200 OK\n",
      "Length: 458390 (448K) [text/csv]\n",
      "Saving to: ‘movies.csv?raw=1’\n",
      "\n",
      "movies.csv?raw=1    100%[===================>] 447.65K  2.09MB/s    in 0.2s    \n",
      "\n",
      "2018-05-25 12:56:50 (2.09 MB/s) - ‘movies.csv?raw=1’ saved [458390/458390]\n",
      "\n",
      "--2018-05-25 12:56:50--  https://www.dropbox.com/s/piypmzeucyz160l/ratings_small.csv?raw=1\n",
      "Resolving www.dropbox.com (www.dropbox.com)... 162.125.5.1\n",
      "Connecting to www.dropbox.com (www.dropbox.com)|162.125.5.1|:443... connected.\n",
      "HTTP request sent, awaiting response... 302 Found\n",
      "Location: https://dl.dropboxusercontent.com/content_link/ptCF9TytDY1kZnNidpXJOjbDp2xntUAkWyr6cut96Q8I9VCZz6eBZcz10MpcZxcw/file [following]\n",
      "--2018-05-25 12:56:51--  https://dl.dropboxusercontent.com/content_link/ptCF9TytDY1kZnNidpXJOjbDp2xntUAkWyr6cut96Q8I9VCZz6eBZcz10MpcZxcw/file\n",
      "Resolving dl.dropboxusercontent.com (dl.dropboxusercontent.com)... 162.125.5.6\n",
      "Connecting to dl.dropboxusercontent.com (dl.dropboxusercontent.com)|162.125.5.6|:443... connected.\n",
      "HTTP request sent, awaiting response... 200 OK\n",
      "Length: 2289254 (2.2M) [text/csv]\n",
      "Saving to: ‘ratings_small.csv?raw=1’\n",
      "\n",
      "ratings_small.csv?r 100%[===================>]   2.18M  3.39MB/s    in 0.6s    \n",
      "\n",
      "2018-05-25 12:56:52 (3.39 MB/s) - ‘ratings_small.csv?raw=1’ saved [2289254/2289254]\n",
      "\n",
      "--2018-05-25 12:56:52--  https://www.dropbox.com/s/4ec9l887mth6rep/movie_ratings.csv?raw=1\n",
      "Resolving www.dropbox.com (www.dropbox.com)... 162.125.5.1\n",
      "Connecting to www.dropbox.com (www.dropbox.com)|162.125.5.1|:443... connected.\n",
      "HTTP request sent, awaiting response... 302 Found\n",
      "Location: https://dl.dropboxusercontent.com/content_link/nvI81sllJiX566wh3s25SO1s0mN5e7pcSLLyDNqH7V7tcozZ5gNoAw3K3BXxiytq/file [following]\n",
      "--2018-05-25 12:56:53--  https://dl.dropboxusercontent.com/content_link/nvI81sllJiX566wh3s25SO1s0mN5e7pcSLLyDNqH7V7tcozZ5gNoAw3K3BXxiytq/file\n",
      "Resolving dl.dropboxusercontent.com (dl.dropboxusercontent.com)... 162.125.5.6\n",
      "Connecting to dl.dropboxusercontent.com (dl.dropboxusercontent.com)|162.125.5.6|:443... connected.\n",
      "HTTP request sent, awaiting response... 200 OK\n",
      "Length: 5973 (5.8K) [text/csv]\n",
      "Saving to: ‘movie_ratings.csv?raw=1’\n",
      "\n",
      "movie_ratings.csv?r 100%[===================>]   5.83K  --.-KB/s    in 0s      \n",
      "\n",
      "2018-05-25 12:56:54 (150 MB/s) - ‘movie_ratings.csv?raw=1’ saved [5973/5973]\n",
      "\n",
      "-rw-r--r--@ 1 darwinm  staff    34K May 25 11:50 sc_data/Store_Transactions.csv\n",
      "-rw-r--r--@ 1 darwinm  staff   5.8K May 25 12:56 sc_data/movie_ratings.csv\n",
      "-rw-r--r--@ 1 darwinm  staff   448K May 25 12:56 sc_data/movies.csv\n",
      "-rw-r--r--@ 1 darwinm  staff   2.2M May 25 12:56 sc_data/ratings_small.csv\n"
     ]
    }
   ],
   "source": [
    "# Distance measurements\n",
    "from sklearn.metrics import pairwise_distances\n",
    "from sklearn.metrics.pairwise import cosine_similarity\n",
    "from scipy.spatial.distance import correlation\n",
    "\n",
    "!cd sc_data && wget -c https://www.dropbox.com/s/qo7v9k5rcwt7wgh/movies.csv?raw=1 && mv movies.csv?raw=1 movies.csv\n",
    "!cd sc_data && wget -c https://www.dropbox.com/s/piypmzeucyz160l/ratings_small.csv?raw=1 && mv ratings_small.csv?raw=1 ratings_small.csv\n",
    "!cd sc_data && wget -c https://www.dropbox.com/s/4ec9l887mth6rep/movie_ratings.csv?raw=1 && mv movie_ratings.csv?raw=1 movie_ratings.csv\n",
    "!ls -lh sc_data/*    "
   ]
  },
  {
   "cell_type": "code",
   "execution_count": 102,
   "metadata": {},
   "outputs": [
    {
     "name": "stdout",
     "output_type": "stream",
     "text": [
      "df_movies (9125, 3)\n",
      "df_ratings_sml (680, 3)\n",
      "df_ratings (100004, 4)\n"
     ]
    }
   ],
   "source": [
    "df_movies = pd.read_csv('sc_data/movies.csv')\n",
    "df_ratings_sml = pd.read_csv('sc_data/movie_ratings.csv')\n",
    "df_ratings = pd.read_csv('sc_data/ratings_small.csv') # ratings_small.csv is way smaller than movie_ratings\n",
    "print('df_movies',df_movies.shape)\n",
    "print('df_ratings_sml',df_ratings_sml.shape)\n",
    "print('df_ratings',df_ratings.shape)"
   ]
  },
  {
   "cell_type": "markdown",
   "metadata": {
    "colab_type": "text",
    "id": "Wh8LZkxLiKVZ"
   },
   "source": [
    "**1:** Utilize Matrix Factorization to arrive at the 2 matrices i.e. a) User Ratings (across attributes) b) Movie Ratings (across attributes). Once you have the 2 matrices, compute the \"dot\" product of the 2 matrices to come up with an estimate/prediction for the missing user ratings\n",
    "\n",
    "For this ask, you could leverage the Matrix Factorization step that was discussed in the lecture **OR**\n",
    "\n",
    "Here is another implmentation for your reference that could be leveraged (may need to be adapted): \n",
    "\n",
    "https://lazyprogrammer.me/tutorial-on-collaborative-filtering-and-matrix-factorization-in-python/\n"
   ]
  },
  {
   "cell_type": "code",
   "execution_count": 103,
   "metadata": {
    "colab": {},
    "colab_type": "code",
    "id": "mzDeEsYf5a92"
   },
   "outputs": [
    {
     "data": {
      "text/html": [
       "<div>\n",
       "<style scoped>\n",
       "    .dataframe tbody tr th:only-of-type {\n",
       "        vertical-align: middle;\n",
       "    }\n",
       "\n",
       "    .dataframe tbody tr th {\n",
       "        vertical-align: top;\n",
       "    }\n",
       "\n",
       "    .dataframe thead th {\n",
       "        text-align: right;\n",
       "    }\n",
       "</style>\n",
       "<table border=\"1\" class=\"dataframe\">\n",
       "  <thead>\n",
       "    <tr style=\"text-align: right;\">\n",
       "      <th></th>\n",
       "      <th>movieId</th>\n",
       "      <th>title</th>\n",
       "      <th>genres</th>\n",
       "    </tr>\n",
       "  </thead>\n",
       "  <tbody>\n",
       "    <tr>\n",
       "      <th>0</th>\n",
       "      <td>1</td>\n",
       "      <td>Toy Story (1995)</td>\n",
       "      <td>Adventure|Animation|Children|Comedy|Fantasy</td>\n",
       "    </tr>\n",
       "    <tr>\n",
       "      <th>1</th>\n",
       "      <td>2</td>\n",
       "      <td>Jumanji (1995)</td>\n",
       "      <td>Adventure|Children|Fantasy</td>\n",
       "    </tr>\n",
       "    <tr>\n",
       "      <th>2</th>\n",
       "      <td>3</td>\n",
       "      <td>Grumpier Old Men (1995)</td>\n",
       "      <td>Comedy|Romance</td>\n",
       "    </tr>\n",
       "    <tr>\n",
       "      <th>3</th>\n",
       "      <td>4</td>\n",
       "      <td>Waiting to Exhale (1995)</td>\n",
       "      <td>Comedy|Drama|Romance</td>\n",
       "    </tr>\n",
       "    <tr>\n",
       "      <th>4</th>\n",
       "      <td>5</td>\n",
       "      <td>Father of the Bride Part II (1995)</td>\n",
       "      <td>Comedy</td>\n",
       "    </tr>\n",
       "  </tbody>\n",
       "</table>\n",
       "</div>"
      ],
      "text/plain": [
       "   movieId                               title  \\\n",
       "0        1                    Toy Story (1995)   \n",
       "1        2                      Jumanji (1995)   \n",
       "2        3             Grumpier Old Men (1995)   \n",
       "3        4            Waiting to Exhale (1995)   \n",
       "4        5  Father of the Bride Part II (1995)   \n",
       "\n",
       "                                        genres  \n",
       "0  Adventure|Animation|Children|Comedy|Fantasy  \n",
       "1                   Adventure|Children|Fantasy  \n",
       "2                               Comedy|Romance  \n",
       "3                         Comedy|Drama|Romance  \n",
       "4                                       Comedy  "
      ]
     },
     "execution_count": 103,
     "metadata": {},
     "output_type": "execute_result"
    }
   ],
   "source": [
    "df_movies.head()"
   ]
  },
  {
   "cell_type": "code",
   "execution_count": 104,
   "metadata": {},
   "outputs": [
    {
     "data": {
      "text/html": [
       "<div>\n",
       "<style scoped>\n",
       "    .dataframe tbody tr th:only-of-type {\n",
       "        vertical-align: middle;\n",
       "    }\n",
       "\n",
       "    .dataframe tbody tr th {\n",
       "        vertical-align: top;\n",
       "    }\n",
       "\n",
       "    .dataframe thead th {\n",
       "        text-align: right;\n",
       "    }\n",
       "</style>\n",
       "<table border=\"1\" class=\"dataframe\">\n",
       "  <thead>\n",
       "    <tr style=\"text-align: right;\">\n",
       "      <th></th>\n",
       "      <th>userid</th>\n",
       "      <th>movieid</th>\n",
       "      <th>rating</th>\n",
       "    </tr>\n",
       "  </thead>\n",
       "  <tbody>\n",
       "    <tr>\n",
       "      <th>0</th>\n",
       "      <td>1</td>\n",
       "      <td>28</td>\n",
       "      <td>4</td>\n",
       "    </tr>\n",
       "    <tr>\n",
       "      <th>1</th>\n",
       "      <td>1</td>\n",
       "      <td>26</td>\n",
       "      <td>4</td>\n",
       "    </tr>\n",
       "    <tr>\n",
       "      <th>2</th>\n",
       "      <td>1</td>\n",
       "      <td>9</td>\n",
       "      <td>4</td>\n",
       "    </tr>\n",
       "    <tr>\n",
       "      <th>3</th>\n",
       "      <td>1</td>\n",
       "      <td>1</td>\n",
       "      <td>4</td>\n",
       "    </tr>\n",
       "    <tr>\n",
       "      <th>4</th>\n",
       "      <td>1</td>\n",
       "      <td>14</td>\n",
       "      <td>4</td>\n",
       "    </tr>\n",
       "  </tbody>\n",
       "</table>\n",
       "</div>"
      ],
      "text/plain": [
       "   userid  movieid  rating\n",
       "0       1       28       4\n",
       "1       1       26       4\n",
       "2       1        9       4\n",
       "3       1        1       4\n",
       "4       1       14       4"
      ]
     },
     "execution_count": 104,
     "metadata": {},
     "output_type": "execute_result"
    }
   ],
   "source": [
    "df_ratings_sml.head()"
   ]
  },
  {
   "cell_type": "code",
   "execution_count": 108,
   "metadata": {},
   "outputs": [
    {
     "data": {
      "text/html": [
       "<div>\n",
       "<style scoped>\n",
       "    .dataframe tbody tr th:only-of-type {\n",
       "        vertical-align: middle;\n",
       "    }\n",
       "\n",
       "    .dataframe tbody tr th {\n",
       "        vertical-align: top;\n",
       "    }\n",
       "\n",
       "    .dataframe thead th {\n",
       "        text-align: right;\n",
       "    }\n",
       "</style>\n",
       "<table border=\"1\" class=\"dataframe\">\n",
       "  <thead>\n",
       "    <tr style=\"text-align: right;\">\n",
       "      <th></th>\n",
       "      <th>userId</th>\n",
       "      <th>movieId</th>\n",
       "      <th>rating</th>\n",
       "    </tr>\n",
       "  </thead>\n",
       "  <tbody>\n",
       "    <tr>\n",
       "      <th>0</th>\n",
       "      <td>1</td>\n",
       "      <td>31</td>\n",
       "      <td>2.5</td>\n",
       "    </tr>\n",
       "    <tr>\n",
       "      <th>1</th>\n",
       "      <td>1</td>\n",
       "      <td>1029</td>\n",
       "      <td>3.0</td>\n",
       "    </tr>\n",
       "    <tr>\n",
       "      <th>2</th>\n",
       "      <td>1</td>\n",
       "      <td>1061</td>\n",
       "      <td>3.0</td>\n",
       "    </tr>\n",
       "    <tr>\n",
       "      <th>3</th>\n",
       "      <td>1</td>\n",
       "      <td>1129</td>\n",
       "      <td>2.0</td>\n",
       "    </tr>\n",
       "    <tr>\n",
       "      <th>4</th>\n",
       "      <td>1</td>\n",
       "      <td>1172</td>\n",
       "      <td>4.0</td>\n",
       "    </tr>\n",
       "  </tbody>\n",
       "</table>\n",
       "</div>"
      ],
      "text/plain": [
       "   userId  movieId  rating\n",
       "0       1       31     2.5\n",
       "1       1     1029     3.0\n",
       "2       1     1061     3.0\n",
       "3       1     1129     2.0\n",
       "4       1     1172     4.0"
      ]
     },
     "execution_count": 108,
     "metadata": {},
     "output_type": "execute_result"
    }
   ],
   "source": [
    "df_ratings.drop(['timestamp'], axis=1, inplace=True)\n",
    "df_ratings.head()"
   ]
  },
  {
   "cell_type": "code",
   "execution_count": 116,
   "metadata": {},
   "outputs": [
    {
     "data": {
      "text/plain": [
       "Index(['userid', 'movieid', 'rating'], dtype='object')"
      ]
     },
     "execution_count": 116,
     "metadata": {},
     "output_type": "execute_result"
    }
   ],
   "source": [
    "df_ratings_sml.columns"
   ]
  },
  {
   "cell_type": "code",
   "execution_count": 120,
   "metadata": {},
   "outputs": [],
   "source": [
    "df_ratings_pivot_sml = pd.pivot_table(df_ratings_sml, index='userid', columns='movieid', values='rating').fillna(0)\n",
    "#print(df_ratings_pivot_sml)"
   ]
  },
  {
   "cell_type": "code",
   "execution_count": 119,
   "metadata": {},
   "outputs": [],
   "source": [
    "df_ratings_pivot = pd.pivot_table(df_ratings, index='userId', columns='movieId', values='rating').fillna(0)\n",
    "#print(df_ratings_pivot)"
   ]
  },
  {
   "cell_type": "code",
   "execution_count": 121,
   "metadata": {},
   "outputs": [
    {
     "name": "stdout",
     "output_type": "stream",
     "text": [
      "[[1.         0.30578831 0.40011903 ... 0.         0.         0.        ]\n",
      " [0.30578831 1.         0.34815531 ... 0.24242424 0.23213279 0.33530379]\n",
      " [0.40011903 0.34815531 1.         ... 0.13055824 0.11430011 0.        ]\n",
      " ...\n",
      " [0.         0.24242424 0.13055824 ... 1.         0.87326143 0.86969422]\n",
      " [0.         0.23213279 0.11430011 ... 0.87326143 1.         0.77973995]\n",
      " [0.         0.33530379 0.         ... 0.86969422 0.77973995 1.        ]]\n",
      "(100, 100)\n",
      "CPU times: user 3.25 ms, sys: 1.9 ms, total: 5.16 ms\n",
      "Wall time: 49.4 ms\n"
     ]
    }
   ],
   "source": [
    "%%time\n",
    "cos_similarity_sml = cosine_similarity(df_ratings_pivot_sml.as_matrix())\n",
    "print(cos_similarity_sml)  # User similarity matrix\n",
    "print(cos_similarity_sml.shape)"
   ]
  },
  {
   "cell_type": "code",
   "execution_count": 122,
   "metadata": {},
   "outputs": [
    {
     "name": "stdout",
     "output_type": "stream",
     "text": [
      "[[1.         0.         0.         ... 0.06291708 0.         0.01746565]\n",
      " [0.         1.         0.12429498 ... 0.02413984 0.17059464 0.1131753 ]\n",
      " [0.         0.12429498 1.         ... 0.08098382 0.13660585 0.17019275]\n",
      " ...\n",
      " [0.06291708 0.02413984 0.08098382 ... 1.         0.04260878 0.08520194]\n",
      " [0.         0.17059464 0.13660585 ... 0.04260878 1.         0.22867673]\n",
      " [0.01746565 0.1131753  0.17019275 ... 0.08520194 0.22867673 1.        ]]\n",
      "(671, 671)\n",
      "CPU times: user 1.06 s, sys: 63.2 ms, total: 1.13 s\n",
      "Wall time: 739 ms\n"
     ]
    }
   ],
   "source": [
    "%%time\n",
    "cos_similarity = cosine_similarity(df_ratings_pivot.as_matrix())\n",
    "print(cos_similarity)  # User similarity matrix\n",
    "print(cos_similarity.shape)"
   ]
  },
  {
   "cell_type": "code",
   "execution_count": 123,
   "metadata": {},
   "outputs": [
    {
     "name": "stdout",
     "output_type": "stream",
     "text": [
      "[[0.         0.         0.         ... 0.06291708 0.         0.01746565]\n",
      " [0.         0.         0.12429498 ... 0.02413984 0.17059464 0.1131753 ]\n",
      " [0.         0.12429498 0.         ... 0.08098382 0.13660585 0.17019275]\n",
      " ...\n",
      " [0.06291708 0.02413984 0.08098382 ... 0.         0.04260878 0.08520194]\n",
      " [0.         0.17059464 0.13660585 ... 0.04260878 0.         0.22867673]\n",
      " [0.01746565 0.1131753  0.17019275 ... 0.08520194 0.22867673 0.        ]]\n"
     ]
    }
   ],
   "source": [
    "np.fill_diagonal(cos_similarity, 0)\n",
    "print(cos_similarity)"
   ]
  },
  {
   "cell_type": "code",
   "execution_count": 124,
   "metadata": {},
   "outputs": [
    {
     "name": "stdout",
     "output_type": "stream",
     "text": [
      "582    453\n",
      "299    281\n",
      "324      0\n",
      "298    456\n",
      "144    150\n",
      "dtype: int64\n"
     ]
    }
   ],
   "source": [
    "df_cos_sim = pd.DataFrame(cos_similarity)\n",
    "max_col_idx = df_cos_sim.idxmax(axis=1)\n",
    "print(max_col_idx.sample(5,random_state=11))"
   ]
  },
  {
   "cell_type": "markdown",
   "metadata": {
    "colab_type": "text",
    "id": "dVMl5fhvvwLx"
   },
   "source": [
    "**2:** Pick 2 Userid's from the underlying data set and surface recommendations for the Userid's you chose\n",
    "\n"
   ]
  },
  {
   "cell_type": "code",
   "execution_count": 126,
   "metadata": {},
   "outputs": [
    {
     "name": "stdout",
     "output_type": "stream",
     "text": [
      "    userId_x  movieId  rating_x  userId_y  rating_y  \\\n",
      "0        583      296       5.0       454       5.0   \n",
      "1        583      318       5.0       454       4.0   \n",
      "2        583      858       5.0       454       5.0   \n",
      "3        583     1213       4.5       454       3.5   \n",
      "4        583     1221       4.5       454       5.0   \n",
      "5        583     2329       4.0       454       3.5   \n",
      "6        583     2858       4.0       454       5.0   \n",
      "7        583     2959       4.0       454       5.0   \n",
      "8        583     6016       4.5       454       5.0   \n",
      "9        583    58559       5.0       454       5.0   \n",
      "10       583    79132       4.5       454       5.0   \n",
      "\n",
      "                                  title  \\\n",
      "0                   Pulp Fiction (1994)   \n",
      "1      Shawshank Redemption, The (1994)   \n",
      "2                 Godfather, The (1972)   \n",
      "3                     Goodfellas (1990)   \n",
      "4        Godfather: Part II, The (1974)   \n",
      "5             American History X (1998)   \n",
      "6                American Beauty (1999)   \n",
      "7                     Fight Club (1999)   \n",
      "8   City of God (Cidade de Deus) (2002)   \n",
      "9               Dark Knight, The (2008)   \n",
      "10                     Inception (2010)   \n",
      "\n",
      "                                             genres  \n",
      "0                       Comedy|Crime|Drama|Thriller  \n",
      "1                                       Crime|Drama  \n",
      "2                                       Crime|Drama  \n",
      "3                                       Crime|Drama  \n",
      "4                                       Crime|Drama  \n",
      "5                                       Crime|Drama  \n",
      "6                                     Drama|Romance  \n",
      "7                       Action|Crime|Drama|Thriller  \n",
      "8             Action|Adventure|Crime|Drama|Thriller  \n",
      "9                           Action|Crime|Drama|IMAX  \n",
      "10  Action|Crime|Drama|Mystery|Sci-Fi|Thriller|IMAX  \n"
     ]
    }
   ],
   "source": [
    "# Question 1b, examine ratings for similar users\n",
    "def review_ratings_by_similar_users(user1, user2):\n",
    "  df_ratings1 = df_ratings[df_ratings.userId == user1]\n",
    "  df_ratings2 = df_ratings[df_ratings.userId == user2]\n",
    "  df_ratings_merged = df_ratings1.merge(df_ratings2, on='movieId', how='inner')\n",
    "  df_common_names = df_ratings_merged.merge(df_movies, on='movieId')\n",
    "  #df_common_names.drop(['timestamp_x', 'timestamp_y'], axis=1, inplace=True)\n",
    "  return df_common_names\n",
    "print(review_ratings_by_similar_users(583, 454))"
   ]
  },
  {
   "cell_type": "markdown",
   "metadata": {
    "colab_type": "text",
    "id": "cbQ8eZbY7kX1"
   },
   "source": [
    "**3:** Pick 2 movies and find movies that are similar to the movies you have picked"
   ]
  },
  {
   "cell_type": "code",
   "execution_count": 127,
   "metadata": {},
   "outputs": [
    {
     "data": {
      "text/html": [
       "<div>\n",
       "<style scoped>\n",
       "    .dataframe tbody tr th:only-of-type {\n",
       "        vertical-align: middle;\n",
       "    }\n",
       "\n",
       "    .dataframe tbody tr th {\n",
       "        vertical-align: top;\n",
       "    }\n",
       "\n",
       "    .dataframe thead th {\n",
       "        text-align: right;\n",
       "    }\n",
       "</style>\n",
       "<table border=\"1\" class=\"dataframe\">\n",
       "  <thead>\n",
       "    <tr style=\"text-align: right;\">\n",
       "      <th>userId</th>\n",
       "      <th>1</th>\n",
       "      <th>2</th>\n",
       "      <th>3</th>\n",
       "      <th>4</th>\n",
       "      <th>5</th>\n",
       "      <th>6</th>\n",
       "      <th>7</th>\n",
       "      <th>8</th>\n",
       "      <th>9</th>\n",
       "      <th>10</th>\n",
       "      <th>...</th>\n",
       "      <th>662</th>\n",
       "      <th>663</th>\n",
       "      <th>664</th>\n",
       "      <th>665</th>\n",
       "      <th>666</th>\n",
       "      <th>667</th>\n",
       "      <th>668</th>\n",
       "      <th>669</th>\n",
       "      <th>670</th>\n",
       "      <th>671</th>\n",
       "    </tr>\n",
       "    <tr>\n",
       "      <th>movieId</th>\n",
       "      <th></th>\n",
       "      <th></th>\n",
       "      <th></th>\n",
       "      <th></th>\n",
       "      <th></th>\n",
       "      <th></th>\n",
       "      <th></th>\n",
       "      <th></th>\n",
       "      <th></th>\n",
       "      <th></th>\n",
       "      <th></th>\n",
       "      <th></th>\n",
       "      <th></th>\n",
       "      <th></th>\n",
       "      <th></th>\n",
       "      <th></th>\n",
       "      <th></th>\n",
       "      <th></th>\n",
       "      <th></th>\n",
       "      <th></th>\n",
       "      <th></th>\n",
       "    </tr>\n",
       "  </thead>\n",
       "  <tbody>\n",
       "    <tr>\n",
       "      <th>1</th>\n",
       "      <td>0.0</td>\n",
       "      <td>0.0</td>\n",
       "      <td>0.0</td>\n",
       "      <td>0.0</td>\n",
       "      <td>0.0</td>\n",
       "      <td>0.0</td>\n",
       "      <td>3.0</td>\n",
       "      <td>0.0</td>\n",
       "      <td>4.0</td>\n",
       "      <td>0.0</td>\n",
       "      <td>...</td>\n",
       "      <td>0.0</td>\n",
       "      <td>4.0</td>\n",
       "      <td>3.5</td>\n",
       "      <td>0.0</td>\n",
       "      <td>0.0</td>\n",
       "      <td>0.0</td>\n",
       "      <td>0.0</td>\n",
       "      <td>0.0</td>\n",
       "      <td>4.0</td>\n",
       "      <td>5.0</td>\n",
       "    </tr>\n",
       "    <tr>\n",
       "      <th>2</th>\n",
       "      <td>0.0</td>\n",
       "      <td>0.0</td>\n",
       "      <td>0.0</td>\n",
       "      <td>0.0</td>\n",
       "      <td>0.0</td>\n",
       "      <td>0.0</td>\n",
       "      <td>0.0</td>\n",
       "      <td>0.0</td>\n",
       "      <td>0.0</td>\n",
       "      <td>0.0</td>\n",
       "      <td>...</td>\n",
       "      <td>5.0</td>\n",
       "      <td>0.0</td>\n",
       "      <td>0.0</td>\n",
       "      <td>3.0</td>\n",
       "      <td>0.0</td>\n",
       "      <td>0.0</td>\n",
       "      <td>0.0</td>\n",
       "      <td>0.0</td>\n",
       "      <td>0.0</td>\n",
       "      <td>0.0</td>\n",
       "    </tr>\n",
       "    <tr>\n",
       "      <th>3</th>\n",
       "      <td>0.0</td>\n",
       "      <td>0.0</td>\n",
       "      <td>0.0</td>\n",
       "      <td>0.0</td>\n",
       "      <td>4.0</td>\n",
       "      <td>0.0</td>\n",
       "      <td>0.0</td>\n",
       "      <td>0.0</td>\n",
       "      <td>0.0</td>\n",
       "      <td>0.0</td>\n",
       "      <td>...</td>\n",
       "      <td>0.0</td>\n",
       "      <td>0.0</td>\n",
       "      <td>0.0</td>\n",
       "      <td>3.0</td>\n",
       "      <td>0.0</td>\n",
       "      <td>0.0</td>\n",
       "      <td>0.0</td>\n",
       "      <td>0.0</td>\n",
       "      <td>0.0</td>\n",
       "      <td>0.0</td>\n",
       "    </tr>\n",
       "    <tr>\n",
       "      <th>4</th>\n",
       "      <td>0.0</td>\n",
       "      <td>0.0</td>\n",
       "      <td>0.0</td>\n",
       "      <td>0.0</td>\n",
       "      <td>0.0</td>\n",
       "      <td>0.0</td>\n",
       "      <td>0.0</td>\n",
       "      <td>0.0</td>\n",
       "      <td>0.0</td>\n",
       "      <td>0.0</td>\n",
       "      <td>...</td>\n",
       "      <td>0.0</td>\n",
       "      <td>0.0</td>\n",
       "      <td>0.0</td>\n",
       "      <td>0.0</td>\n",
       "      <td>0.0</td>\n",
       "      <td>0.0</td>\n",
       "      <td>0.0</td>\n",
       "      <td>0.0</td>\n",
       "      <td>0.0</td>\n",
       "      <td>0.0</td>\n",
       "    </tr>\n",
       "    <tr>\n",
       "      <th>5</th>\n",
       "      <td>0.0</td>\n",
       "      <td>0.0</td>\n",
       "      <td>0.0</td>\n",
       "      <td>0.0</td>\n",
       "      <td>0.0</td>\n",
       "      <td>0.0</td>\n",
       "      <td>0.0</td>\n",
       "      <td>0.0</td>\n",
       "      <td>0.0</td>\n",
       "      <td>0.0</td>\n",
       "      <td>...</td>\n",
       "      <td>0.0</td>\n",
       "      <td>0.0</td>\n",
       "      <td>0.0</td>\n",
       "      <td>3.0</td>\n",
       "      <td>0.0</td>\n",
       "      <td>0.0</td>\n",
       "      <td>0.0</td>\n",
       "      <td>0.0</td>\n",
       "      <td>0.0</td>\n",
       "      <td>0.0</td>\n",
       "    </tr>\n",
       "  </tbody>\n",
       "</table>\n",
       "<p>5 rows × 671 columns</p>\n",
       "</div>"
      ],
      "text/plain": [
       "userId   1    2    3    4    5    6    7    8    9    10  ...   662  663  664  \\\n",
       "movieId                                                   ...                   \n",
       "1        0.0  0.0  0.0  0.0  0.0  0.0  3.0  0.0  4.0  0.0 ...   0.0  4.0  3.5   \n",
       "2        0.0  0.0  0.0  0.0  0.0  0.0  0.0  0.0  0.0  0.0 ...   5.0  0.0  0.0   \n",
       "3        0.0  0.0  0.0  0.0  4.0  0.0  0.0  0.0  0.0  0.0 ...   0.0  0.0  0.0   \n",
       "4        0.0  0.0  0.0  0.0  0.0  0.0  0.0  0.0  0.0  0.0 ...   0.0  0.0  0.0   \n",
       "5        0.0  0.0  0.0  0.0  0.0  0.0  0.0  0.0  0.0  0.0 ...   0.0  0.0  0.0   \n",
       "\n",
       "userId   665  666  667  668  669  670  671  \n",
       "movieId                                     \n",
       "1        0.0  0.0  0.0  0.0  0.0  4.0  5.0  \n",
       "2        3.0  0.0  0.0  0.0  0.0  0.0  0.0  \n",
       "3        3.0  0.0  0.0  0.0  0.0  0.0  0.0  \n",
       "4        0.0  0.0  0.0  0.0  0.0  0.0  0.0  \n",
       "5        3.0  0.0  0.0  0.0  0.0  0.0  0.0  \n",
       "\n",
       "[5 rows x 671 columns]"
      ]
     },
     "execution_count": 127,
     "metadata": {},
     "output_type": "execute_result"
    }
   ],
   "source": [
    "df_movie_pivot = pd.pivot_table(df_ratings, index='movieId', columns='userId',values='rating').fillna(0)\n",
    "df_movie_pivot.head()"
   ]
  },
  {
   "cell_type": "code",
   "execution_count": 128,
   "metadata": {},
   "outputs": [
    {
     "name": "stdout",
     "output_type": "stream",
     "text": [
      "[[ 1.          0.22374218  0.18326579 ... -0.0281574  -0.0281574\n",
      "   0.04097762]\n",
      " [ 0.22374218  1.          0.12379014 ... -0.01619963 -0.01619963\n",
      "  -0.01619963]\n",
      " [ 0.18326579  0.12379014  1.         ... -0.01122147 -0.01122147\n",
      "  -0.01122147]\n",
      " ...\n",
      " [-0.0281574  -0.01619963 -0.01122147 ...  1.          1.\n",
      "  -0.00149254]\n",
      " [-0.0281574  -0.01619963 -0.01122147 ...  1.          1.\n",
      "  -0.00149254]\n",
      " [ 0.04097762 -0.01619963 -0.01122147 ... -0.00149254 -0.00149254\n",
      "   1.        ]]\n"
     ]
    }
   ],
   "source": [
    "corr_sim = 1 - pairwise_distances(df_movie_pivot.as_matrix(), metric='correlation')\n",
    "print(corr_sim)"
   ]
  },
  {
   "cell_type": "code",
   "execution_count": 129,
   "metadata": {},
   "outputs": [
    {
     "name": "stdout",
     "output_type": "stream",
     "text": [
      "          0         1         2         3         4         5         6     \\\n",
      "0     1.000000  0.223742  0.183266  0.071055  0.105076  0.201503  0.156075   \n",
      "1     0.223742  1.000000  0.123790  0.125014  0.193144  0.085889  0.117211   \n",
      "2     0.183266  0.123790  1.000000  0.147771  0.317911  0.158071  0.390331   \n",
      "3     0.071055  0.125014  0.147771  1.000000  0.150562  0.024466  0.156876   \n",
      "4     0.105076  0.193144  0.317911  0.150562  1.000000  0.186936  0.339605   \n",
      "5     0.201503  0.085889  0.158071  0.024466  0.186936  1.000000  0.198062   \n",
      "6     0.156075  0.117211  0.390331  0.156876  0.339605  0.198062  1.000000   \n",
      "7     0.019379  0.209299  0.109818  0.496859  0.179371  0.072355  0.181772   \n",
      "8     0.023699  0.053810  0.274638  0.238193  0.339402  0.201880  0.321178   \n",
      "9     0.089163  0.306685  0.086065  0.063511  0.150292  0.175972  0.075798   \n",
      "10    0.168445  0.186660  0.139719  0.116366  0.220251  0.182425  0.311394   \n",
      "11    0.124866  0.022262  0.146940 -0.020366  0.153043  0.101210  0.275227   \n",
      "12    0.104330  0.193984  0.086027  0.121058  0.141789 -0.006978  0.184156   \n",
      "13    0.084322 -0.027977  0.197579  0.057330  0.121293  0.201999  0.199577   \n",
      "14    0.124011  0.129813  0.128406  0.011077  0.050475  0.065381  0.087972   \n",
      "15    0.151788  0.116455  0.104210  0.057031  0.079226  0.340582  0.033242   \n",
      "16    0.189902  0.102538  0.143843  0.053721  0.172422  0.135160  0.293253   \n",
      "17    0.095866  0.023256  0.133872 -0.010675  0.060120  0.145473  0.123350   \n",
      "18    0.135996  0.332850  0.125513  0.004150  0.173279  0.169321  0.071982   \n",
      "19   -0.004981  0.154403  0.110500  0.212227  0.111728  0.127220  0.048858   \n",
      "20    0.155692  0.171911  0.073490  0.144420  0.078806  0.271003  0.135149   \n",
      "21    0.055644  0.186186  0.150956  0.052999  0.143616  0.296532  0.127805   \n",
      "22    0.030219  0.118357  0.138327 -0.001042  0.130255  0.218653  0.064583   \n",
      "23    0.015429  0.105813 -0.042559  0.096182  0.068041  0.083050  0.012604   \n",
      "24    0.164657  0.069189  0.169360  0.049211  0.162120  0.421901  0.247552   \n",
      "25    0.092841  0.012438  0.083668 -0.011165  0.139148  0.036382  0.120309   \n",
      "26    0.030719  0.113334  0.099800 -0.013209  0.092060  0.135475  0.123412   \n",
      "27    0.094342  0.048204 -0.010261 -0.021397  0.013402  0.102548  0.119321   \n",
      "28    0.150208  0.087829 -0.030820  0.090626 -0.025829  0.143669  0.022888   \n",
      "29    0.083715  0.032128  0.067316 -0.015754  0.050085  0.121363  0.114580   \n",
      "...        ...       ...       ...       ...       ...       ...       ...   \n",
      "9036  0.060655  0.072709 -0.015846 -0.007163  0.105633  0.138543 -0.015095   \n",
      "9037 -0.028157  0.103250 -0.011221 -0.005073 -0.011165 -0.016119 -0.010689   \n",
      "9038  0.011348  0.043525 -0.011221 -0.005073  0.173054  0.090970 -0.010689   \n",
      "9039 -0.028157  0.133113 -0.011221 -0.005073 -0.011165  0.077584 -0.010689   \n",
      "9040 -0.023134 -0.001605 -0.014201 -0.006419  0.044152  0.013481 -0.013527   \n",
      "9041  0.070607  0.058457 -0.011221 -0.005073 -0.011165  0.104356 -0.010689   \n",
      "9042  0.011348  0.043525 -0.011221 -0.005073  0.173054  0.090970 -0.010689   \n",
      "9043  0.011348  0.043525 -0.011221 -0.005073  0.173054  0.090970 -0.010689   \n",
      "9044  0.055076  0.071303 -0.015846 -0.007163  0.122975  0.137282 -0.015095   \n",
      "9045  0.011348  0.043525 -0.011221 -0.005073  0.173054  0.090970 -0.010689   \n",
      "9046  0.011348  0.043525 -0.011221 -0.005073  0.173054  0.090970 -0.010689   \n",
      "9047  0.011348  0.043525 -0.011221 -0.005073  0.173054  0.090970 -0.010689   \n",
      "9048  0.034091  0.088793 -0.015854 -0.007167 -0.015774 -0.022774 -0.015102   \n",
      "9049  0.070607  0.073388  0.109898 -0.005073  0.111648 -0.016119 -0.010689   \n",
      "9050  0.071276  0.139744 -0.013613 -0.006154  0.031151  0.006428 -0.012967   \n",
      "9051  0.011348  0.043525 -0.011221 -0.005073  0.173054  0.090970 -0.010689   \n",
      "9052  0.011348  0.043525 -0.011221 -0.005073  0.173054  0.090970 -0.010689   \n",
      "9053  0.050854 -0.016200 -0.011221 -0.005073 -0.011165 -0.016119 -0.010689   \n",
      "9054  0.040978 -0.016200 -0.011221 -0.005073 -0.011165  0.050812  0.071754   \n",
      "9055  0.040978 -0.016200 -0.011221 -0.005073 -0.011165  0.050812  0.071754   \n",
      "9056  0.040978 -0.016200 -0.011221 -0.005073 -0.011165  0.050812  0.071754   \n",
      "9057  0.011348  0.043525 -0.011221 -0.005073  0.173054  0.090970 -0.010689   \n",
      "9058  0.070607  0.058457 -0.011221 -0.005073 -0.011165  0.104356 -0.010689   \n",
      "9059  0.070607  0.073388  0.109898 -0.005073  0.111648 -0.016119 -0.010689   \n",
      "9060  0.070607  0.073388  0.109898 -0.005073  0.111648 -0.016119 -0.010689   \n",
      "9061  0.070607  0.133113 -0.011221 -0.005073 -0.011165 -0.016119 -0.010689   \n",
      "9062  0.070607  0.058457 -0.011221 -0.005073 -0.011165  0.104356 -0.010689   \n",
      "9063 -0.028157 -0.016200 -0.011221 -0.005073 -0.011165 -0.016119 -0.010689   \n",
      "9064 -0.028157 -0.016200 -0.011221 -0.005073 -0.011165 -0.016119 -0.010689   \n",
      "9065  0.040978 -0.016200 -0.011221 -0.005073 -0.011165  0.050812  0.071754   \n",
      "\n",
      "          7         8         9       ...         9056      9057      9058  \\\n",
      "0     0.019379  0.023699  0.089163    ...     0.040978  0.011348  0.070607   \n",
      "1     0.209299  0.053810  0.306685    ...    -0.016200  0.043525  0.058457   \n",
      "2     0.109818  0.274638  0.086065    ...    -0.011221 -0.011221 -0.011221   \n",
      "3     0.496859  0.238193  0.063511    ...    -0.005073 -0.005073 -0.005073   \n",
      "4     0.179371  0.339402  0.150292    ...    -0.011165  0.173054 -0.011165   \n",
      "5     0.072355  0.201880  0.175972    ...     0.050812  0.090970  0.104356   \n",
      "6     0.181772  0.321178  0.075798    ...     0.071754 -0.010689 -0.010689   \n",
      "7     1.000000  0.255420  0.009551    ...    -0.003121 -0.003121 -0.003121   \n",
      "8     0.255420  1.000000  0.067804    ...    -0.006561 -0.006561 -0.006561   \n",
      "9     0.009551  0.067804  1.000000    ...    -0.017686  0.066880  0.066880   \n",
      "10    0.110522  0.171992  0.164696    ...     0.078940  0.063456 -0.013960   \n",
      "11   -0.012528  0.218807  0.100401    ...    -0.005992 -0.005992 -0.005992   \n",
      "12    0.136644  0.215217  0.010495    ...    -0.004132 -0.004132 -0.004132   \n",
      "13    0.074210  0.268310 -0.018490    ...     0.173693  0.121698 -0.008291   \n",
      "14   -0.009767  0.056658  0.129748    ...    -0.004671 -0.004671  0.302634   \n",
      "15    0.109109  0.073542  0.170835    ...     0.098199  0.084098  0.098199   \n",
      "16    0.017106  0.120182  0.080779    ...     0.128425  0.071310 -0.014364   \n",
      "17    0.035158  0.019870  0.037648    ...    -0.007297 -0.007297 -0.007297   \n",
      "18   -0.029416  0.142110  0.295792    ...    -0.014069  0.025431  0.045181   \n",
      "19    0.263208  0.117217  0.156092    ...    -0.004888 -0.004888 -0.004888   \n",
      "20    0.166403  0.097088  0.252030    ...     0.104814  0.119790  0.089837   \n",
      "21   -0.018996  0.123546  0.225439    ...    -0.009086  0.110455 -0.009086   \n",
      "22    0.103998  0.171560  0.167902    ...    -0.006805 -0.006805 -0.006805   \n",
      "23    0.131361  0.129393  0.007707    ...    -0.008343 -0.008343 -0.008343   \n",
      "24    0.116140  0.131745  0.109442    ...     0.108493  0.067154  0.108493   \n",
      "25   -0.006868  0.098099 -0.001853    ...    -0.003285 -0.003285 -0.003285   \n",
      "26   -0.008125 -0.017084  0.084065    ...    -0.003886 -0.003886 -0.003886   \n",
      "27    0.012135 -0.027674  0.030144    ...    -0.006295 -0.006295 -0.006295   \n",
      "28   -0.019925  0.041248  0.034639    ...    -0.009530 -0.009530 -0.009530   \n",
      "29   -0.009691  0.043928  0.093143    ...    -0.004635 -0.004635 -0.004635   \n",
      "...        ...       ...       ...    ...          ...       ...       ...   \n",
      "9036 -0.004407 -0.009265  0.094443    ...    -0.002108  0.657868  0.752150   \n",
      "9037 -0.003121 -0.006561 -0.017686    ...    -0.001493 -0.001493 -0.001493   \n",
      "9038 -0.003121 -0.006561  0.066880    ...    -0.001493  1.000000 -0.001493   \n",
      "9039 -0.003121 -0.006561 -0.017686    ...    -0.001493 -0.001493 -0.001493   \n",
      "9040 -0.003949 -0.008303  0.004373    ...    -0.001889  0.314953 -0.001889   \n",
      "9041 -0.003121 -0.006561  0.066880    ...    -0.001493 -0.001493  1.000000   \n",
      "9042 -0.003121 -0.006561  0.066880    ...    -0.001493  1.000000 -0.001493   \n",
      "9043 -0.003121 -0.006561  0.066880    ...    -0.001493  1.000000 -0.001493   \n",
      "9044 -0.004407 -0.009265  0.094443    ...    -0.002108  0.752150  0.657868   \n",
      "9045 -0.003121 -0.006561  0.066880    ...    -0.001493  1.000000 -0.001493   \n",
      "9046 -0.003121 -0.006561  0.066880    ...    -0.001493  1.000000 -0.001493   \n",
      "9047 -0.003121 -0.006561  0.066880    ...    -0.001493  1.000000 -0.001493   \n",
      "9048 -0.004409 -0.009270 -0.024988    ...    -0.002109 -0.002109 -0.002109   \n",
      "9049 -0.003121 -0.006561  0.095069    ...    -0.001493 -0.001493 -0.001493   \n",
      "9050 -0.003786 -0.007959 -0.000938    ...    -0.001811  0.241172 -0.001811   \n",
      "9051 -0.003121 -0.006561  0.066880    ...    -0.001493  1.000000 -0.001493   \n",
      "9052 -0.003121 -0.006561  0.066880    ...    -0.001493  1.000000 -0.001493   \n",
      "9053 -0.003121 -0.006561  0.095069    ...    -0.001493 -0.001493 -0.001493   \n",
      "9054 -0.003121 -0.006561 -0.017686    ...     1.000000 -0.001493 -0.001493   \n",
      "9055 -0.003121 -0.006561 -0.017686    ...     1.000000 -0.001493 -0.001493   \n",
      "9056 -0.003121 -0.006561 -0.017686    ...     1.000000 -0.001493 -0.001493   \n",
      "9057 -0.003121 -0.006561  0.066880    ...    -0.001493  1.000000 -0.001493   \n",
      "9058 -0.003121 -0.006561  0.066880    ...    -0.001493 -0.001493  1.000000   \n",
      "9059 -0.003121 -0.006561  0.095069    ...    -0.001493 -0.001493 -0.001493   \n",
      "9060 -0.003121 -0.006561  0.095069    ...    -0.001493 -0.001493 -0.001493   \n",
      "9061 -0.003121 -0.006561 -0.017686    ...    -0.001493 -0.001493 -0.001493   \n",
      "9062 -0.003121 -0.006561  0.066880    ...    -0.001493 -0.001493  1.000000   \n",
      "9063 -0.003121 -0.006561 -0.017686    ...    -0.001493 -0.001493 -0.001493   \n",
      "9064 -0.003121 -0.006561 -0.017686    ...    -0.001493 -0.001493 -0.001493   \n",
      "9065 -0.003121 -0.006561 -0.017686    ...     1.000000 -0.001493 -0.001493   \n",
      "\n",
      "          9059      9060      9061      9062      9063      9064      9065  \n",
      "0     0.070607  0.070607  0.070607  0.070607 -0.028157 -0.028157  0.040978  \n",
      "1     0.073388  0.073388  0.133113  0.058457 -0.016200 -0.016200 -0.016200  \n",
      "2     0.109898  0.109898 -0.011221 -0.011221 -0.011221 -0.011221 -0.011221  \n",
      "3    -0.005073 -0.005073 -0.005073 -0.005073 -0.005073 -0.005073 -0.005073  \n",
      "4     0.111648  0.111648 -0.011165 -0.011165 -0.011165 -0.011165 -0.011165  \n",
      "5    -0.016119 -0.016119 -0.016119  0.104356 -0.016119 -0.016119  0.050812  \n",
      "6    -0.010689 -0.010689 -0.010689 -0.010689 -0.010689 -0.010689  0.071754  \n",
      "7    -0.003121 -0.003121 -0.003121 -0.003121 -0.003121 -0.003121 -0.003121  \n",
      "8    -0.006561 -0.006561 -0.006561 -0.006561 -0.006561 -0.006561 -0.006561  \n",
      "9     0.095069  0.095069 -0.017686  0.066880 -0.017686 -0.017686 -0.017686  \n",
      "10   -0.013960 -0.013960 -0.013960 -0.013960 -0.013960 -0.013960  0.078940  \n",
      "11    0.150156  0.150156 -0.005992 -0.005992 -0.005992 -0.005992 -0.005992  \n",
      "12   -0.004132 -0.004132  0.391950 -0.004132 -0.004132 -0.004132 -0.004132  \n",
      "13   -0.008291 -0.008291 -0.008291 -0.008291 -0.008291 -0.008291  0.173693  \n",
      "14   -0.004671 -0.004671 -0.004671  0.302634 -0.004671 -0.004671 -0.004671  \n",
      "15    0.126399  0.126399 -0.014605  0.098199 -0.014605 -0.014605  0.098199  \n",
      "16   -0.014364 -0.014364 -0.014364 -0.014364 -0.014364 -0.014364  0.128425  \n",
      "17   -0.007297 -0.007297 -0.007297 -0.007297 -0.007297 -0.007297 -0.007297  \n",
      "18    0.064931  0.064931 -0.014069  0.045181 -0.014069 -0.014069 -0.014069  \n",
      "19    0.293290  0.293290 -0.004888 -0.004888 -0.004888 -0.004888 -0.004888  \n",
      "20    0.044907  0.044907 -0.014999  0.089837 -0.014999 -0.014999  0.104814  \n",
      "21   -0.009086 -0.009086 -0.009086 -0.009086 -0.009086 -0.009086 -0.009086  \n",
      "22   -0.006805 -0.006805 -0.006805 -0.006805 -0.006805 -0.006805 -0.006805  \n",
      "23   -0.008343 -0.008343 -0.008343 -0.008343 -0.008343 -0.008343 -0.008343  \n",
      "24   -0.015525 -0.015525 -0.015525  0.108493 -0.015525 -0.015525  0.108493  \n",
      "25   -0.003285 -0.003285 -0.003285 -0.003285 -0.003285 -0.003285 -0.003285  \n",
      "26   -0.003886 -0.003886 -0.003886 -0.003886 -0.003886 -0.003886 -0.003886  \n",
      "27   -0.006295 -0.006295 -0.006295 -0.006295 -0.006295 -0.006295 -0.006295  \n",
      "28   -0.009530 -0.009530 -0.009530 -0.009530 -0.009530 -0.009530 -0.009530  \n",
      "29   -0.004635 -0.004635 -0.004635 -0.004635 -0.004635 -0.004635 -0.004635  \n",
      "...        ...       ...       ...       ...       ...       ...       ...  \n",
      "9036 -0.002108 -0.002108 -0.002108  0.752150 -0.002108 -0.002108 -0.002108  \n",
      "9037 -0.001493 -0.001493 -0.001493 -0.001493 -0.001493 -0.001493 -0.001493  \n",
      "9038 -0.001493 -0.001493 -0.001493 -0.001493 -0.001493 -0.001493 -0.001493  \n",
      "9039 -0.001493 -0.001493 -0.001493 -0.001493 -0.001493 -0.001493 -0.001493  \n",
      "9040 -0.001889 -0.001889 -0.001889 -0.001889 -0.001889 -0.001889 -0.001889  \n",
      "9041 -0.001493 -0.001493 -0.001493  1.000000 -0.001493 -0.001493 -0.001493  \n",
      "9042 -0.001493 -0.001493 -0.001493 -0.001493 -0.001493 -0.001493 -0.001493  \n",
      "9043 -0.001493 -0.001493 -0.001493 -0.001493 -0.001493 -0.001493 -0.001493  \n",
      "9044 -0.002108 -0.002108 -0.002108  0.657868 -0.002108 -0.002108 -0.002108  \n",
      "9045 -0.001493 -0.001493 -0.001493 -0.001493 -0.001493 -0.001493 -0.001493  \n",
      "9046 -0.001493 -0.001493 -0.001493 -0.001493 -0.001493 -0.001493 -0.001493  \n",
      "9047 -0.001493 -0.001493 -0.001493 -0.001493 -0.001493 -0.001493 -0.001493  \n",
      "9048 -0.002109 -0.002109  0.746972 -0.002109 -0.002109 -0.002109 -0.002109  \n",
      "9049  1.000000  1.000000 -0.001493 -0.001493 -0.001493 -0.001493 -0.001493  \n",
      "9050 -0.001811 -0.001811  0.970121 -0.001811 -0.001811 -0.001811 -0.001811  \n",
      "9051 -0.001493 -0.001493 -0.001493 -0.001493 -0.001493 -0.001493 -0.001493  \n",
      "9052 -0.001493 -0.001493 -0.001493 -0.001493 -0.001493 -0.001493 -0.001493  \n",
      "9053 -0.001493 -0.001493 -0.001493 -0.001493 -0.001493 -0.001493 -0.001493  \n",
      "9054 -0.001493 -0.001493 -0.001493 -0.001493 -0.001493 -0.001493  1.000000  \n",
      "9055 -0.001493 -0.001493 -0.001493 -0.001493 -0.001493 -0.001493  1.000000  \n",
      "9056 -0.001493 -0.001493 -0.001493 -0.001493 -0.001493 -0.001493  1.000000  \n",
      "9057 -0.001493 -0.001493 -0.001493 -0.001493 -0.001493 -0.001493 -0.001493  \n",
      "9058 -0.001493 -0.001493 -0.001493  1.000000 -0.001493 -0.001493 -0.001493  \n",
      "9059  1.000000  1.000000 -0.001493 -0.001493 -0.001493 -0.001493 -0.001493  \n",
      "9060  1.000000  1.000000 -0.001493 -0.001493 -0.001493 -0.001493 -0.001493  \n",
      "9061 -0.001493 -0.001493  1.000000 -0.001493 -0.001493 -0.001493 -0.001493  \n",
      "9062 -0.001493 -0.001493 -0.001493  1.000000 -0.001493 -0.001493 -0.001493  \n",
      "9063 -0.001493 -0.001493 -0.001493 -0.001493  1.000000  1.000000 -0.001493  \n",
      "9064 -0.001493 -0.001493 -0.001493 -0.001493  1.000000  1.000000 -0.001493  \n",
      "9065 -0.001493 -0.001493 -0.001493 -0.001493 -0.001493 -0.001493  1.000000  \n",
      "\n",
      "[9066 rows x 9066 columns]\n"
     ]
    }
   ],
   "source": [
    "df_corr_sim = pd.DataFrame(corr_sim)\n",
    "print(df_corr_sim)"
   ]
  },
  {
   "cell_type": "code",
   "execution_count": 130,
   "metadata": {},
   "outputs": [],
   "source": [
    "def retrieve_similar_movies(movieId, n=5):\n",
    "  # Retrieve the correlation similarity coefficients for the given movie\n",
    "  df_movies['corr_similarity'] = df_corr_sim.iloc[movieId - 1]\n",
    "  top_similar_items = df_movies.sort_values(['corr_similarity'],\n",
    "                                            ascending=False)[1:n+1]\n",
    "  print(top_similar_items)"
   ]
  },
  {
   "cell_type": "code",
   "execution_count": 133,
   "metadata": {},
   "outputs": [
    {
     "name": "stdout",
     "output_type": "stream",
     "text": [
      "Pulp Fiction \n",
      "\n",
      "      movieId                                              title  \\\n",
      "6475    46965                           Snakes on a Plane (2006)   \n",
      "6323    42013                                 Ringer, The (2005)   \n",
      "6331    42632  Lady Vengeance (Sympathy for Lady Vengeance) (...   \n",
      "6340    42732                                Last Holiday (2006)   \n",
      "6342    42738                       Underworld: Evolution (2006)   \n",
      "\n",
      "                             genres  corr_similarity  \n",
      "6475  Action|Comedy|Horror|Thriller              1.0  \n",
      "6323                         Comedy              1.0  \n",
      "6331   Crime|Drama|Mystery|Thriller              1.0  \n",
      "6340                         Comedy              1.0  \n",
      "6342          Action|Fantasy|Horror              1.0  \n",
      "\n",
      "City of God\n",
      "\n",
      "     movieId                          title                   genres  \\\n",
      "308      343  Baby-Sitters Club, The (1995)                 Children   \n",
      "215      243                   Gordy (1995)  Children|Comedy|Fantasy   \n",
      "177      201            Three Wishes (1995)            Drama|Fantasy   \n",
      "3          4       Waiting to Exhale (1995)     Comedy|Drama|Romance   \n",
      "279      313      Swan Princess, The (1994)       Animation|Children   \n",
      "\n",
      "     corr_similarity  \n",
      "308         0.547899  \n",
      "215         0.547899  \n",
      "177         0.547899  \n",
      "3           0.496859  \n",
      "279         0.494115  \n"
     ]
    }
   ],
   "source": [
    "print('Pulp Fiction','\\n')\n",
    "retrieve_similar_movies(0)  # Pulp Fiction\n",
    "print('\\nCity of God\\n')\n",
    "retrieve_similar_movies(8) # City of God"
   ]
  },
  {
   "cell_type": "code",
   "execution_count": null,
   "metadata": {},
   "outputs": [],
   "source": []
  },
  {
   "cell_type": "code",
   "execution_count": null,
   "metadata": {
    "colab": {},
    "colab_type": "code",
    "id": "m3krOt_kPUQF"
   },
   "outputs": [],
   "source": []
  },
  {
   "cell_type": "code",
   "execution_count": null,
   "metadata": {
    "colab": {},
    "colab_type": "code",
    "id": "i9Tej0OF7jMp"
   },
   "outputs": [],
   "source": []
  },
  {
   "cell_type": "markdown",
   "metadata": {
    "colab_type": "text",
    "id": "3DE2aZMdPWNX"
   },
   "source": [
    "**Strech goal 1**:  Measure Recommendation Accuracy - compute the RMSE RMSE to ascertain the difference between the user's actual movie ratings and the ratings that were predicted for the same movies.\n",
    "\n",
    "*Hint*: You will need to split the underlying data set. 70% of the 'User Movie Ratings' data set will constitute the *Training* dataset and 30% of the 'User Movie Ratings' dataset will constitute the* Testing *data set "
   ]
  },
  {
   "cell_type": "code",
   "execution_count": null,
   "metadata": {
    "colab": {},
    "colab_type": "code",
    "id": "VQhF6diYG1vG"
   },
   "outputs": [],
   "source": []
  },
  {
   "cell_type": "markdown",
   "metadata": {
    "colab_type": "text",
    "id": "GAmQxxIn1u5p"
   },
   "source": [
    "**Stretch goal 2**: Publish the Collaborative Filtering process that you understook as a blog post. Some suggested topics to consider:\n",
    "\n",
    "\n",
    "1) Matrix Factorization step - what is the purpose of performing Matrix Factorization?\n",
    "\n",
    "2) Recommendation Accuracy - summarize your findings? \n",
    "\n",
    "3) The actual recommendations that were surfaced\n",
    "\n",
    "*Include a link to your blog post in your submission*\n",
    "\n"
   ]
  }
 ],
 "metadata": {
  "colab": {
   "name": "Association and Collaborative Filtering Sprint Challenge.ipynb",
   "provenance": [],
   "version": "0.3.2"
  },
  "kernelspec": {
   "display_name": "Python 3",
   "language": "python",
   "name": "python3"
  },
  "language_info": {
   "codemirror_mode": {
    "name": "ipython",
    "version": 3
   },
   "file_extension": ".py",
   "mimetype": "text/x-python",
   "name": "python",
   "nbconvert_exporter": "python",
   "pygments_lexer": "ipython3",
   "version": "3.6.4"
  }
 },
 "nbformat": 4,
 "nbformat_minor": 2
}
