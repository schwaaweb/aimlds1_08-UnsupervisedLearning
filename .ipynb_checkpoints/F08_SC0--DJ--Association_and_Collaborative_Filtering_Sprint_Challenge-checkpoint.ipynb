{
 "cells": [
  {
   "cell_type": "markdown",
   "metadata": {
    "colab_type": "text",
    "id": "view-in-github"
   },
   "source": [
    "[View in Colaboratory](https://colab.research.google.com/github/schwaaweb/aimlds1_08-UnsupervisedLearning/blob/master/F08_SC0--DJ--Association_and_Collaborative_Filtering_Sprint_Challenge.ipynb)"
   ]
  },
  {
   "cell_type": "markdown",
   "metadata": {
    "colab_type": "text",
    "id": "9Siy77yANn8h"
   },
   "source": [
    "## **Association Sprint Challenge**\n",
    "\n",
    "\n",
    "The journey into Association, a form of Unsupervised Machine Learning exposed you to the concepts of:\n",
    "\n",
    "a) Market Basket Analysis \n",
    "\n",
    "b) Collaborative Filtering (including Matrix Factorization)\n",
    "\n",
    "The purpose of this Sprint Challenge is to solidify your understanding of the Association Rule Learning topics covered this week by providing additional practice.\n",
    "\n",
    "In this Sprint Challenge, we are going to use a few different data sets:\n",
    "\n",
    "**Store Transactions data set**: https://www.dropbox.com/s/v3wdo3nzl41vxcd/Store_Transactions.csv?raw=1\n",
    "\n",
    "**Movies data set**: https://www.dropbox.com/s/qo7v9k5rcwt7wgh/movies.csv?raw=1\n",
    "\n",
    "**User Movie Ratings data set**: https://www.dropbox.com/s/piypmzeucyz160l/ratings_small.csv?raw=1\n",
    "\n",
    "\n",
    "**Smaller Dataset to Start**: https://www.dropbox.com/s/4ec9l887mth6rep/movie_ratings.csv?raw=1\n",
    "\n",
    "\n",
    "**Some Tips**:\n",
    "\n",
    "1) You *may* need to prepare the data.\n",
    "\n",
    "2) You will have to transpose the data set so that you get a proper representation of the underlying data set that can be feed into the Apriori Algorithm\n",
    "\n",
    "Create solutions for the following code blocks. This exercise should take ~ 1.5 - 2 hours.\n",
    "\n",
    "Share with mlsubmissions@lambdaschool.com when finished.\n"
   ]
  },
  {
   "cell_type": "code",
   "execution_count": 2,
   "metadata": {
    "colab": {},
    "colab_type": "code",
    "id": "uGBw5qIacaoG"
   },
   "outputs": [],
   "source": [
    "# LAMBDA SCHOOL\n",
    "#\n",
    "# MACHINE LEARNING\n",
    "#\n",
    "# MIT LICENSE\n",
    "\n",
    "import numpy as np\n",
    "import matplotlib.pyplot as plt\n",
    "import pandas as pd\n",
    "from pandas import Series, DataFrame"
   ]
  },
  {
   "cell_type": "code",
   "execution_count": 3,
   "metadata": {
    "colab": {},
    "colab_type": "code",
    "id": "kOiVkm3voWkz"
   },
   "outputs": [],
   "source": [
    "#Install the MLxtend package\n",
    "\n",
    "#!pip install MLxtend\n",
    "\n",
    "### This is what I use for Anaconda\n",
    "#%%bash\n",
    "#conda install -c conda-forge mlxtend"
   ]
  },
  {
   "cell_type": "code",
   "execution_count": 4,
   "metadata": {
    "colab": {},
    "colab_type": "code",
    "id": "d-HHff1hoaLu"
   },
   "outputs": [],
   "source": [
    "from mlxtend.frequent_patterns import apriori\n",
    "from mlxtend.frequent_patterns import association_rules\n",
    "from mlxtend.preprocessing import OnehotTransactions\n",
    "from mlxtend.preprocessing import TransactionEncoder"
   ]
  },
  {
   "cell_type": "markdown",
   "metadata": {
    "colab_type": "text",
    "id": "ndoWJD5htDwf"
   },
   "source": [
    "### Identifying Frequent Itemsets and Association Rules"
   ]
  },
  {
   "cell_type": "markdown",
   "metadata": {
    "colab_type": "text",
    "id": "TDqaOQbrtt9-"
   },
   "source": [
    "**Dataset:**\n",
    "\n",
    "Store Transactions: https://www.dropbox.com/s/v3wdo3nzl41vxcd/Store_Transactions.csv?raw=1"
   ]
  },
  {
   "cell_type": "code",
   "execution_count": 5,
   "metadata": {},
   "outputs": [
    {
     "name": "stdout",
     "output_type": "stream",
     "text": [
      "--2018-05-25 11:50:09--  https://www.dropbox.com/s/v3wdo3nzl41vxcd/Store_Transactions.csv?raw=1\n",
      "Resolving www.dropbox.com (www.dropbox.com)... 162.125.5.1\n",
      "Connecting to www.dropbox.com (www.dropbox.com)|162.125.5.1|:443... connected.\n",
      "HTTP request sent, awaiting response... 302 Found\n",
      "Location: https://dl.dropboxusercontent.com/content_link/jOqcwd1gxRb7JRB9PjpaZ0r4oQ14sP11fPNvs7h9VOVKMmCcWXQPL4bUXY3n7fMC/file [following]\n",
      "--2018-05-25 11:50:10--  https://dl.dropboxusercontent.com/content_link/jOqcwd1gxRb7JRB9PjpaZ0r4oQ14sP11fPNvs7h9VOVKMmCcWXQPL4bUXY3n7fMC/file\n",
      "Resolving dl.dropboxusercontent.com (dl.dropboxusercontent.com)... 162.125.5.6\n",
      "Connecting to dl.dropboxusercontent.com (dl.dropboxusercontent.com)|162.125.5.6|:443... connected.\n",
      "HTTP request sent, awaiting response... 200 OK\n",
      "Length: 34386 (34K) [text/csv]\n",
      "Saving to: ‘Store_Transactions.csv?raw=1’\n",
      "\n",
      "Store_Transactions. 100%[===================>]  33.58K  --.-KB/s    in 0.01s   \n",
      "\n",
      "2018-05-25 11:50:10 (3.43 MB/s) - ‘Store_Transactions.csv?raw=1’ saved [34386/34386]\n",
      "\n",
      "total 72\n",
      "-rw-r--r--@ 1 darwinm  staff    34K May 25 11:50 Store_Transactions.csv\n"
     ]
    }
   ],
   "source": [
    "#!mkdir sc_data && cd sc_data && wget -c https://www.dropbox.com/s/v3wdo3nzl41vxcd/Store_Transactions.csv?raw=1 && mv Store_Transactions.csv?raw=1 Store_Transactions.csv && ls -lh \n",
    "    "
   ]
  },
  {
   "cell_type": "markdown",
   "metadata": {
    "colab_type": "text",
    "id": "A9HQ9tiwcKLF"
   },
   "source": [
    "**1:** Utilize the Apriori Algorithm to uncover frequent itemsets"
   ]
  },
  {
   "cell_type": "code",
   "execution_count": 9,
   "metadata": {
    "colab": {},
    "colab_type": "code",
    "id": "2lsCzG_bcJCU"
   },
   "outputs": [
    {
     "data": {
      "text/html": [
       "<div>\n",
       "<style scoped>\n",
       "    .dataframe tbody tr th:only-of-type {\n",
       "        vertical-align: middle;\n",
       "    }\n",
       "\n",
       "    .dataframe tbody tr th {\n",
       "        vertical-align: top;\n",
       "    }\n",
       "\n",
       "    .dataframe thead th {\n",
       "        text-align: right;\n",
       "    }\n",
       "</style>\n",
       "<table border=\"1\" class=\"dataframe\">\n",
       "  <thead>\n",
       "    <tr style=\"text-align: right;\">\n",
       "      <th></th>\n",
       "      <th>Rowid</th>\n",
       "      <th>Transaction_id</th>\n",
       "      <th>Product_id</th>\n",
       "      <th>Quantity</th>\n",
       "    </tr>\n",
       "  </thead>\n",
       "  <tbody>\n",
       "    <tr>\n",
       "      <th>0</th>\n",
       "      <td>1</td>\n",
       "      <td>370</td>\n",
       "      <td>154</td>\n",
       "      <td>3</td>\n",
       "    </tr>\n",
       "    <tr>\n",
       "      <th>1</th>\n",
       "      <td>2</td>\n",
       "      <td>41</td>\n",
       "      <td>40</td>\n",
       "      <td>3</td>\n",
       "    </tr>\n",
       "    <tr>\n",
       "      <th>2</th>\n",
       "      <td>3</td>\n",
       "      <td>109</td>\n",
       "      <td>173</td>\n",
       "      <td>3</td>\n",
       "    </tr>\n",
       "    <tr>\n",
       "      <th>3</th>\n",
       "      <td>4</td>\n",
       "      <td>556</td>\n",
       "      <td>11</td>\n",
       "      <td>4</td>\n",
       "    </tr>\n",
       "    <tr>\n",
       "      <th>4</th>\n",
       "      <td>5</td>\n",
       "      <td>143</td>\n",
       "      <td>72</td>\n",
       "      <td>1</td>\n",
       "    </tr>\n",
       "  </tbody>\n",
       "</table>\n",
       "</div>"
      ],
      "text/plain": [
       "   Rowid  Transaction_id  Product_id  Quantity\n",
       "0      1             370         154         3\n",
       "1      2              41          40         3\n",
       "2      3             109         173         3\n",
       "3      4             556          11         4\n",
       "4      5             143          72         1"
      ]
     },
     "execution_count": 9,
     "metadata": {},
     "output_type": "execute_result"
    }
   ],
   "source": [
    "df_store = pd.read_csv('sc_data/Store_Transactions.csv')\n",
    "df_store.shape\n",
    "df_store.head()"
   ]
  },
  {
   "cell_type": "code",
   "execution_count": 23,
   "metadata": {},
   "outputs": [
    {
     "name": "stdout",
     "output_type": "stream",
     "text": [
      "Rowid             int64\n",
      "Transaction_id    int64\n",
      "Product_id        int64\n",
      "Quantity          int64\n",
      "dtype: object \n",
      "\n",
      "Rowid             0\n",
      "Transaction_id    0\n",
      "Product_id        0\n",
      "Quantity          0\n",
      "dtype: int64 \n",
      "\n"
     ]
    },
    {
     "data": {
      "text/plain": [
       "(2328, 4)"
      ]
     },
     "execution_count": 23,
     "metadata": {},
     "output_type": "execute_result"
    }
   ],
   "source": [
    "print(df_store.dtypes,'\\n')\n",
    "print(df_store.isnull().sum(),'\\n')\n",
    "#print(df_store.info)\n",
    "\n",
    "df_store.shape"
   ]
  },
  {
   "cell_type": "code",
   "execution_count": 25,
   "metadata": {},
   "outputs": [
    {
     "data": {
      "text/plain": [
       "2328"
      ]
     },
     "execution_count": 25,
     "metadata": {},
     "output_type": "execute_result"
    }
   ],
   "source": [
    "df_store.Rowid.nunique()"
   ]
  },
  {
   "cell_type": "code",
   "execution_count": 66,
   "metadata": {},
   "outputs": [],
   "source": [
    "transactions_per_row = df_store.pivot_table(index='Transaction_id', columns='Product_id', values='Quantity', aggfunc='sum', fill_value=0)"
   ]
  },
  {
   "cell_type": "code",
   "execution_count": 67,
   "metadata": {},
   "outputs": [
    {
     "data": {
      "text/html": [
       "<div>\n",
       "<style scoped>\n",
       "    .dataframe tbody tr th:only-of-type {\n",
       "        vertical-align: middle;\n",
       "    }\n",
       "\n",
       "    .dataframe tbody tr th {\n",
       "        vertical-align: top;\n",
       "    }\n",
       "\n",
       "    .dataframe thead th {\n",
       "        text-align: right;\n",
       "    }\n",
       "</style>\n",
       "<table border=\"1\" class=\"dataframe\">\n",
       "  <thead>\n",
       "    <tr style=\"text-align: right;\">\n",
       "      <th>Product_id</th>\n",
       "      <th>1</th>\n",
       "      <th>2</th>\n",
       "      <th>3</th>\n",
       "      <th>4</th>\n",
       "      <th>5</th>\n",
       "      <th>6</th>\n",
       "      <th>7</th>\n",
       "      <th>8</th>\n",
       "      <th>9</th>\n",
       "      <th>10</th>\n",
       "      <th>...</th>\n",
       "      <th>169</th>\n",
       "      <th>170</th>\n",
       "      <th>171</th>\n",
       "      <th>172</th>\n",
       "      <th>173</th>\n",
       "      <th>174</th>\n",
       "      <th>175</th>\n",
       "      <th>176</th>\n",
       "      <th>177</th>\n",
       "      <th>178</th>\n",
       "    </tr>\n",
       "    <tr>\n",
       "      <th>Transaction_id</th>\n",
       "      <th></th>\n",
       "      <th></th>\n",
       "      <th></th>\n",
       "      <th></th>\n",
       "      <th></th>\n",
       "      <th></th>\n",
       "      <th></th>\n",
       "      <th></th>\n",
       "      <th></th>\n",
       "      <th></th>\n",
       "      <th></th>\n",
       "      <th></th>\n",
       "      <th></th>\n",
       "      <th></th>\n",
       "      <th></th>\n",
       "      <th></th>\n",
       "      <th></th>\n",
       "      <th></th>\n",
       "      <th></th>\n",
       "      <th></th>\n",
       "      <th></th>\n",
       "    </tr>\n",
       "  </thead>\n",
       "  <tbody>\n",
       "    <tr>\n",
       "      <th>1</th>\n",
       "      <td>0</td>\n",
       "      <td>0</td>\n",
       "      <td>3</td>\n",
       "      <td>5</td>\n",
       "      <td>0</td>\n",
       "      <td>0</td>\n",
       "      <td>0</td>\n",
       "      <td>0</td>\n",
       "      <td>0</td>\n",
       "      <td>0</td>\n",
       "      <td>...</td>\n",
       "      <td>0</td>\n",
       "      <td>0</td>\n",
       "      <td>0</td>\n",
       "      <td>0</td>\n",
       "      <td>0</td>\n",
       "      <td>0</td>\n",
       "      <td>0</td>\n",
       "      <td>0</td>\n",
       "      <td>0</td>\n",
       "      <td>0</td>\n",
       "    </tr>\n",
       "    <tr>\n",
       "      <th>2</th>\n",
       "      <td>0</td>\n",
       "      <td>0</td>\n",
       "      <td>0</td>\n",
       "      <td>0</td>\n",
       "      <td>0</td>\n",
       "      <td>0</td>\n",
       "      <td>0</td>\n",
       "      <td>0</td>\n",
       "      <td>0</td>\n",
       "      <td>0</td>\n",
       "      <td>...</td>\n",
       "      <td>0</td>\n",
       "      <td>0</td>\n",
       "      <td>0</td>\n",
       "      <td>0</td>\n",
       "      <td>0</td>\n",
       "      <td>0</td>\n",
       "      <td>0</td>\n",
       "      <td>0</td>\n",
       "      <td>0</td>\n",
       "      <td>0</td>\n",
       "    </tr>\n",
       "    <tr>\n",
       "      <th>3</th>\n",
       "      <td>0</td>\n",
       "      <td>0</td>\n",
       "      <td>0</td>\n",
       "      <td>0</td>\n",
       "      <td>0</td>\n",
       "      <td>0</td>\n",
       "      <td>0</td>\n",
       "      <td>0</td>\n",
       "      <td>0</td>\n",
       "      <td>0</td>\n",
       "      <td>...</td>\n",
       "      <td>0</td>\n",
       "      <td>0</td>\n",
       "      <td>0</td>\n",
       "      <td>0</td>\n",
       "      <td>0</td>\n",
       "      <td>0</td>\n",
       "      <td>0</td>\n",
       "      <td>0</td>\n",
       "      <td>0</td>\n",
       "      <td>0</td>\n",
       "    </tr>\n",
       "    <tr>\n",
       "      <th>4</th>\n",
       "      <td>0</td>\n",
       "      <td>0</td>\n",
       "      <td>0</td>\n",
       "      <td>0</td>\n",
       "      <td>0</td>\n",
       "      <td>0</td>\n",
       "      <td>0</td>\n",
       "      <td>0</td>\n",
       "      <td>0</td>\n",
       "      <td>0</td>\n",
       "      <td>...</td>\n",
       "      <td>0</td>\n",
       "      <td>0</td>\n",
       "      <td>0</td>\n",
       "      <td>0</td>\n",
       "      <td>0</td>\n",
       "      <td>0</td>\n",
       "      <td>0</td>\n",
       "      <td>0</td>\n",
       "      <td>0</td>\n",
       "      <td>0</td>\n",
       "    </tr>\n",
       "    <tr>\n",
       "      <th>5</th>\n",
       "      <td>0</td>\n",
       "      <td>0</td>\n",
       "      <td>0</td>\n",
       "      <td>0</td>\n",
       "      <td>0</td>\n",
       "      <td>0</td>\n",
       "      <td>0</td>\n",
       "      <td>0</td>\n",
       "      <td>0</td>\n",
       "      <td>0</td>\n",
       "      <td>...</td>\n",
       "      <td>0</td>\n",
       "      <td>0</td>\n",
       "      <td>0</td>\n",
       "      <td>0</td>\n",
       "      <td>0</td>\n",
       "      <td>0</td>\n",
       "      <td>0</td>\n",
       "      <td>0</td>\n",
       "      <td>0</td>\n",
       "      <td>0</td>\n",
       "    </tr>\n",
       "  </tbody>\n",
       "</table>\n",
       "<p>5 rows × 178 columns</p>\n",
       "</div>"
      ],
      "text/plain": [
       "Product_id      1    2    3    4    5    6    7    8    9    10  ...   169  \\\n",
       "Transaction_id                                                   ...         \n",
       "1                 0    0    3    5    0    0    0    0    0    0 ...     0   \n",
       "2                 0    0    0    0    0    0    0    0    0    0 ...     0   \n",
       "3                 0    0    0    0    0    0    0    0    0    0 ...     0   \n",
       "4                 0    0    0    0    0    0    0    0    0    0 ...     0   \n",
       "5                 0    0    0    0    0    0    0    0    0    0 ...     0   \n",
       "\n",
       "Product_id      170  171  172  173  174  175  176  177  178  \n",
       "Transaction_id                                               \n",
       "1                 0    0    0    0    0    0    0    0    0  \n",
       "2                 0    0    0    0    0    0    0    0    0  \n",
       "3                 0    0    0    0    0    0    0    0    0  \n",
       "4                 0    0    0    0    0    0    0    0    0  \n",
       "5                 0    0    0    0    0    0    0    0    0  \n",
       "\n",
       "[5 rows x 178 columns]"
      ]
     },
     "execution_count": 67,
     "metadata": {},
     "output_type": "execute_result"
    }
   ],
   "source": [
    "transactions_per_row.head()"
   ]
  },
  {
   "cell_type": "code",
   "execution_count": 68,
   "metadata": {},
   "outputs": [],
   "source": [
    "purchase_sets = transactions_per_row.applymap(lambda quantity: 1 if quantity >= 1 else 0)"
   ]
  },
  {
   "cell_type": "code",
   "execution_count": 77,
   "metadata": {},
   "outputs": [],
   "source": [
    "#purchase_sets"
   ]
  },
  {
   "cell_type": "code",
   "execution_count": 76,
   "metadata": {},
   "outputs": [
    {
     "data": {
      "text/html": [
       "<div>\n",
       "<style scoped>\n",
       "    .dataframe tbody tr th:only-of-type {\n",
       "        vertical-align: middle;\n",
       "    }\n",
       "\n",
       "    .dataframe tbody tr th {\n",
       "        vertical-align: top;\n",
       "    }\n",
       "\n",
       "    .dataframe thead th {\n",
       "        text-align: right;\n",
       "    }\n",
       "</style>\n",
       "<table border=\"1\" class=\"dataframe\">\n",
       "  <thead>\n",
       "    <tr style=\"text-align: right;\">\n",
       "      <th></th>\n",
       "      <th>antecedants</th>\n",
       "      <th>consequents</th>\n",
       "      <th>antecedent support</th>\n",
       "      <th>consequent support</th>\n",
       "      <th>support</th>\n",
       "      <th>confidence</th>\n",
       "      <th>lift</th>\n",
       "      <th>leverage</th>\n",
       "      <th>conviction</th>\n",
       "    </tr>\n",
       "  </thead>\n",
       "  <tbody>\n",
       "    <tr>\n",
       "      <th>0</th>\n",
       "      <td>(15)</td>\n",
       "      <td>(136)</td>\n",
       "      <td>0.018739</td>\n",
       "      <td>0.028961</td>\n",
       "      <td>0.005111</td>\n",
       "      <td>0.272727</td>\n",
       "      <td>9.417112</td>\n",
       "      <td>0.004568</td>\n",
       "      <td>1.335179</td>\n",
       "    </tr>\n",
       "    <tr>\n",
       "      <th>1</th>\n",
       "      <td>(18)</td>\n",
       "      <td>(151)</td>\n",
       "      <td>0.025554</td>\n",
       "      <td>0.028961</td>\n",
       "      <td>0.006814</td>\n",
       "      <td>0.266667</td>\n",
       "      <td>9.207843</td>\n",
       "      <td>0.006074</td>\n",
       "      <td>1.324144</td>\n",
       "    </tr>\n",
       "    <tr>\n",
       "      <th>2</th>\n",
       "      <td>(35)</td>\n",
       "      <td>(176)</td>\n",
       "      <td>0.018739</td>\n",
       "      <td>0.027257</td>\n",
       "      <td>0.005111</td>\n",
       "      <td>0.272727</td>\n",
       "      <td>10.005682</td>\n",
       "      <td>0.004600</td>\n",
       "      <td>1.337521</td>\n",
       "    </tr>\n",
       "    <tr>\n",
       "      <th>3</th>\n",
       "      <td>(36)</td>\n",
       "      <td>(85)</td>\n",
       "      <td>0.017036</td>\n",
       "      <td>0.017036</td>\n",
       "      <td>0.005111</td>\n",
       "      <td>0.300000</td>\n",
       "      <td>17.610000</td>\n",
       "      <td>0.004821</td>\n",
       "      <td>1.404235</td>\n",
       "    </tr>\n",
       "    <tr>\n",
       "      <th>4</th>\n",
       "      <td>(85)</td>\n",
       "      <td>(36)</td>\n",
       "      <td>0.017036</td>\n",
       "      <td>0.017036</td>\n",
       "      <td>0.005111</td>\n",
       "      <td>0.300000</td>\n",
       "      <td>17.610000</td>\n",
       "      <td>0.004821</td>\n",
       "      <td>1.404235</td>\n",
       "    </tr>\n",
       "    <tr>\n",
       "      <th>5</th>\n",
       "      <td>(69)</td>\n",
       "      <td>(84)</td>\n",
       "      <td>0.018739</td>\n",
       "      <td>0.028961</td>\n",
       "      <td>0.005111</td>\n",
       "      <td>0.272727</td>\n",
       "      <td>9.417112</td>\n",
       "      <td>0.004568</td>\n",
       "      <td>1.335179</td>\n",
       "    </tr>\n",
       "    <tr>\n",
       "      <th>6</th>\n",
       "      <td>(168)</td>\n",
       "      <td>(146)</td>\n",
       "      <td>0.018739</td>\n",
       "      <td>0.022147</td>\n",
       "      <td>0.005111</td>\n",
       "      <td>0.272727</td>\n",
       "      <td>12.314685</td>\n",
       "      <td>0.004696</td>\n",
       "      <td>1.344549</td>\n",
       "    </tr>\n",
       "  </tbody>\n",
       "</table>\n",
       "</div>"
      ],
      "text/plain": [
       "  antecedants consequents  antecedent support  consequent support   support  \\\n",
       "0        (15)       (136)            0.018739            0.028961  0.005111   \n",
       "1        (18)       (151)            0.025554            0.028961  0.006814   \n",
       "2        (35)       (176)            0.018739            0.027257  0.005111   \n",
       "3        (36)        (85)            0.017036            0.017036  0.005111   \n",
       "4        (85)        (36)            0.017036            0.017036  0.005111   \n",
       "5        (69)        (84)            0.018739            0.028961  0.005111   \n",
       "6       (168)       (146)            0.018739            0.022147  0.005111   \n",
       "\n",
       "   confidence       lift  leverage  conviction  \n",
       "0    0.272727   9.417112  0.004568    1.335179  \n",
       "1    0.266667   9.207843  0.006074    1.324144  \n",
       "2    0.272727  10.005682  0.004600    1.337521  \n",
       "3    0.300000  17.610000  0.004821    1.404235  \n",
       "4    0.300000  17.610000  0.004821    1.404235  \n",
       "5    0.272727   9.417112  0.004568    1.335179  \n",
       "6    0.272727  12.314685  0.004696    1.344549  "
      ]
     },
     "execution_count": 76,
     "metadata": {},
     "output_type": "execute_result"
    }
   ],
   "source": [
    "frequent_itemsets = apriori(purchase_sets, min_support=0.005, use_colnames=True)\n",
    "association_rules(frequent_itemsets, metric='confidence', min_threshold=0.26)"
   ]
  },
  {
   "cell_type": "code",
   "execution_count": 87,
   "metadata": {},
   "outputs": [
    {
     "data": {
      "text/html": [
       "<div>\n",
       "<style scoped>\n",
       "    .dataframe tbody tr th:only-of-type {\n",
       "        vertical-align: middle;\n",
       "    }\n",
       "\n",
       "    .dataframe tbody tr th {\n",
       "        vertical-align: top;\n",
       "    }\n",
       "\n",
       "    .dataframe thead th {\n",
       "        text-align: right;\n",
       "    }\n",
       "</style>\n",
       "<table border=\"1\" class=\"dataframe\">\n",
       "  <thead>\n",
       "    <tr style=\"text-align: right;\">\n",
       "      <th></th>\n",
       "      <th>antecedants</th>\n",
       "      <th>consequents</th>\n",
       "      <th>antecedent support</th>\n",
       "      <th>consequent support</th>\n",
       "      <th>support</th>\n",
       "      <th>confidence</th>\n",
       "      <th>lift</th>\n",
       "      <th>leverage</th>\n",
       "      <th>conviction</th>\n",
       "    </tr>\n",
       "  </thead>\n",
       "  <tbody>\n",
       "    <tr>\n",
       "      <th>0</th>\n",
       "      <td>(8)</td>\n",
       "      <td>(154)</td>\n",
       "      <td>0.020443</td>\n",
       "      <td>0.023850</td>\n",
       "      <td>0.005111</td>\n",
       "      <td>0.250000</td>\n",
       "      <td>10.482143</td>\n",
       "      <td>0.004623</td>\n",
       "      <td>1.301533</td>\n",
       "    </tr>\n",
       "    <tr>\n",
       "      <th>1</th>\n",
       "      <td>(154)</td>\n",
       "      <td>(8)</td>\n",
       "      <td>0.023850</td>\n",
       "      <td>0.020443</td>\n",
       "      <td>0.005111</td>\n",
       "      <td>0.214286</td>\n",
       "      <td>10.482143</td>\n",
       "      <td>0.004623</td>\n",
       "      <td>1.246709</td>\n",
       "    </tr>\n",
       "    <tr>\n",
       "      <th>2</th>\n",
       "      <td>(88)</td>\n",
       "      <td>(30)</td>\n",
       "      <td>0.022147</td>\n",
       "      <td>0.022147</td>\n",
       "      <td>0.005111</td>\n",
       "      <td>0.230769</td>\n",
       "      <td>10.420118</td>\n",
       "      <td>0.004620</td>\n",
       "      <td>1.271210</td>\n",
       "    </tr>\n",
       "    <tr>\n",
       "      <th>3</th>\n",
       "      <td>(30)</td>\n",
       "      <td>(88)</td>\n",
       "      <td>0.022147</td>\n",
       "      <td>0.022147</td>\n",
       "      <td>0.005111</td>\n",
       "      <td>0.230769</td>\n",
       "      <td>10.420118</td>\n",
       "      <td>0.004620</td>\n",
       "      <td>1.271210</td>\n",
       "    </tr>\n",
       "    <tr>\n",
       "      <th>4</th>\n",
       "      <td>(33)</td>\n",
       "      <td>(148)</td>\n",
       "      <td>0.022147</td>\n",
       "      <td>0.022147</td>\n",
       "      <td>0.005111</td>\n",
       "      <td>0.230769</td>\n",
       "      <td>10.420118</td>\n",
       "      <td>0.004620</td>\n",
       "      <td>1.271210</td>\n",
       "    </tr>\n",
       "    <tr>\n",
       "      <th>5</th>\n",
       "      <td>(148)</td>\n",
       "      <td>(33)</td>\n",
       "      <td>0.022147</td>\n",
       "      <td>0.022147</td>\n",
       "      <td>0.005111</td>\n",
       "      <td>0.230769</td>\n",
       "      <td>10.420118</td>\n",
       "      <td>0.004620</td>\n",
       "      <td>1.271210</td>\n",
       "    </tr>\n",
       "    <tr>\n",
       "      <th>6</th>\n",
       "      <td>(36)</td>\n",
       "      <td>(85)</td>\n",
       "      <td>0.017036</td>\n",
       "      <td>0.017036</td>\n",
       "      <td>0.005111</td>\n",
       "      <td>0.300000</td>\n",
       "      <td>17.610000</td>\n",
       "      <td>0.004821</td>\n",
       "      <td>1.404235</td>\n",
       "    </tr>\n",
       "    <tr>\n",
       "      <th>7</th>\n",
       "      <td>(85)</td>\n",
       "      <td>(36)</td>\n",
       "      <td>0.017036</td>\n",
       "      <td>0.017036</td>\n",
       "      <td>0.005111</td>\n",
       "      <td>0.300000</td>\n",
       "      <td>17.610000</td>\n",
       "      <td>0.004821</td>\n",
       "      <td>1.404235</td>\n",
       "    </tr>\n",
       "    <tr>\n",
       "      <th>8</th>\n",
       "      <td>(112)</td>\n",
       "      <td>(91)</td>\n",
       "      <td>0.023850</td>\n",
       "      <td>0.020443</td>\n",
       "      <td>0.005111</td>\n",
       "      <td>0.214286</td>\n",
       "      <td>10.482143</td>\n",
       "      <td>0.004623</td>\n",
       "      <td>1.246709</td>\n",
       "    </tr>\n",
       "    <tr>\n",
       "      <th>9</th>\n",
       "      <td>(91)</td>\n",
       "      <td>(112)</td>\n",
       "      <td>0.020443</td>\n",
       "      <td>0.023850</td>\n",
       "      <td>0.005111</td>\n",
       "      <td>0.250000</td>\n",
       "      <td>10.482143</td>\n",
       "      <td>0.004623</td>\n",
       "      <td>1.301533</td>\n",
       "    </tr>\n",
       "    <tr>\n",
       "      <th>10</th>\n",
       "      <td>(168)</td>\n",
       "      <td>(146)</td>\n",
       "      <td>0.018739</td>\n",
       "      <td>0.022147</td>\n",
       "      <td>0.005111</td>\n",
       "      <td>0.272727</td>\n",
       "      <td>12.314685</td>\n",
       "      <td>0.004696</td>\n",
       "      <td>1.344549</td>\n",
       "    </tr>\n",
       "    <tr>\n",
       "      <th>11</th>\n",
       "      <td>(146)</td>\n",
       "      <td>(168)</td>\n",
       "      <td>0.022147</td>\n",
       "      <td>0.018739</td>\n",
       "      <td>0.005111</td>\n",
       "      <td>0.230769</td>\n",
       "      <td>12.314685</td>\n",
       "      <td>0.004696</td>\n",
       "      <td>1.275639</td>\n",
       "    </tr>\n",
       "    <tr>\n",
       "      <th>12</th>\n",
       "      <td>(160)</td>\n",
       "      <td>(157)</td>\n",
       "      <td>0.020443</td>\n",
       "      <td>0.020443</td>\n",
       "      <td>0.005111</td>\n",
       "      <td>0.250000</td>\n",
       "      <td>12.229167</td>\n",
       "      <td>0.004693</td>\n",
       "      <td>1.306076</td>\n",
       "    </tr>\n",
       "    <tr>\n",
       "      <th>13</th>\n",
       "      <td>(157)</td>\n",
       "      <td>(160)</td>\n",
       "      <td>0.020443</td>\n",
       "      <td>0.020443</td>\n",
       "      <td>0.005111</td>\n",
       "      <td>0.250000</td>\n",
       "      <td>12.229167</td>\n",
       "      <td>0.004693</td>\n",
       "      <td>1.306076</td>\n",
       "    </tr>\n",
       "  </tbody>\n",
       "</table>\n",
       "</div>"
      ],
      "text/plain": [
       "   antecedants consequents  antecedent support  consequent support   support  \\\n",
       "0          (8)       (154)            0.020443            0.023850  0.005111   \n",
       "1        (154)         (8)            0.023850            0.020443  0.005111   \n",
       "2         (88)        (30)            0.022147            0.022147  0.005111   \n",
       "3         (30)        (88)            0.022147            0.022147  0.005111   \n",
       "4         (33)       (148)            0.022147            0.022147  0.005111   \n",
       "5        (148)        (33)            0.022147            0.022147  0.005111   \n",
       "6         (36)        (85)            0.017036            0.017036  0.005111   \n",
       "7         (85)        (36)            0.017036            0.017036  0.005111   \n",
       "8        (112)        (91)            0.023850            0.020443  0.005111   \n",
       "9         (91)       (112)            0.020443            0.023850  0.005111   \n",
       "10       (168)       (146)            0.018739            0.022147  0.005111   \n",
       "11       (146)       (168)            0.022147            0.018739  0.005111   \n",
       "12       (160)       (157)            0.020443            0.020443  0.005111   \n",
       "13       (157)       (160)            0.020443            0.020443  0.005111   \n",
       "\n",
       "    confidence       lift  leverage  conviction  \n",
       "0     0.250000  10.482143  0.004623    1.301533  \n",
       "1     0.214286  10.482143  0.004623    1.246709  \n",
       "2     0.230769  10.420118  0.004620    1.271210  \n",
       "3     0.230769  10.420118  0.004620    1.271210  \n",
       "4     0.230769  10.420118  0.004620    1.271210  \n",
       "5     0.230769  10.420118  0.004620    1.271210  \n",
       "6     0.300000  17.610000  0.004821    1.404235  \n",
       "7     0.300000  17.610000  0.004821    1.404235  \n",
       "8     0.214286  10.482143  0.004623    1.246709  \n",
       "9     0.250000  10.482143  0.004623    1.301533  \n",
       "10    0.272727  12.314685  0.004696    1.344549  \n",
       "11    0.230769  12.314685  0.004696    1.275639  \n",
       "12    0.250000  12.229167  0.004693    1.306076  \n",
       "13    0.250000  12.229167  0.004693    1.306076  "
      ]
     },
     "execution_count": 87,
     "metadata": {},
     "output_type": "execute_result"
    }
   ],
   "source": [
    "association_rules(frequent_itemsets, metric='lift', min_threshold=10.25)"
   ]
  },
  {
   "cell_type": "code",
   "execution_count": null,
   "metadata": {},
   "outputs": [],
   "source": []
  },
  {
   "cell_type": "markdown",
   "metadata": {
    "colab_type": "text",
    "id": "Q9eVWs40cs7n"
   },
   "source": [
    "**2:** Discover the strongest association rules that have high lift and high confidence"
   ]
  },
  {
   "cell_type": "code",
   "execution_count": null,
   "metadata": {
    "colab": {},
    "colab_type": "code",
    "id": "zfh4Bj_ScrwA"
   },
   "outputs": [],
   "source": []
  },
  {
   "cell_type": "markdown",
   "metadata": {
    "colab_type": "text",
    "id": "X3Y42q59edso"
   },
   "source": [
    "**3:**  Create a Summary Table or Directed Graph to surface the association rules identified in **Ask 2** above"
   ]
  },
  {
   "cell_type": "code",
   "execution_count": null,
   "metadata": {
    "colab": {},
    "colab_type": "code",
    "id": "NwC9D-_DiJU5"
   },
   "outputs": [],
   "source": []
  },
  {
   "cell_type": "markdown",
   "metadata": {
    "colab_type": "text",
    "id": "wcSaEaidta7Q"
   },
   "source": [
    "### Collaborative Filtering"
   ]
  },
  {
   "cell_type": "markdown",
   "metadata": {
    "colab_type": "text",
    "id": "mqQFGos9uKjf"
   },
   "source": [
    "Dataset:\n",
    "\n",
    "\n",
    "*Movies*: https://www.dropbox.com/s/qo7v9k5rcwt7wgh/movies.csv?raw=1\n",
    "\n",
    "*User Movie Ratings*: https://www.dropbox.com/s/piypmzeucyz160l/ratings_small.csv?raw=1"
   ]
  },
  {
   "cell_type": "markdown",
   "metadata": {
    "colab_type": "text",
    "id": "Wh8LZkxLiKVZ"
   },
   "source": [
    "**1:** Utilize Matrix Factorization to arrive at the 2 matrices i.e. a) User Ratings (across attributes) b) Movie Ratings (across attributes). Once you have the 2 matrices, compute the \"dot\" product of the 2 matrices to come up with an estimate/prediction for the missing user ratings\n",
    "\n",
    "For this ask, you could leverage the Matrix Factorization step that was discussed in the lecture **OR**\n",
    "\n",
    "Here is another implmentation for your reference that could be leveraged (may need to be adapted): \n",
    "\n",
    "https://lazyprogrammer.me/tutorial-on-collaborative-filtering-and-matrix-factorization-in-python/\n"
   ]
  },
  {
   "cell_type": "code",
   "execution_count": null,
   "metadata": {
    "colab": {},
    "colab_type": "code",
    "id": "mzDeEsYf5a92"
   },
   "outputs": [],
   "source": []
  },
  {
   "cell_type": "markdown",
   "metadata": {
    "colab_type": "text",
    "id": "dVMl5fhvvwLx"
   },
   "source": [
    "**2:** Pick 2 Userid's from the underlying data set and surface recommendations for the Userid's you chose\n",
    "\n"
   ]
  },
  {
   "cell_type": "code",
   "execution_count": null,
   "metadata": {
    "colab": {},
    "colab_type": "code",
    "id": "m3krOt_kPUQF"
   },
   "outputs": [],
   "source": []
  },
  {
   "cell_type": "markdown",
   "metadata": {
    "colab_type": "text",
    "id": "cbQ8eZbY7kX1"
   },
   "source": [
    "**3:** Pick 2 movies and find movies that are similar to the movies you have picked"
   ]
  },
  {
   "cell_type": "code",
   "execution_count": null,
   "metadata": {
    "colab": {},
    "colab_type": "code",
    "id": "i9Tej0OF7jMp"
   },
   "outputs": [],
   "source": []
  },
  {
   "cell_type": "markdown",
   "metadata": {
    "colab_type": "text",
    "id": "3DE2aZMdPWNX"
   },
   "source": [
    "**Strech goal 1**:  Measure Recommendation Accuracy - compute the RMSE RMSE to ascertain the difference between the user's actual movie ratings and the ratings that were predicted for the same movies.\n",
    "\n",
    "*Hint*: You will need to split the underlying data set. 70% of the 'User Movie Ratings' data set will constitute the *Training* dataset and 30% of the 'User Movie Ratings' dataset will constitute the* Testing *data set "
   ]
  },
  {
   "cell_type": "code",
   "execution_count": null,
   "metadata": {
    "colab": {},
    "colab_type": "code",
    "id": "VQhF6diYG1vG"
   },
   "outputs": [],
   "source": []
  },
  {
   "cell_type": "markdown",
   "metadata": {
    "colab_type": "text",
    "id": "GAmQxxIn1u5p"
   },
   "source": [
    "**Stretch goal 2**: Publish the Collaborative Filtering process that you understook as a blog post. Some suggested topics to consider:\n",
    "\n",
    "\n",
    "1) Matrix Factorization step - what is the purpose of performing Matrix Factorization?\n",
    "\n",
    "2) Recommendation Accuracy - summarize your findings? \n",
    "\n",
    "3) The actual recommendations that were surfaced\n",
    "\n",
    "*Include a link to your blog post in your submission*\n",
    "\n"
   ]
  }
 ],
 "metadata": {
  "colab": {
   "name": "Association and Collaborative Filtering Sprint Challenge.ipynb",
   "provenance": [],
   "version": "0.3.2"
  },
  "kernelspec": {
   "display_name": "Python 3",
   "language": "python",
   "name": "python3"
  },
  "language_info": {
   "codemirror_mode": {
    "name": "ipython",
    "version": 3
   },
   "file_extension": ".py",
   "mimetype": "text/x-python",
   "name": "python",
   "nbconvert_exporter": "python",
   "pygments_lexer": "ipython3",
   "version": "3.6.4"
  }
 },
 "nbformat": 4,
 "nbformat_minor": 2
}
