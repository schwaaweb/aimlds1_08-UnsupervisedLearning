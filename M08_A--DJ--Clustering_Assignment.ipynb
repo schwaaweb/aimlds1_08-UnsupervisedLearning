{
  "nbformat": 4,
  "nbformat_minor": 0,
  "metadata": {
    "colab": {
      "name": "Clustering Assignment.ipynb",
      "version": "0.3.2",
      "provenance": [],
      "collapsed_sections": []
    }
  },
  "cells": [
    {
      "cell_type": "markdown",
      "metadata": {
        "id": "view-in-github",
        "colab_type": "text"
      },
      "source": [
        "[View in Colaboratory](https://colab.research.google.com/github/schwaaweb/aimlds1_08-UnsupervisedLearning/blob/master/M08_A--DJ--Clustering_Assignment.ipynb)"
      ]
    },
    {
      "metadata": {
        "id": "onwi_vYpFACN",
        "colab_type": "text"
      },
      "cell_type": "markdown",
      "source": [
        "In this assignment, you will work with one of the UCI datasets: \n",
        "http://scikit-learn.org/stable/modules/classes.html#module-sklearn.datasets\n",
        "\n",
        "### Objectives\n",
        " * Learn how to run clustering in python with different methods\n",
        " * Output and interpret clustering metrics\n",
        " * Experiment with PCA/data normalization of the dataset\n",
        "\n",
        "On the example of wine, load the dataset and run the clustering algorithms on it.\n",
        "\n",
        "---\n",
        "\n"
      ]
    },
    {
      "metadata": {
        "id": "3BmIHJ00E597",
        "colab_type": "code",
        "colab": {
          "base_uri": "https://localhost:8080/",
          "height": 155
        },
        "outputId": "b62dcead-4ab5-4676-dbac-3352dde80c79"
      },
      "cell_type": "code",
      "source": [
        "from time import time\n",
        "import numpy as np\n",
        "import matplotlib.pyplot as plt\n",
        "\n",
        "from sklearn import metrics\n",
        "from sklearn.cluster import KMeans\n",
        "from sklearn.datasets import load_wine\n",
        "from sklearn.decomposition import PCA\n",
        "\n",
        "wine_dataset = load_wine()\n",
        "data = wine_dataset.data\n",
        "print(data)\n",
        "n_samples, n_features = data.shape\n",
        "n_clusters = len(np.unique(wine_dataset.target))\n",
        "labels = wine_dataset.target\n",
        "\n",
        "print(\"n_digits: %d, \\t n_samples %d, \\t n_features %d\"\n",
        "      % (n_clusters, n_samples, n_features))"
      ],
      "execution_count": 0,
      "outputs": [
        {
          "output_type": "stream",
          "text": [
            "[[1.423e+01 1.710e+00 2.430e+00 ... 1.040e+00 3.920e+00 1.065e+03]\n",
            " [1.320e+01 1.780e+00 2.140e+00 ... 1.050e+00 3.400e+00 1.050e+03]\n",
            " [1.316e+01 2.360e+00 2.670e+00 ... 1.030e+00 3.170e+00 1.185e+03]\n",
            " ...\n",
            " [1.327e+01 4.280e+00 2.260e+00 ... 5.900e-01 1.560e+00 8.350e+02]\n",
            " [1.317e+01 2.590e+00 2.370e+00 ... 6.000e-01 1.620e+00 8.400e+02]\n",
            " [1.413e+01 4.100e+00 2.740e+00 ... 6.100e-01 1.600e+00 5.600e+02]]\n",
            "n_digits: 3, \t n_samples 178, \t n_features 13\n"
          ],
          "name": "stdout"
        }
      ]
    }
  ]
}