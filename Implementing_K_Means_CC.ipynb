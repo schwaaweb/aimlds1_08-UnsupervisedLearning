{
  "nbformat": 4,
  "nbformat_minor": 0,
  "metadata": {
    "colab": {
      "name": "Implementing K-Means CC.ipynb",
      "version": "0.3.2",
      "provenance": [],
      "collapsed_sections": []
    }
  },
  "cells": [
    {
      "cell_type": "markdown",
      "metadata": {
        "id": "view-in-github",
        "colab_type": "text"
      },
      "source": [
        "[View in Colaboratory](https://colab.research.google.com/github/schwaaweb/aimlds1_08-UnsupervisedLearning/blob/master/Implementing_K_Means_CC.ipynb)"
      ]
    },
    {
      "metadata": {
        "id": "Dt_PvRejz-ut",
        "colab_type": "text"
      },
      "cell_type": "markdown",
      "source": [
        "## In this CC, we will implement K-Means clustering algorithm from scratch\n",
        "\n",
        "Objectives:\n",
        "1. Be able to list and understand steps of K-Mean algorithm\n",
        "2. Be able to implement those steps.\n",
        "3. Understand their computational complexity\n",
        "\n",
        "For a deeper look into k-means, take a look at https://en.wikipedia.org/wiki/K-means_clustering\n",
        "\n",
        "### Pseudo-Code:\n",
        "\n",
        "1. Pick a random starting point c_k for k clusters.\n",
        "2. For each point, add it to the set $S_k$ of the centroid $c_k$ it is closest to.\n",
        "3. Recompute each $c_k$ as the mean (centroid) of each set $S_k$.\n",
        "4. Do until $c_k$ doesn't change for any $k$ (or max iter is hit)."
      ]
    },
    {
      "metadata": {
        "id": "diun0QH7z6TP",
        "colab_type": "code",
        "colab": {}
      },
      "cell_type": "code",
      "source": [
        "\n",
        "'''\n",
        "K-means steps:\n",
        "    Pick a random starting point c_k for k clusters\n",
        "    For each point, add it to the set S_k of the centroid it is closest to\n",
        "    Recompute c_k as the mean (centroid of the set S_k)\n",
        "    Do until c_k doesn't change for any k\n",
        "    \n",
        "    \n",
        "For large collections of points iteration till convergence can take very long time.\n",
        "Some predefined number of iterations is used to make it feasible\n",
        "'''\n",
        "\n",
        "# Set up some hyper-parameters:\n",
        "\n",
        "max_iterations = 5000\n",
        "k = 3"
      ],
      "execution_count": 0,
      "outputs": []
    },
    {
      "metadata": {
        "id": "_1L2SsFXerr5",
        "colab_type": "code",
        "colab": {
          "base_uri": "https://localhost:8080/",
          "height": 364
        },
        "outputId": "52aec75b-cd93-4c25-deed-8d7d21c91e9f"
      },
      "cell_type": "code",
      "source": [
        "# Define some points in 3 clusters and plot them\n",
        "%matplotlib inline\n",
        "import matplotlib.pyplot as plt\n",
        "import numpy as np\n",
        "import seaborn as sns; sns.set()\n",
        "\n",
        "points = np.vstack(((np.random.multivariate_normal([0, 0], [[1, 0], [0, 100]] , 100)),\n",
        "                  (np.random.multivariate_normal([4, 4], [[1, 0], [0, 100]] , 100)),\n",
        "                  (np.random.multivariate_normal([-4, -4], [[1, 0], [0, 100]] , 100))))\n",
        "\n",
        "plt.scatter(points[:, 0], points[:, 1])"
      ],
      "execution_count": 11,
      "outputs": [
        {
          "output_type": "execute_result",
          "data": {
            "text/plain": [
              "<matplotlib.collections.PathCollection at 0x7f2230ca2610>"
            ]
          },
          "metadata": {
            "tags": []
          },
          "execution_count": 11
        },
        {
          "output_type": "display_data",
          "data": {
            "image/png": "[encoded data removed]",
            "text/plain": [
              "<matplotlib.figure.Figure at 0x7f2230de92d0>"
            ]
          },
          "metadata": {
            "tags": []
          }
        }
      ]
    },
    {
      "metadata": {
        "id": "gHAiy9OZOYg1",
        "colab_type": "code",
        "colab": {}
      },
      "cell_type": "code",
      "source": [
        "# Choose k random points from the set to be our starting \"centroids\""
      ],
      "execution_count": 0,
      "outputs": []
    },
    {
      "metadata": {
        "id": "37snAZp9bjAD",
        "colab_type": "code",
        "colab": {}
      },
      "cell_type": "code",
      "source": [
        "# Write a function that returns the centroid that is nearest to it\n",
        "\n",
        "# Write a function that uses the above function, computing which centroid is \n",
        "# nearest to _every_ point"
      ],
      "execution_count": 0,
      "outputs": []
    },
    {
      "metadata": {
        "id": "-CKGGIinhaBp",
        "colab_type": "code",
        "colab": {}
      },
      "cell_type": "code",
      "source": [
        "# Recalculate the centroids for each cluster based on the points that were added\n",
        "# to it."
      ],
      "execution_count": 0,
      "outputs": []
    },
    {
      "metadata": {
        "id": "Ln98vjIMKkff",
        "colab_type": "code",
        "colab": {}
      },
      "cell_type": "code",
      "source": [
        "# Run the above functions max_iter times and plot the result"
      ],
      "execution_count": 0,
      "outputs": []
    }
  ]
}