{
 "cells": [
  {
   "cell_type": "markdown",
   "metadata": {
    "colab_type": "text",
    "id": "view-in-github"
   },
   "source": [
    "[Lecture](https://youtu.be/wAEZquYe31M)\n",
    "\n",
    "\n",
    "[View in Colaboratory](https://colab.research.google.com/github/schwaaweb/aimlds1_08-UnsupervisedLearning/blob/master/T08_CCS--TC--Solution_of_Applied_Clustering_CC.ipynb)"
   ]
  },
  {
   "cell_type": "markdown",
   "metadata": {
    "colab_type": "text",
    "id": "TQ0tjkDTQmR_"
   },
   "source": [
    "## Applied Clustering Coding Challenge\n",
    "\n",
    "# Clustering text documents using k-means\n",
    "\n",
    "Clustering is commonly used to create classifications for written text using Natural Language Processing ([NLP](https://learn.lambdaschool.com/ml/sprint/recelerz9zemekmia)) techniques. This approach is highlighted by a combination of supervised and unsupervised techniques - given a huge (and growing) corpus of literature, it may be very hard for observers to classify each document. A clustering approach allows classes to be generated automatically, grouping each document into like clusters. Then, researchers may fit the clustering to specific documents that they wish to get better insigned into. Any document that shares a cluster with the tagged documents of interest then becomes a document of interest.\n",
    "\n",
    "In this CC, we will do feature extraction and clustering on a collection of newgroup documents.\n",
    "\n",
    "Text documents are not directly classifiable by ML algorithms, the must first be \"Vectorized\", that is, turned into numerical vectors by some process. Then each document becomes (as you are now familiar with) a single point in a high dimensional space. Then k-Means or any other ML algorithm can be used for processing. Vectorizing the documents is also called \"feature extraction\": using either of the two below algorithms a text file is converted into a set of features, aka a numerical row in a database, aka a single sample of `X`, aka a point in a high dimensional space.\n",
    "\n",
    "Two feature extraction methods can be used in this example:\n",
    "\n",
    "  - [TfidfVectorizer](http://scikit-learn.org/stable/modules/generated/sklearn.feature_extraction.text.TfidfVectorizer.html) ([Term-Frequency Inverse-Document Frequency](https://en.wikipedia.org/wiki/Tf%E2%80%93idf)) uses a in-memory vocabulary (a python dict) to map the most frequent words to features indices and hence compute a word occurrence frequency (sparse) matrix. The word frequencies are then reweighted using the Inverse Document Frequency (IDF) vector collected feature-wise over the corpus.\n",
    "\n",
    "  - [HashingVectorizer](http://scikit-learn.org/stable/modules/generated/sklearn.feature_extraction.text.HashingVectorizer.html) hashes word occurrences to a fixed dimensional space, possibly with collisions. The word count vectors are then normalized to each have l2-norm equal to one (projected to the euclidean unit-ball) which seems to be important for k-means to work in high dimensional space.\n",
    "\n",
    "    HashingVectorizer does not provide IDF weighting as this is a stateless\n",
    "    model (the fit method does nothing). When IDF weighting is needed it can\n",
    "    be added by pipelining its output to a TfidfTransformer instance.\n",
    "    \n",
    "Try both of these feature extractors and compare them:"
   ]
  },
  {
   "cell_type": "code",
   "execution_count": 2,
   "metadata": {
    "colab": {
     "base_uri": "https://localhost:8080/",
     "height": 763
    },
    "colab_type": "code",
    "id": "yDYQSP-gQgBn",
    "outputId": "e51bac35-0bbb-4096-d47d-112f4d2375a1"
   },
   "outputs": [
    {
     "name": "stdout",
     "output_type": "stream",
     "text": [
      "Loading 20 newsgroups dataset for categories:\n",
      "None\n",
      "18846 documents\n",
      "20 categories\n",
      "\n",
      "Dataset exemplar:\n",
      "From: chriss@netcom.com (Chris Silvester)\n",
      "Subject: \"Production Hold\" on '93 Firebird/Camaro w/ 6-Speed\n",
      "Organization: Netcom - Online Communication Services (408 241-9760 guest)\n",
      "Distribution: usa\n",
      "Lines: 30\n",
      "\n",
      "After a tip from Gary Crum (crum@fcom.cc.utah.edu) I got on the Phone\n",
      "with \"Pontiac Systems\" or \"Pontaic Customer Service\" or whatever, and\n",
      "inquired about a rumoured Production Hold on the Formula Firebird and\n",
      "Trans Am.  BTW, Talking with the dealer I bought the car from got me\n",
      "nowhere.  After being routed to a \"Firebird Specialist\", I was able\n",
      "to confirm that this is in fact the case.\n",
      "\n",
      "At first, there was some problem with the 3:23 performance axle ratio.\n",
      "She wouldn't go into any details, so I don't know if there were some\n",
      "shipped that had problems, or if production was held up because they\n",
      "simply didn't have the proper parts from the supplier.  As I say, she\n",
      "was pretty vague on that, so if anyone else knows anything about this,\n",
      "feel free to respond.  Supposedly, this problem is now solved.\n",
      "\n",
      "Second, there is a definate shortage of parts that is somehow related\n",
      "to the six-speed Manual transmission.  So as of this posting, there is\n",
      "a production hold on these cars.  She claimed part of the delay was\n",
      "not wanting to use inferior quality parts for the car, and therefore\n",
      "having to wait for the right high quality parts...  I'm not positive\n",
      "that this applies to the Camaro as well, but I'm guessing it would.\n",
      "\n",
      "Can anyone else shed some light on this?\n",
      "\n",
      "Chris S.\n",
      "-- \n",
      "--------------------------------------------------------------------------------\n",
      "Chris Silvester      | \"Any man capable of getting himself elected President\n",
      "chriss@sam.amgen.com |  should by no means be allowed to do the job\"\n",
      "chriss@netcom.com    |   - Douglas Adams, The Hitchhiker's Guide to the Galaxy\n",
      "--------------------------------------------------------------------------------\n",
      "\n"
     ]
    }
   ],
   "source": [
    "# Author: Peter Prettenhofer <peter.prettenhofer@gmail.com>\n",
    "#         Lars Buitinck\n",
    "# License: BSD 3 clause\n",
    "\n",
    "from __future__ import print_function\n",
    "\n",
    "from sklearn.datasets import fetch_20newsgroups\n",
    "from sklearn.decomposition import TruncatedSVD\n",
    "from sklearn.feature_extraction.text import TfidfVectorizer\n",
    "from sklearn.feature_extraction.text import HashingVectorizer\n",
    "from sklearn.feature_extraction.text import TfidfTransformer\n",
    "from sklearn.pipeline import make_pipeline\n",
    "from sklearn.preprocessing import Normalizer\n",
    "from sklearn import metrics\n",
    "\n",
    "from sklearn.cluster import KMeans, MiniBatchKMeans\n",
    "\n",
    "import logging\n",
    "import sys\n",
    "from time import time\n",
    "\n",
    "import numpy as np\n",
    "\n",
    "\n",
    "# #############################################################################\n",
    "# Load all categories from the training set\n",
    "categories = None\n",
    "\n",
    "print(\"Loading 20 newsgroups dataset for categories:\")\n",
    "print(categories)\n",
    "\n",
    "dataset = fetch_20newsgroups(subset='all', categories=categories,\n",
    "                             shuffle=True)\n",
    "\n",
    "print(\"%d documents\" % len(dataset.data))\n",
    "print(\"%d categories\" % len(dataset.target_names))\n",
    "print()\n",
    "\n",
    "labels = dataset.target\n",
    "\n",
    "print('Dataset exemplar:')\n",
    "print(dataset.data[18845])\n",
    "\n",
    "# How many actual classes are there?\n",
    "true_k = np.unique(labels).shape[0]"
   ]
  },
  {
   "cell_type": "code",
   "execution_count": 3,
   "metadata": {
    "colab": {
     "base_uri": "https://localhost:8080/",
     "height": 263
    },
    "colab_type": "code",
    "id": "YQDcYWoGpwuB",
    "outputId": "fd17f22b-ae84-414f-d9f3-0c75b3152c95"
   },
   "outputs": [
    {
     "name": "stdout",
     "output_type": "stream",
     "text": [
      "10\n",
      "['DESCR', 'data', 'description', 'filenames', 'target', 'target_names']\n",
      "None\n",
      "the 20 newsgroups by date dataset\n",
      "['/content/scikit_learn_data/20news_home/20news-bydate-test/rec.sport.hockey/54367'\n",
      " '/content/scikit_learn_data/20news_home/20news-bydate-train/comp.sys.ibm.pc.hardware/60215'\n",
      " '/content/scikit_learn_data/20news_home/20news-bydate-train/talk.politics.mideast/76120'\n",
      " ...\n",
      " '/content/scikit_learn_data/20news_home/20news-bydate-train/comp.sys.ibm.pc.hardware/60695'\n",
      " '/content/scikit_learn_data/20news_home/20news-bydate-train/comp.graphics/38319'\n",
      " '/content/scikit_learn_data/20news_home/20news-bydate-test/rec.autos/103195']\n",
      "[10  3 17 ...  3  1  7]\n",
      "['alt.atheism', 'comp.graphics', 'comp.os.ms-windows.misc', 'comp.sys.ibm.pc.hardware', 'comp.sys.mac.hardware', 'comp.windows.x', 'misc.forsale', 'rec.autos', 'rec.motorcycles', 'rec.sport.baseball', 'rec.sport.hockey', 'sci.crypt', 'sci.electronics', 'sci.med', 'sci.space', 'soc.religion.christian', 'talk.politics.guns', 'talk.politics.mideast', 'talk.politics.misc', 'talk.religion.misc']\n"
     ]
    }
   ],
   "source": [
    "print(labels[0])\n",
    "print(dir(dataset))\n",
    "print(dataset.DESCR)\n",
    "print(dataset.description)\n",
    "print(dataset.filenames)\n",
    "print(dataset.target)\n",
    "print(dataset.target_names)"
   ]
  },
  {
   "cell_type": "markdown",
   "metadata": {
    "colab_type": "text",
    "id": "1oJYuDLrUfPU"
   },
   "source": [
    "## Specify the method of feature extraction and other parameters\n"
   ]
  },
  {
   "cell_type": "code",
   "execution_count": null,
   "metadata": {
    "colab": {},
    "colab_type": "code",
    "id": "sEZ0Hy_3Umuz"
   },
   "outputs": [],
   "source": [
    "use_hashing = False\n",
    "use_idf = True\n",
    "n_features = 10000\n",
    "n_components = 0\n",
    "minibatchKMeans = False "
   ]
  },
  {
   "cell_type": "markdown",
   "metadata": {
    "colab_type": "text",
    "id": "2RhQWW9xXOdc"
   },
   "source": [
    "## Define the feature extractor class and apply it to the  dataset"
   ]
  },
  {
   "cell_type": "code",
   "execution_count": 36,
   "metadata": {
    "colab": {
     "base_uri": "https://localhost:8080/",
     "height": 87
    },
    "colab_type": "code",
    "id": "tiFv3PexXTn-",
    "outputId": "e7babd73-1c9c-475e-e39d-1f8cc0b7c7a1"
   },
   "outputs": [
    {
     "name": "stdout",
     "output_type": "stream",
     "text": [
      "Extracting features from the training dataset using a sparse vectorizer\n",
      "done in 5.363262s\n",
      "n_samples: 18846, n_features: 10000\n",
      "\n"
     ]
    }
   ],
   "source": [
    "print(\"Extracting features from the training dataset using a sparse vectorizer\")\n",
    "t0 = time()\n",
    "\n",
    "if use_hashing:\n",
    "    if use_idf:\n",
    "        # Perform an IDF normalization on the output of HashingVectorizer\n",
    "        hasher = HashingVectorizer(n_features=n_features,\n",
    "                                   stop_words='english', alternate_sign=False,\n",
    "                                   norm=None, binary=False)\n",
    "        vectorizer = make_pipeline(hasher, TfidfTransformer())\n",
    "    else:\n",
    "        vectorizer = HashingVectorizer(n_features=n_features,\n",
    "                                       stop_words='english',\n",
    "                                       alternate_sign=False, norm='l2',\n",
    "                                       binary=False)\n",
    "else:\n",
    "    vectorizer = TfidfVectorizer(max_df=0.5, max_features=n_features,\n",
    "                                 min_df=2, stop_words='english',\n",
    "                                 use_idf=use_idf)\n",
    "X = vectorizer.fit_transform(dataset.data)\n",
    "\n",
    "print(\"done in %fs\" % (time() - t0))\n",
    "print(\"n_samples: %d, n_features: %d\" % X.shape)\n",
    "print()"
   ]
  },
  {
   "cell_type": "markdown",
   "metadata": {
    "colab_type": "text",
    "id": "-5rHJtfpXaA0"
   },
   "source": [
    "## Potentially, also do dimensionality reduction"
   ]
  },
  {
   "cell_type": "code",
   "execution_count": null,
   "metadata": {
    "colab": {},
    "colab_type": "code",
    "id": "SX8F3RGbXd9E"
   },
   "outputs": [],
   "source": [
    "if n_components:\n",
    "    print(\"Performing dimensionality reduction using LSA\")\n",
    "    t0 = time()\n",
    "    # Vectorizer results are normalized, which makes KMeans behave as\n",
    "    # spherical k-means for better results. Since LSA/SVD results are\n",
    "    # not normalized, we have to redo the normalization.\n",
    "    svd = TruncatedSVD(n_components)\n",
    "    normalizer = Normalizer(copy=False)\n",
    "    lsa = make_pipeline(svd, normalizer)\n",
    "\n",
    "    X = lsa.fit_transform(X)\n",
    "\n",
    "    print(\"done in %fs\" % (time() - t0))\n",
    "\n",
    "    explained_variance = svd.explained_variance_ratio_.sum()\n",
    "    print(\"Explained variance of the SVD step: {}%\".format(\n",
    "        int(explained_variance * 100)))\n",
    "\n",
    "    print()"
   ]
  },
  {
   "cell_type": "markdown",
   "metadata": {
    "colab_type": "text",
    "id": "l1Sj87MrX1-j"
   },
   "source": [
    "## Then do the actual clustering and output clustering metrics\n",
    "\n",
    "Look at using [MiniBatchKmeans](http://scikit-learn.org/stable/modules/generated/sklearn.cluster.MiniBatchKMeans.html) insead of regular KMeans - MiniBatch means to use a smaller subset of the data over a few passes and average their results. MiniBatch has a shorter runtime than full KMeans and can actually complete on very-large datasets.\n",
    "\n",
    "Compare the clustering performance metrics between using KMeans and MiniBatchKMeans:\n",
    "* Homogeneity\n",
    "* Completeness\n",
    "* V-measure\n",
    "* Adjusted Rand-Index\n",
    "* Silhouette\n",
    "\n",
    "After you've finished examining the differing performance between KMeans and MiniBatchKMeans, try using a `k` other than `true_k`.\n",
    "\n",
    "Suggestion: Write a loop that computes and outputs the Clustering Metrics for $k \\in \\{1...30\\}$. Graph one or more of the metrics with $k$ as the `x` axis. We should see them maximize around $k=20$, the true number of clusters. Do we?\n",
    "\n",
    "Finally, after clustering, draw some exemplar data samples from each cluster and compare them in your own mind. Is the clustering process working for separating out the content of different emails?"
   ]
  },
  {
   "cell_type": "code",
   "execution_count": 16,
   "metadata": {
    "colab": {
     "base_uri": "https://localhost:8080/",
     "height": 124
    },
    "colab_type": "code",
    "id": "DHOeGxRdX39c",
    "outputId": "2a58e38f-c8f5-4ceb-fd83-9f7adee93efc"
   },
   "outputs": [
    {
     "name": "stdout",
     "output_type": "stream",
     "text": [
      "Clustering sparse data with KMeans(algorithm='auto', copy_x=True, init='k-means++', max_iter=100,\n",
      "    n_clusters=20, n_init=1, n_jobs=1, precompute_distances='auto',\n",
      "    random_state=None, tol=0.0001, verbose=0)\n",
      "done in 39.374s\n",
      "\n"
     ]
    }
   ],
   "source": [
    "# Your implementation of Clustering Execution and Performance Metrics\n",
    "\n",
    "if minibatchKMeans:\n",
    "    km = MiniBatchKMeans(n_clusters=true_k, init='k-means++', n_init=1,\n",
    "                        init_size=1000, batch_size=1000)\n",
    "else:\n",
    "    km = KMeans(n_clusters=true_k, init='k-means++', max_iter=100, n_init=1)\n",
    "\n",
    "print(\"Clustering sparse data with %s\" % km)\n",
    "t0 = time()\n",
    "km.fit(X)\n",
    "print(\"done in %0.3fs\" % (time() - t0))\n",
    "print()"
   ]
  },
  {
   "cell_type": "code",
   "execution_count": 21,
   "metadata": {
    "colab": {
     "base_uri": "https://localhost:8080/",
     "height": 52
    },
    "colab_type": "code",
    "id": "Zh42NFjhtKWv",
    "outputId": "d4876b24-0107-41c9-b562-ee79e2ded6d0"
   },
   "outputs": [
    {
     "name": "stdout",
     "output_type": "stream",
     "text": [
      "done in 0.994s\n",
      "\n"
     ]
    }
   ],
   "source": [
    "km_minibatch = MiniBatchKMeans(n_clusters=true_k, init='k-means++', n_init=1,\n",
    "                        init_size=1000, batch_size=1000)\n",
    "t0 = time()\n",
    "km_minibatch.fit(X)\n",
    "print(\"done in %0.3fs\" % (time() - t0))\n",
    "print()"
   ]
  },
  {
   "cell_type": "code",
   "execution_count": 15,
   "metadata": {
    "colab": {
     "base_uri": "https://localhost:8080/",
     "height": 69
    },
    "colab_type": "code",
    "id": "k4kArdyMtO0F",
    "outputId": "6e224cc3-b353-4424-af6c-1d744b2350f4"
   },
   "outputs": [
    {
     "name": "stdout",
     "output_type": "stream",
     "text": [
      "[7]\n",
      "[ 7  3  2  3  3  2  2  7  7  0  0  2  0  2  2  2  1  2  2  1  2  9  9 14\n",
      "  7  2 13  9  3  0  2]\n"
     ]
    }
   ],
   "source": [
    "print(km_minibatch.predict(X[0]))\n",
    "predictions = km_minibatch.predict(X[:31])\n",
    "print(predictions)\n",
    "which = np.where(predictions==0)[0]\n",
    "#for index in which:\n",
    "#    print(dataset.data[index])\n",
    "    \n",
    "# On this run, cluster 7 is category 10: hockey\n",
    "# On this run, cluster 3 is computers\n",
    "# On this run, cluster 2 mideast politics\n",
    "# On this run, cluster 0 is christianity"
   ]
  },
  {
   "cell_type": "code",
   "execution_count": 25,
   "metadata": {
    "colab": {
     "base_uri": "https://localhost:8080/",
     "height": 225
    },
    "colab_type": "code",
    "id": "DOebY8ivtVfy",
    "outputId": "40bb847f-2da9-48ae-ceda-1735577995bf"
   },
   "outputs": [
    {
     "name": "stdout",
     "output_type": "stream",
     "text": [
      "Full KM Benchmark:\n",
      "Homogeneity: 0.348\n",
      "Completeness: 0.422\n",
      "V-measure: 0.382\n",
      "Adjusted Rand-Index: 0.145\n",
      "Silhouette Coefficient: 0.008\n",
      "Minibatch KM Benchmark:\n",
      "Homogeneity: 0.319\n",
      "Completeness: 0.408\n",
      "V-measure: 0.358\n",
      "Adjusted Rand-Index: 0.126\n",
      "Silhouette Coefficient: 0.006\n"
     ]
    }
   ],
   "source": [
    "# Lets benchmark km_minibatch and km\n",
    "\n",
    "def benchmark_all(labels, km):\n",
    "    print(\"Homogeneity: %0.3f\" % metrics.homogeneity_score(labels, km.labels_))\n",
    "    print(\"Completeness: %0.3f\" % metrics.completeness_score(labels, km.labels_))\n",
    "    print(\"V-measure: %0.3f\" % metrics.v_measure_score(labels, km.labels_))\n",
    "    print(\"Adjusted Rand-Index: %.3f\"\n",
    "          % metrics.adjusted_rand_score(labels, km.labels_))\n",
    "    print(\"Silhouette Coefficient: %0.3f\"\n",
    "      % metrics.silhouette_score(X, km.labels_, sample_size=1000))\n",
    "\n",
    "print('Full KM Benchmark:')\n",
    "benchmark_all(labels,km)\n",
    "print('Minibatch KM Benchmark:')\n",
    "benchmark_all(labels,km_minibatch)\n"
   ]
  },
  {
   "cell_type": "code",
   "execution_count": 24,
   "metadata": {
    "colab": {
     "base_uri": "https://localhost:8080/",
     "height": 35
    },
    "colab_type": "code",
    "id": "vDddGGay4w0p",
    "outputId": "77b54a7f-5677-4a5b-9be8-2f20861462a8"
   },
   "outputs": [
    {
     "name": "stdout",
     "output_type": "stream",
     "text": [
      "0.9166666666666667\n"
     ]
    }
   ],
   "source": [
    "# In this run, minibatch is .321/.348 % of the quality of full KMM\n",
    "print(.319/.348)"
   ]
  },
  {
   "cell_type": "code",
   "execution_count": 33,
   "metadata": {
    "colab": {
     "base_uri": "https://localhost:8080/",
     "height": 35
    },
    "colab_type": "code",
    "id": "nK8nfBgv5HOv",
    "outputId": "ea819eb0-4c69-44a2-9c80-a3b9660ab982"
   },
   "outputs": [
    {
     "name": "stdout",
     "output_type": "stream",
     "text": [
      "0.05660377358490571\n"
     ]
    }
   ],
   "source": [
    "sil = 0.006\n",
    "#(b-a)/b = 0.006\n",
    "b = 1.06\n",
    "a = 1\n",
    "print((b-a)/b)"
   ]
  },
  {
   "cell_type": "code",
   "execution_count": 46,
   "metadata": {
    "colab": {
     "base_uri": "https://localhost:8080/",
     "height": 55
    },
    "colab_type": "code",
    "id": "zKqg7-r58TbY",
    "outputId": "93d1cd02-613f-4a2c-8242-dd2e6c228558"
   },
   "outputs": [
    {
     "name": "stdout",
     "output_type": "stream",
     "text": [
      "[0.38536031134238063, 0.400998850313491, 0.43454754212752494, 0.41812443901046287, 0.4396260878463039, 0.36250303650791976, 0.4364608585520671, 0.39141618747629986, 0.37184280607030334, 0.3714485751168977, 0.4398414387216491, 0.4428789006975637, 0.3788462286576544, 0.3605914914066264, 0.38876426054113294, 0.3887477680902338, 0.3634020674026213, 0.3991768831767991, 0.3589680656958909]\n"
     ]
    }
   ],
   "source": [
    "print(completeness)"
   ]
  },
  {
   "cell_type": "code",
   "execution_count": 60,
   "metadata": {
    "colab": {
     "base_uri": "https://localhost:8080/",
     "height": 347
    },
    "colab_type": "code",
    "id": "igWRoZq162H9",
    "outputId": "91545af0-cbbd-4588-dd92-674a3afddaee"
   },
   "outputs": [
    {
     "name": "stdout",
     "output_type": "stream",
     "text": [
      "1\n",
      "3\n",
      "5\n",
      "7\n",
      "9\n",
      "11\n",
      "13\n",
      "15\n",
      "17\n",
      "20\n",
      "22\n",
      "24\n",
      "26\n",
      "28\n",
      "30\n",
      "32\n",
      "34\n",
      "36\n",
      "39\n"
     ]
    }
   ],
   "source": [
    "# How do our metrics change as the number of clusters change?\n",
    "\n",
    "ks = np.linspace(1,39,19).astype(int)\n",
    "completeness = []\n",
    "for k in ks:\n",
    "    print(k)\n",
    "    km_minibatch = MiniBatchKMeans(n_clusters=k, init='k-means++', n_init=1,\n",
    "                            init_size=2000, batch_size=2000)\n",
    "    km_minibatch.fit(X)\n",
    "    completeness.append(metrics.adjusted_rand_score(labels, km_minibatch.labels_))\n",
    "\n",
    "    "
   ]
  },
  {
   "cell_type": "code",
   "execution_count": 61,
   "metadata": {
    "colab": {
     "base_uri": "https://localhost:8080/",
     "height": 369
    },
    "colab_type": "code",
    "id": "KU15tvn6877I",
    "outputId": "1b5473a3-312f-40ba-f77d-70a741d02b66"
   },
   "outputs": [
    {
     "data": {
      "text/plain": [
       "(0, 0.5)"
      ]
     },
     "execution_count": 61,
     "metadata": {
      "tags": []
     },
     "output_type": "execute_result"
    },
    {
     "data": {
      "image/png": "[encoded data removed]",
      "text/plain": [
       "<matplotlib.figure.Figure at 0x7f5ef5022a58>"
      ]
     },
     "metadata": {
      "tags": []
     },
     "output_type": "display_data"
    }
   ],
   "source": [
    "import matplotlib.pyplot as plt\n",
    "plt.plot(ks,completeness)\n",
    "plt.ylim((0,.5))"
   ]
  },
  {
   "cell_type": "code",
   "execution_count": null,
   "metadata": {
    "colab": {},
    "colab_type": "code",
    "id": "yV2NNXNV9Yn4"
   },
   "outputs": [],
   "source": []
  }
 ],
 "metadata": {
  "colab": {
   "collapsed_sections": [],
   "name": "Solution of Applied Clustering CC.ipynb",
   "provenance": [],
   "version": "0.3.2"
  },
  "kernelspec": {
   "display_name": "Python 3",
   "language": "python",
   "name": "python3"
  },
  "language_info": {
   "codemirror_mode": {
    "name": "ipython",
    "version": 3
   },
   "file_extension": ".py",
   "mimetype": "text/x-python",
   "name": "python",
   "nbconvert_exporter": "python",
   "pygments_lexer": "ipython3",
   "version": "3.6.4"
  }
 },
 "nbformat": 4,
 "nbformat_minor": 2
}
