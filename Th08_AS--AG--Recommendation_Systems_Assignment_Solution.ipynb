{
  "nbformat": 4,
  "nbformat_minor": 0,
  "metadata": {
    "colab": {
      "name": "Recommendation Systems Assignment Solution",
      "version": "0.3.2",
      "provenance": []
    },
    "kernelspec": {
      "name": "python3",
      "display_name": "Python 3"
    }
  },
  "cells": [
    {
      "cell_type": "markdown",
      "metadata": {
        "id": "view-in-github",
        "colab_type": "text"
      },
      "source": [
        "[View in Colaboratory](https://colab.research.google.com/github/schwaaweb/aimlds1_08-UnsupervisedLearning/blob/master/Th08_AS--AG--Recommendation_Systems_Assignment_Solution.ipynb)"
      ]
    },
    {
      "metadata": {
        "id": "YNEmHziOtA6q",
        "colab_type": "text"
      },
      "cell_type": "markdown",
      "source": [
        "# Assignment Description"
      ]
    },
    {
      "metadata": {
        "id": "ZtCTNdlQtJio",
        "colab_type": "text"
      },
      "cell_type": "markdown",
      "source": [
        "Write a function `recommend_for_user(user)` that takes a user and returns the top 5 recommended movies for them to watch that they have not already rated.\n",
        "\n",
        "You should use the code from the lecture and coding challenge, and experiment with different approaches - you can use the predicted ratings we generated above, and you can experiment with different distance measurements or hybrid approaches (considering item similarity). You can also try an approach where e.g. you find the `n` users most similar to the given user, and average their preferences to generate new ratings and recommendations.\n",
        "\n",
        "The end result should be a function that is reusable and suitable for an application and that satisfies this spec:\n",
        "\n",
        "```\n",
        "def recommend_for_user(user, n=5):\n",
        "  \"\"\"\n",
        "  Generate movie recommendations for a user.\n",
        "  Input: userId (from MovieLens data)\n",
        "  Output: list of tuples (movieId, predictedRating) of top n movies recommended for user (not previously rated by them)\n",
        "  \"\"\"\n",
        "  pass\n",
        "```\n",
        "\n",
        "As a stretch goal, prepare the data such that you generate test data - get a subset of users and drop some of their top ratings (favorite movies), then generate recommendations for them and see if they get recommended those movies and at what rating.\n",
        "\n",
        "Part of the goal here is to think about making your code general and reusable, so it could plug into an actual live recommendation system. As a super-stretch goal, you can explore popular Python web application frameworks - these are the tools used to build the back-end that exposes an API so data can be displayed to the user.\n",
        "\n",
        "- http://flask.pocoo.org/ - popular minimal framework\n",
        "- https://www.djangoproject.com/ - \"industry-grade\" framework (more complicated, includes more features)\n",
        "\n",
        "In a real-world situation, your role in a team could be ensuring that the API endpoint for generating recommendations does what it should (so everyone else can build on it). In web application terminology, this means that some route (e.g. `/recommendations/<user>`) can accept requests and return JSON data in response, essentially wrapping the function you built for this assignment."
      ]
    },
    {
      "metadata": {
        "id": "fZc11VIuHnfK",
        "colab_type": "text"
      },
      "cell_type": "markdown",
      "source": [
        "# Assignment Solution (as a Python Class)"
      ]
    },
    {
      "metadata": {
        "id": "x_Kxu3MGHqv1",
        "colab_type": "code",
        "colab": {}
      },
      "cell_type": "code",
      "source": [
        "import numpy as np\n",
        "import pandas as pd\n",
        "\n",
        "class CollaborativeFilter:\n",
        "  \"\"\"Generate collaborative filtering powered recommendations for movie data.\"\"\"\n",
        "  \n",
        "  def __init__(self, train_csv, test_csv=None):\n",
        "    \"\"\"Initialize an instance of the CollaborativeFilter class, loading data and\n",
        "    forming a pivot table appropriate for running collaborative filtering.\n",
        "    \n",
        "    Args:\n",
        "        train_csv (str): path (local or web) to CSV with MovieLens ratings data\n",
        "        test_csv (str): path (local or web) to CSV with testing data (optional)\n",
        "    \"\"\"\n",
        "    self.data_path = train_csv\n",
        "    df = pd.read_csv(train_csv)\n",
        "    self.pivot = pd.pivot_table(df, index='userid', columns='movieid',\n",
        "                                aggfunc=np.max)\n",
        "    self.test_path = test_csv\n",
        "    if test_csv:\n",
        "      df_test = pd.read_csv(test_csv)\n",
        "      self.pivot_test = pd.pivot_table(df_test, index='userid',\n",
        "                                       columns='movieid', aggfunc=np.max)\n",
        "  \n",
        "  def _matrix_factorization(self, R, P, Q, K, steps=5000, alpha=0.0002,\n",
        "                            beta=0.02):\n",
        "    \"\"\"An implementation of matrix factorization.\n",
        "    Source: http://www.quuxlabs.com/blog/2010/09/matrix-factorization-a-simple-tutorial-and-implementation-in-python/\n",
        "    \n",
        "    Args:\n",
        "        R     : a matrix to be factorized, dimension N x M\n",
        "        P     : an initial matrix of dimension N x K\n",
        "        Q     : an initial matrix of dimension M x K\n",
        "        K     : the number of latent features\n",
        "        steps : the maximum number of steps to perform the optimization\n",
        "        alpha : the learning rate\n",
        "        beta  : the regularization parameter\n",
        "    \n",
        "    Returns: a tuple (P, Q.T) reflecting the factorized values of R\n",
        "    \"\"\"\n",
        "    Q = Q.T\n",
        "    for step in range(steps):\n",
        "      for i in range(len(R)):\n",
        "        for j in range(len(R[i])):\n",
        "          if R[i][j] > 0:\n",
        "            eij = R[i][j] - np.dot(P[i,:], Q[:,j])\n",
        "            for k in range(K):\n",
        "              P[i][k] = P[i][k] + alpha * (2 * eij * Q[k][j] - beta * P[i][k])\n",
        "              Q[k][j] = Q[k][j] + alpha * (2 * eij * P[i][k] - beta * Q[k][j])\n",
        "      eR = np.dot(P, Q)\n",
        "      e = 0\n",
        "      for i in range(len(R)):\n",
        "        for j in range(len(R[i])):\n",
        "          if R[i][j] > 0:\n",
        "            e = e + pow(R[i][j] - np.dot(P[i,:],Q[:,j]), 2)\n",
        "            for k in range(K):\n",
        "              e = e + (beta/2) * (pow(P[i][k],2) + pow(Q[k][j],2))\n",
        "      if e < 0.001:\n",
        "        break\n",
        "    return P, Q.T\n",
        "    \n",
        "  def run_matrix_factorization(self, K=2):\n",
        "    \"\"\"Run the matrix factorization on training data, and save predicted\n",
        "    ratings to self.predicted_ratings as a matrix (rows=users, cols=movies).\n",
        "    \n",
        "    Args:\n",
        "        K: number of latent features (passed on to _matrix_factorization)\n",
        "    \"\"\"\n",
        "    R = self.pivot.as_matrix()\n",
        "    N = len(R)\n",
        "    M = len(R[0])\n",
        "    \n",
        "    P = np.random.rand(N, K) # Matrix of user attributes\n",
        "    Q = np.random.rand(M, K) # Matrix of movie attributes\n",
        "    \n",
        "    nP, nQ = self._matrix_factorization(R, P, Q, K)\n",
        "    # Find all predicted ratings by multiplying nP and nQ \n",
        "    self.predicted_ratings = np.dot(nP, nQ.T)\n",
        "  \n",
        "  def rmse(self):\n",
        "    \"\"\"Calculate root mean square error accuracy measurement.\n",
        "    \n",
        "    Returns: tuple (train_rmse, test_rmse), where test_rmse is None if there\n",
        "        is no test data\n",
        "    \"\"\"\n",
        "    if not hasattr(self, 'predicted_ratings'):\n",
        "      raise Exception('Please execute run_matrix_factorization() to '\n",
        "                      'generate predictions before calculating RMSE.')\n",
        "    train_rmse = np.sqrt(np.nanmean(np.square(self.pivot.as_matrix() -\n",
        "                                              self.predicted_ratings)))\n",
        "    if hasattr(self, 'pivot_test'):\n",
        "      test_rmse = np.sqrt(np.nanmean(np.square(self.pivot_test.as_matrix() -\n",
        "                                               self.predicted_ratings)))\n",
        "    else:\n",
        "      test_rmse = None\n",
        "\n",
        "    return train_rmse, test_rmse\n",
        "  \n",
        "  def recommend_for_user(self, user, n=5):\n",
        "    \"\"\"Generate movie recommendations for a user. Assumes 1 indexed users.\n",
        "    \n",
        "    Args:\n",
        "        user: id for a user in the MovieLens rating data\n",
        "        n: number of movies (that they have not reviewed) to recommend\n",
        "    \n",
        "    Returns: list of tuples (movieid, predicted_rating) of recommendations\n",
        "    \"\"\"\n",
        "    user_ratings = self.pivot.as_matrix()[user - 1, :]\n",
        "    predicted_ratings = self.predicted_ratings[user - 1, :].copy()\n",
        "    # Wherever user ratings exist (aren't nan), make predicted ratings -1\n",
        "    # so the predicted movies are not recommended\n",
        "    predicted_ratings[~np.isnan(user_ratings)] = -1\n",
        "    # Assuming movieids start with 1, sort descending by predicted rating\n",
        "    movies = range(len(predicted_ratings))\n",
        "    movies = sorted(movies, key=lambda i: predicted_ratings[i], reverse=True)\n",
        "    return [(movie + 1, predicted_ratings[movie]) for movie in movies[:n]]"
      ],
      "execution_count": 0,
      "outputs": []
    },
    {
      "metadata": {
        "id": "1a-0DczCUDfO",
        "colab_type": "code",
        "colab": {}
      },
      "cell_type": "code",
      "source": [
        "train_data = 'https://www.dropbox.com/s/ej76ujnyxmxn2mi/movie_ratings_training.csv?raw=1'\n",
        "test_data = 'https://www.dropbox.com/s/h5jwlmnaxu5xdvq/movie_ratings_testing.csv?raw=1'\n",
        "cf = CollaborativeFilter(train_data, test_data)"
      ],
      "execution_count": 0,
      "outputs": []
    },
    {
      "metadata": {
        "id": "XDnsketzUR2g",
        "colab_type": "code",
        "colab": {},
        "outputId": "6ce4c9f7-43b7-4305-cc8f-ec8d90283f7e"
      },
      "cell_type": "code",
      "source": [
        "dir(cf)\n",
        "print(cf.rmse())"
      ],
      "execution_count": 0,
      "outputs": []
    },
    {
      "metadata": {
        "id": "iPxnX2IRpsea",
        "colab_type": "code",
        "colab": {},
        "outputId": "cf5f6eeb-1bbb-439a-ac8e-872f0d37529b"
      },
      "cell_type": "code",
      "source": [
        "cf.run_matrix_factorization()\n",
        "print(cf.rmse())"
      ],
      "execution_count": 0,
      "outputs": []
    },
    {
      "metadata": {
        "id": "_s9mDOfnzD1C",
        "colab_type": "code",
        "colab": {},
        "outputId": "40c48ac3-bd58-4d93-fb00-96d17de9a665"
      },
      "cell_type": "code",
      "source": [
        "cf.pivot.as_matrix()[4, :]"
      ],
      "execution_count": 0,
      "outputs": []
    },
    {
      "metadata": {
        "id": "bAoAN1Kjze3w",
        "colab_type": "code",
        "colab": {},
        "outputId": "20c98bbb-889b-450f-a5fa-282696381ff6"
      },
      "cell_type": "code",
      "source": [
        "cf.predicted_ratings[4, :]"
      ],
      "execution_count": 0,
      "outputs": []
    },
    {
      "metadata": {
        "id": "9yPV59Ivznei",
        "colab_type": "code",
        "colab": {},
        "outputId": "3acc5c72-579a-4c92-c880-12fcac96e2e8"
      },
      "cell_type": "code",
      "source": [
        "cf.recommend_for_user(5)"
      ],
      "execution_count": 0,
      "outputs": []
    },
    {
      "metadata": {
        "id": "B2qaxyF70WzG",
        "colab_type": "code",
        "colab": {}
      },
      "cell_type": "code",
      "source": [
        ""
      ],
      "execution_count": 0,
      "outputs": []
    }
  ]
}