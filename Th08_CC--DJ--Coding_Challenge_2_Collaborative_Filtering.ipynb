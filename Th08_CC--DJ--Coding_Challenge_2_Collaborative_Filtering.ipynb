{
  "nbformat": 4,
  "nbformat_minor": 0,
  "metadata": {
    "colab": {
      "name": "Coding Challenge #2 Collaborative Filtering.ipynb",
      "version": "0.3.2",
      "provenance": []
    },
    "kernelspec": {
      "name": "python3",
      "display_name": "Python 3"
    }
  },
  "cells": [
    {
      "cell_type": "markdown",
      "metadata": {
        "id": "view-in-github",
        "colab_type": "text"
      },
      "source": [
        "[View in Colaboratory](https://colab.research.google.com/github/schwaaweb/aimlds1_08-UnsupervisedLearning/blob/master/Th08_CC--DJ--Coding_Challenge_2_Collaborative_Filtering.ipynb)"
      ]
    },
    {
      "metadata": {
        "id": "vhzqCR6gjMv9",
        "colab_type": "text"
      },
      "cell_type": "markdown",
      "source": [
        "**Coding Challenge** #** 2** - Collaborative Filtering"
      ]
    },
    {
      "metadata": {
        "id": "hJZzrf7qg6FU",
        "colab_type": "text"
      },
      "cell_type": "markdown",
      "source": [
        "**Coding Challenge:** **Context**\n",
        "\n",
        "With collaborative filtering, an application can find users with similar tastes and can look at ietms they like and combine them to create a ranked list of suggestions which is known as user based recommendation. Or can also find items which are similar to each other and then suggest the items to users based on their past purchases which is known as item based recommendation. The first step in this technique is to find users with similar tastes or items which share similarity. \n",
        "\n",
        "There are various similarity models like** Cosine Similarity, Euclidean Distance Similarity and Pearson Correlation Similarity** which can be used to find similarity between users or items."
      ]
    },
    {
      "metadata": {
        "id": "E3zcH1mQppxI",
        "colab_type": "text"
      },
      "cell_type": "markdown",
      "source": [
        "In this coding challenge, you will go through the process of identifying users that are similar (i.e. User Similarity) and items that are similar (i.e. \"Item Similarity\")\n",
        "\n",
        "**User Similarity:**\n",
        "\n",
        "**1a)** Compute \"User Similarity\" based on  cosine similarity coefficient (fyi, the other commonly used similarity coefficients are Pearson Correlation Coefficient and Euclidean)\n",
        "\n",
        "**1b)** Based on the cosine similarity coefficient, identify 2 users who are similar and then discover common movie names that have been rated by the 2 users; examine how the similar users have rated the movies\n",
        "\n",
        "**Item Similarity:**\n",
        "\n",
        "**2a) ** Compute \"Item Similarity\" based on the Pearson Correlation Similarity Coefficient\n",
        "\n",
        "**2b)** Pick 2 movies and find movies that are similar to the movies you have picked\n",
        "\n",
        "**Challenges:**\n",
        "\n",
        "**3)** According to you, do you foresee any issue(s)  associated with Collaborative Filtering? \n",
        "\n",
        "**Dataset: ** For the purposes of this challenge, we will leverage the data set accessible via https://grouplens.org/datasets/movielens/\n",
        "\n",
        "The data set is posted under the section: ***recommended for education and development*** and we will stick to the small version of the data set with 100,000 ratings"
      ]
    }
  ]
}