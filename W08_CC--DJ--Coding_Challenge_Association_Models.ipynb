{
  "nbformat": 4,
  "nbformat_minor": 0,
  "metadata": {
    "colab": {
      "name": "Coding Challenge Association-Models.ipynb",
      "version": "0.3.2",
      "provenance": []
    },
    "kernelspec": {
      "name": "python3",
      "display_name": "Python 3"
    }
  },
  "cells": [
    {
      "cell_type": "markdown",
      "metadata": {
        "id": "view-in-github",
        "colab_type": "text"
      },
      "source": [
        "[View in Colaboratory](https://colab.research.google.com/github/schwaaweb/aimlds1_08-UnsupervisedLearning/blob/master/W08_CC--DJ--Coding_Challenge_Association_Models.ipynb)"
      ]
    },
    {
      "metadata": {
        "id": "E3zcH1mQppxI",
        "colab_type": "text"
      },
      "cell_type": "markdown",
      "source": [
        "**Coding Challenge**\n",
        "\n",
        "In this coding challenge, you will apply the concepts of Association Rule Learning\n",
        "\n",
        "1) Utilize the Apriori Algorithm to uncover frequent itemsets \n",
        "\n",
        "2) Discover the strongest association rules that have high lift and high confidence\n",
        "\n",
        "3) Create a Directed Graph to surface the association rules identified in Step 2 above\n",
        "\n",
        "**Resources**:\n",
        "\n",
        "- The Wikipedia articles for [association rule learning](https://en.wikipedia.org/wiki/Association_rule_learning) and the [Apriori algorithm](https://en.wikipedia.org/wiki/Apriori_algorithm) provide a good introduction and overview of the topic.\n",
        "- The `mlxtend` package provides an [implementation of Apriori](http://rasbt.github.io/mlxtend/user_guide/frequent_patterns/apriori/) ([source code](https://github.com/rasbt/mlxtend/blob/master/mlxtend/frequent_patterns/apriori.py)) - it is encouraged to read and understand the documentation and code, so you can be a savvy user of it.\n",
        "- The `networkx` package has a [tutorial for drawing a directed graph](https://networkx.github.io/documentation/networkx-1.10/tutorial/index.html).\n",
        "\n",
        "\n",
        "**Dataset: ** The data you will utilize is from the **UCI Machine Learning Repository** and represents transactional data from a UK retailer from 2010 through 2011. The data set represents sales to wholesalers so it is slightly different from data representing customer purchase patterns but is still a useful data set for the purposes of this exercise.\n",
        "\n",
        "The data set can be downloaded from: http://archive.ics.uci.edu/ml/machine-learning-databases/00352/Online%20Retail.xlsx\n",
        "\n",
        "**Guidance for coding challenge**:\n",
        "\n",
        "1) Focus on the data for the following 2 countries: 1) **Germany** and 2) **Belgium**. Go through the 3 steps highlighted above for each of the 2 countries. This analysis will enable you to compare/constrast the sales of frequent itemsets in the \"Germany\" from that in \"Belgium\"\n",
        "\n",
        "2) You will need to prepare the data. For example: some of the invoices contact 'C' in front of the invoice number; these ivoices should be removed from the dataset\n",
        "\n",
        "3) Product descriptions with a value of 'POSTAGE' in it will need to be treated since it could negatively skew/impact the results\n",
        "\n",
        "4) You will have to transpose the data set so that you get a proper representation of the underlying data set that can be feed into the Apriori Algorithm\n",
        "\n",
        "*Hint:* Good Reference while exploring your data set - https://medium.com/@msalmon00/helpful-python-code-snippets-for-data-exploration-in-pandas-b7c5aed5ecb9\n",
        "\n",
        "**Communicate your findings**:\n",
        "\n",
        "One of the common tasks for Data Scientists in the real world is to communicate their findings. Summarize your analysis and make recomendations on how you could potentially improve/bolster sales for the Online Retailer"
      ]
    }
  ]
}