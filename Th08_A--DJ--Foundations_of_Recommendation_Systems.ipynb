{
 "cells": [
  {
   "cell_type": "markdown",
   "metadata": {
    "colab_type": "text",
    "ein.tags": "worksheet-0",
    "id": "view-in-github",
    "slideshow": {
     "slide_type": "-"
    }
   },
   "source": [
    "[Assignment Lecture](https://youtu.be/g18M1B_PFJw)\n",
    "\n",
    "[View in Colaboratory](https://colab.research.google.com/github/schwaaweb/aimlds1_08-UnsupervisedLearning/blob/master/Th08_A--DJ--Foundations_of_Recommendation_Systems.ipynb)"
   ]
  },
  {
   "cell_type": "markdown",
   "metadata": {
    "colab_type": "text",
    "ein.tags": "worksheet-0",
    "id": "-wFtf2ME1PD6",
    "slideshow": {
     "slide_type": "-"
    }
   },
   "source": [
    "**Ojectives:**\n",
    "\n",
    "1) Acquire an understanding of the different flavors/techniques for making recommendations \n",
    "\n",
    "2) Utilize Matrix Factorization to estimate/predict missing user ratings\n",
    " \n",
    "3) Measure Recommendation Accuracy"
   ]
  },
  {
   "cell_type": "markdown",
   "metadata": {
    "colab_type": "text",
    "ein.tags": "worksheet-0",
    "id": "c3Ch-foO-7QN",
    "slideshow": {
     "slide_type": "-"
    }
   },
   "source": [
    "### Objective 1: Acquire an understanding of the different flavors/techniques for making recommendations"
   ]
  },
  {
   "cell_type": "markdown",
   "metadata": {
    "colab_type": "text",
    "ein.tags": "worksheet-0",
    "id": "F4mKuNRHBCJz",
    "slideshow": {
     "slide_type": "-"
    }
   },
   "source": [
    "**1)** **Content-based Recommendations** i.e. recommend products/items based on the attibutes of the product/item\n",
    "\n",
    "Content-based recommendation engines utilize their knowledge of the attibutes of each product/item to recommend new products/items. \n",
    "\n",
    "Let's say that you inform your colleague at work that you just watched the movie **Rock** starring *Nicholas Cage* and that you really liked the movie. Based on this information, your colleague might recommend that you watch the movie **Con Air** next. Both movies are Action-packed Thrillers and both movies feature the same movie star. It could be a good recommendation because the movies have a few attributes in common. This is the fundamental idea behind content-based recommendation engines. Content-based recommendation engines recommend products that have similar attributes to a product that the user already liked.\n",
    "\n",
    "**Point to Note**: Content-based recommendations can be effective only if you have *descriptive data* available for each product/item that you want to recommend. However, creating detailed information for each product/item in your inventory is not only a time-consuming process but it also introduces a fair degree of subjectivity that can throw off your recommendation results.\n",
    "\n",
    "**2)** **Collaborative Filtering** i.e. recommend products solely based on user ratings\n",
    "\n",
    "Collaborative filtering recommendation engines generate recommendations solely based on how users rated products in the past; it only possesses knowledge on how other users rated the product and it uses those past ratings to make new recommendations.\n",
    "\n",
    "Let's say that **Thomson** has rated the following movies:\n",
    "\n",
    "Rock: 5-Star\n",
    "\n",
    "Con Air: 5-Star\n",
    "\n",
    "Finding Nemo: 2-Star\n",
    "\n",
    "Kubo and the 2 Strings: 1-Star\n",
    "\n",
    "\n",
    "**Caleb** has given the following ratings to the movies:\n",
    "\n",
    "Rock: 5 Star\n",
    "\n",
    "Con Air: (No Rating)\n",
    "\n",
    "Finding Nemo: 2-Star\n",
    "\n",
    "Kubo and the 2 Strings: (No Rating)\n",
    "\n",
    "\n",
    "**Aaron** has given the following ratings to the movies:\n",
    "\n",
    "Rock: 2 Star\n",
    "\n",
    "Con Air: 1 Star\n",
    "\n",
    "Finding Nemo: 5-Star\n",
    "\n",
    "Kubo and the 2 Strings: 4-Star\n",
    "\n",
    "**Susanna** has given the following ratings to the movies:\n",
    "\n",
    "Rock: 2 Star\n",
    "\n",
    "Con Air: 1 Star\n",
    "\n",
    "Finding Nemo: 5-Star\n",
    "\n",
    "Kubo and the 2 Strings: 4-Star\n",
    "\n",
    "\n",
    "Based on the user rating, a Collaborative filtering recommendation engine would recomend the movie \"Con Air\" to Caleb since Thomson and Caleb seem to have similar tastes.\n",
    "\n",
    "**Collaborative filtering **has an advantage over content-based recommendations. Once you have user review data, you can build a collaborative filtering recommendation system. No knowledge about the attributes of the products/items being recommended is required. However if there is no information on user reviews/ratings, recommendations cannot be made.\n",
    "\n",
    "**Some limitations of Collaborative Filtering:**\n",
    "\n",
    "Collaborative Filtering only works when you already have user reviews to work from. If you do not have any reviews, you cannot make recommendations. Also, collaborative filtering tends to favor items with lots of reviews over items with few reviews. This can make it difficult for users to uncover new releases since they are not likely to get recommended as often.\n",
    "\n",
    "\n"
   ]
  },
  {
   "cell_type": "markdown",
   "metadata": {
    "colab_type": "text",
    "ein.tags": "worksheet-0",
    "id": "_JxZrUR5VzUh",
    "slideshow": {
     "slide_type": "-"
    }
   },
   "source": [
    "### Objective 2: Utilize Matrix Factorization to estimate/predict missing user ratings"
   ]
  },
  {
   "cell_type": "markdown",
   "metadata": {
    "colab_type": "text",
    "ein.tags": "worksheet-0",
    "id": "SYk5LojEamca",
    "slideshow": {
     "slide_type": "-"
    }
   },
   "source": [
    "To develop a framework for making recommendations, we will walk-through an example:\n",
    "\n",
    "**Goal**: Predict missing user ratings so that recommendations about similar products/items (i.e. movies for the purposes of this example) can be made\n",
    "\n",
    "**Available Data**: **a)** User ratings for movies, **b)** List of movie titles and the respective genres\n",
    "\n",
    "**Process**: In order to compute missing user ratings, we need 2 key pieces of information:\n",
    "\n",
    "1) the user preferences across a range of attributes (the attributes could encompass Action, Comedy, Romance, Horror, etc.) \n",
    "\n",
    "2) the ratings for *each* movie across the same set of attributes\n",
    "\n",
    "We will utilize the \"User ratings for movies\" data set to factor out a \"User Ratings\" matrix as well as a \"Movie Rating\" matrix. Once we have the 2 pieces of information highlighted above, we will leverage the concepts of Linear Algebra (i.e. **Matrix Multiplication**) to arrive at a value for \"User Movie Rating\" for each movie across every user which will provide an estimate/prediction for the missing user ratings so that the appropriate recommendations can be surfaced to each user\n",
    "\n",
    "**User Movie Ratings** = User Ratings (across attributes) **X** Movie Ratings (across the same set of attributes) \n",
    "\n",
    "*Point to note*: When computing the following matrices: User Ratings (across attributes) and the Movie Ratings (across attributes), we have no idea what each attribute/feature is. All we know is that each attribute/feature represents some characteristic that has attracted users to certain products/items (in this case movies). Since we are unsure of how to describe those characteristics in words, they are deemed as **latent** features. The word latent just means hidden. \n",
    "\n"
   ]
  },
  {
   "cell_type": "code",
   "execution_count": 2,
   "metadata": {
    "autoscroll": false,
    "colab": {
     "base_uri": "https://localhost:8080/",
     "height": 1309
    },
    "colab_type": "code",
    "collapsed": false,
    "ein.hycell": false,
    "ein.tags": "worksheet-0",
    "id": "fSfcLChFuBNm",
    "outputId": "b2ab64b2-0c02-4b30-a969-eb2d21fbcbf5",
    "slideshow": {
     "slide_type": "-"
    }
   },
   "outputs": [],
   "source": [
    "# Import the requisite packages\n",
    "import numpy as np\n",
    "import pandas as pd\n",
    "from pandas import Series, DataFrame\n",
    "\n",
    "\n",
    "#df = pd.read_csv('https://www.dropbox.com/s/4ec9l887mth6rep/movie_ratings.csv?raw=1')\n",
    "#print(df['userid'])\n",
    "#df.head()"
   ]
  },
  {
   "cell_type": "code",
   "execution_count": 5,
   "metadata": {
    "autoscroll": false,
    "collapsed": false,
    "ein.hycell": false,
    "ein.tags": "worksheet-0",
    "slideshow": {
     "slide_type": "-"
    }
   },
   "outputs": [
    {
     "data": {
      "text/plain": [
       "   userid  movieid  rating\n0       1       28       4\n1       1       26       4\n2       1        9       4\n3       1        1       4\n4       1       14       4"
      ]
     },
     "execution_count": 5,
     "metadata": {},
     "output_type": "execute_result"
    }
   ],
   "source": [
    "#!wget -c https://www.dropbox.com/s/4ec9l887mth6rep/movie_ratings.csv?raw=1\n",
    "#!mv movie_ratings.csv?raw=1 movie_ratings.csv\n",
    "#!ls -lh movie_ratings.csv ml-latest-small/*\n",
    "df = pd.read_csv('movie_ratings.csv')\n",
    "df.head()\n"
   ]
  },
  {
   "cell_type": "code",
   "execution_count": 6,
   "metadata": {
    "autoscroll": false,
    "colab": {
     "base_uri": "https://localhost:8080/",
     "height": 2367
    },
    "colab_type": "code",
    "collapsed": false,
    "ein.hycell": false,
    "ein.tags": "worksheet-0",
    "id": "irKtXb8723Fs",
    "outputId": "f95d20e7-7290-4a79-fcc7-76fcd41459ce",
    "slideshow": {
     "slide_type": "-"
    }
   },
   "outputs": [
    {
     "name": "stdout",
     "output_type": "stream",
     "text": [
      "        rating                                              ...             \\\n",
      "movieid     1    2    3    4    5    6    7    8    9    10 ...    25   26   \n",
      "userid                                                      ...              \n",
      "1          4.0  0.0  0.0  0.0  0.0  0.0  0.0  0.0  4.0  0.0 ...   0.0  4.0   \n",
      "2          5.0  5.0  0.0  0.0  0.0  0.0  0.0  0.0  0.0  0.0 ...   0.0  0.0   \n",
      "3          4.0  4.0  5.0  0.0  0.0  0.0  0.0  0.0  0.0  0.0 ...   0.0  0.0   \n",
      "4          5.0  5.0  0.0  5.0  5.0  0.0  0.0  0.0  0.0  0.0 ...   0.0  0.0   \n",
      "5          5.0  0.0  0.0  0.0  0.0  0.0  0.0  0.0  5.0  0.0 ...   0.0  0.0   \n",
      "6          5.0  5.0  0.0  0.0  0.0  0.0  0.0  0.0  0.0  0.0 ...   0.0  0.0   \n",
      "7          5.0  0.0  0.0  2.0  0.0  0.0  0.0  0.0  0.0  0.0 ...   0.0  0.0   \n",
      "8          4.0  0.0  5.0  0.0  0.0  0.0  0.0  0.0  0.0  5.0 ...   0.0  0.0   \n",
      "9          5.0  0.0  5.0  0.0  0.0  0.0  0.0  0.0  0.0  0.0 ...   0.0  0.0   \n",
      "10         4.0  0.0  4.0  0.0  0.0  0.0  0.0  4.0  0.0  0.0 ...   0.0  0.0   \n",
      "11         5.0  4.0  5.0  0.0  0.0  0.0  0.0  0.0  0.0  0.0 ...   0.0  0.0   \n",
      "12         5.0  0.0  5.0  0.0  0.0  0.0  0.0  5.0  0.0  0.0 ...   0.0  0.0   \n",
      "13         4.0  0.0  0.0  0.0  0.0  0.0  5.0  0.0  0.0  0.0 ...   0.0  0.0   \n",
      "14         5.0  4.0  5.0  0.0  5.0  0.0  0.0  0.0  0.0  0.0 ...   0.0  0.0   \n",
      "15         5.0  0.0  5.0  5.0  0.0  0.0  0.0  0.0  0.0  0.0 ...   0.0  0.0   \n",
      "16         4.0  0.0  4.0  0.0  0.0  0.0  0.0  4.0  0.0  0.0 ...   0.0  0.0   \n",
      "17         4.0  4.0  4.0  0.0  5.0  0.0  0.0  0.0  0.0  0.0 ...   0.0  0.0   \n",
      "18         5.0  0.0  5.0  0.0  0.0  0.0  0.0  0.0  0.0  0.0 ...   5.0  0.0   \n",
      "19         0.0  5.0  0.0  0.0  0.0  5.0  0.0  0.0  5.0  0.0 ...   5.0  0.0   \n",
      "20         0.0  5.0  0.0  0.0  5.0  0.0  0.0  0.0  0.0  0.0 ...   0.0  0.0   \n",
      "21         0.0  4.0  0.0  0.0  3.0  0.0  0.0  3.0  0.0  0.0 ...   0.0  4.0   \n",
      "22         0.0  4.0  0.0  0.0  0.0  0.0  4.0  0.0  4.0  0.0 ...   0.0  0.0   \n",
      "23         0.0  4.0  0.0  0.0  0.0  0.0  0.0  0.0  0.0  0.0 ...   4.0  0.0   \n",
      "24         0.0  5.0  0.0  0.0  5.0  0.0  0.0  0.0  0.0  5.0 ...   0.0  0.0   \n",
      "25         0.0  5.0  4.0  0.0  0.0  0.0  0.0  0.0  0.0  5.0 ...   0.0  0.0   \n",
      "26         0.0  5.0  0.0  0.0  5.0  5.0  0.0  5.0  0.0  5.0 ...   0.0  0.0   \n",
      "27         0.0  5.0  0.0  0.0  5.0  0.0  0.0  0.0  0.0  0.0 ...   0.0  5.0   \n",
      "28         0.0  5.0  0.0  0.0  0.0  0.0  0.0  0.0  0.0  0.0 ...   5.0  0.0   \n",
      "29         0.0  5.0  0.0  0.0  5.0  0.0  0.0  0.0  0.0  0.0 ...   0.0  0.0   \n",
      "30         0.0  0.0  5.0  0.0  5.0  0.0  0.0  0.0  0.0  5.0 ...   0.0  0.0   \n",
      "...        ...  ...  ...  ...  ...  ...  ...  ...  ...  ... ...   ...  ...   \n",
      "71         0.0  0.0  0.0  0.0  0.0  0.0  0.0  0.0  0.0  0.0 ...   5.0  0.0   \n",
      "72         0.0  0.0  0.0  0.0  0.0  0.0  0.0  0.0  0.0  0.0 ...   0.0  0.0   \n",
      "73         0.0  0.0  0.0  0.0  0.0  0.0  0.0  0.0  0.0  0.0 ...   0.0  0.0   \n",
      "74         0.0  0.0  0.0  0.0  0.0  0.0  0.0  0.0  0.0  0.0 ...   0.0  0.0   \n",
      "75         0.0  0.0  0.0  0.0  0.0  0.0  0.0  0.0  0.0  0.0 ...   0.0  0.0   \n",
      "76         0.0  0.0  0.0  0.0  0.0  0.0  0.0  0.0  0.0  0.0 ...   0.0  0.0   \n",
      "77         0.0  0.0  0.0  0.0  0.0  0.0  0.0  0.0  0.0  0.0 ...   0.0  0.0   \n",
      "78         0.0  0.0  0.0  0.0  0.0  0.0  0.0  0.0  0.0  0.0 ...   0.0  0.0   \n",
      "79         0.0  0.0  0.0  0.0  0.0  0.0  0.0  0.0  0.0  0.0 ...   0.0  0.0   \n",
      "80         0.0  0.0  0.0  0.0  0.0  0.0  0.0  0.0  0.0  0.0 ...   0.0  0.0   \n",
      "81         0.0  0.0  0.0  0.0  0.0  0.0  0.0  0.0  0.0  0.0 ...   0.0  0.0   \n",
      "82         0.0  0.0  0.0  0.0  0.0  0.0  0.0  0.0  0.0  0.0 ...   0.0  4.0   \n",
      "83         0.0  0.0  0.0  0.0  0.0  0.0  0.0  0.0  0.0  0.0 ...   0.0  0.0   \n",
      "84         0.0  0.0  0.0  0.0  0.0  0.0  0.0  0.0  0.0  0.0 ...   0.0  0.0   \n",
      "85         0.0  0.0  0.0  0.0  0.0  0.0  0.0  0.0  0.0  0.0 ...   0.0  0.0   \n",
      "86         0.0  0.0  0.0  0.0  0.0  0.0  0.0  0.0  0.0  0.0 ...   0.0  0.0   \n",
      "87         0.0  0.0  0.0  0.0  0.0  0.0  0.0  0.0  0.0  0.0 ...   0.0  0.0   \n",
      "88         0.0  0.0  0.0  0.0  0.0  0.0  0.0  0.0  0.0  0.0 ...   0.0  0.0   \n",
      "89         0.0  0.0  0.0  0.0  0.0  0.0  0.0  0.0  0.0  0.0 ...   0.0  0.0   \n",
      "90         0.0  0.0  0.0  0.0  0.0  0.0  0.0  0.0  0.0  0.0 ...   0.0  0.0   \n",
      "91         0.0  0.0  0.0  0.0  0.0  0.0  0.0  0.0  0.0  0.0 ...   0.0  0.0   \n",
      "92         0.0  0.0  0.0  0.0  0.0  0.0  0.0  0.0  0.0  0.0 ...   0.0  0.0   \n",
      "93         0.0  0.0  0.0  0.0  0.0  0.0  0.0  0.0  0.0  0.0 ...   0.0  0.0   \n",
      "94         0.0  0.0  0.0  0.0  0.0  0.0  0.0  0.0  0.0  0.0 ...   0.0  0.0   \n",
      "95         0.0  0.0  0.0  0.0  0.0  0.0  0.0  0.0  0.0  0.0 ...   0.0  0.0   \n",
      "96         0.0  0.0  0.0  0.0  0.0  0.0  0.0  0.0  0.0  0.0 ...   0.0  0.0   \n",
      "97         0.0  0.0  0.0  0.0  0.0  0.0  0.0  0.0  0.0  0.0 ...   0.0  0.0   \n",
      "98         0.0  0.0  0.0  0.0  0.0  0.0  0.0  0.0  0.0  0.0 ...   0.0  0.0   \n",
      "99         0.0  0.0  0.0  0.0  0.0  0.0  0.0  0.0  0.0  0.0 ...   0.0  0.0   \n",
      "100        0.0  0.0  0.0  0.0  0.0  0.0  0.0  0.0  0.0  0.0 ...   0.0  0.0   \n",
      "\n",
      "                                                 \n",
      "movieid   27   28   29   30   31   32   33   34  \n",
      "userid                                           \n",
      "1        0.0  4.0  0.0  0.0  0.0  0.0  0.0  0.0  \n",
      "2        0.0  0.0  0.0  0.0  3.0  0.0  0.0  4.0  \n",
      "3        0.0  0.0  0.0  0.0  0.0  0.0  0.0  0.0  \n",
      "4        0.0  0.0  0.0  0.0  0.0  0.0  0.0  0.0  \n",
      "5        0.0  0.0  3.0  0.0  3.0  2.0  5.0  5.0  \n",
      "6        0.0  0.0  0.0  0.0  2.0  5.0  4.0  3.0  \n",
      "7        0.0  0.0  0.0  0.0  0.0  0.0  0.0  4.0  \n",
      "8        5.0  5.0  0.0  0.0  0.0  0.0  0.0  0.0  \n",
      "9        0.0  5.0  4.0  0.0  0.0  0.0  0.0  0.0  \n",
      "10       0.0  0.0  5.0  0.0  0.0  0.0  0.0  0.0  \n",
      "11       0.0  0.0  0.0  0.0  0.0  0.0  0.0  3.0  \n",
      "12       0.0  0.0  0.0  0.0  0.0  0.0  0.0  0.0  \n",
      "13       0.0  0.0  0.0  0.0  0.0  0.0  0.0  0.0  \n",
      "14       0.0  0.0  0.0  0.0  0.0  0.0  0.0  0.0  \n",
      "15       0.0  5.0  0.0  0.0  0.0  0.0  0.0  0.0  \n",
      "16       0.0  0.0  0.0  5.0  0.0  5.0  5.0  4.0  \n",
      "17       0.0  0.0  0.0  0.0  0.0  0.0  0.0  0.0  \n",
      "18       0.0  0.0  0.0  0.0  0.0  0.0  0.0  0.0  \n",
      "19       0.0  0.0  0.0  0.0  0.0  0.0  0.0  0.0  \n",
      "20       0.0  0.0  0.0  0.0  3.0  0.0  4.0  5.0  \n",
      "21       0.0  4.0  1.0  0.0  0.0  1.0  0.0  0.0  \n",
      "22       0.0  0.0  0.0  0.0  0.0  0.0  0.0  0.0  \n",
      "23       0.0  0.0  4.0  0.0  5.0  4.0  3.0  5.0  \n",
      "24       5.0  0.0  0.0  0.0  0.0  0.0  0.0  0.0  \n",
      "25       5.0  0.0  0.0  0.0  0.0  0.0  0.0  0.0  \n",
      "26       5.0  0.0  0.0  0.0  0.0  0.0  0.0  0.0  \n",
      "27       0.0  0.0  0.0  0.0  0.0  0.0  0.0  5.0  \n",
      "28       5.0  5.0  0.0  0.0  0.0  0.0  0.0  0.0  \n",
      "29       0.0  0.0  0.0  0.0  0.0  0.0  0.0  0.0  \n",
      "30       4.0  5.0  0.0  0.0  0.0  0.0  0.0  0.0  \n",
      "...      ...  ...  ...  ...  ...  ...  ...  ...  \n",
      "71       0.0  0.0  0.0  3.0  0.0  3.0  0.0  4.0  \n",
      "72       0.0  0.0  0.0  5.0  0.0  0.0  0.0  0.0  \n",
      "73       0.0  0.0  1.0  0.0  3.0  3.0  1.0  0.0  \n",
      "74       0.0  0.0  2.0  0.0  0.0  5.0  0.0  0.0  \n",
      "75       0.0  0.0  5.0  0.0  5.0  5.0  0.0  4.0  \n",
      "76       0.0  0.0  0.0  2.0  3.0  4.0  4.0  5.0  \n",
      "77       0.0  0.0  0.0  3.0  4.0  5.0  0.0  5.0  \n",
      "78       0.0  0.0  3.0  0.0  1.0  0.0  0.0  0.0  \n",
      "79       0.0  0.0  3.0  0.0  0.0  4.0  0.0  0.0  \n",
      "80       0.0  0.0  5.0  0.0  1.0  5.0  5.0  4.0  \n",
      "81       0.0  0.0  5.0  0.0  0.0  2.0  5.0  0.0  \n",
      "82       0.0  0.0  0.0  0.0  0.0  0.0  0.0  0.0  \n",
      "83       0.0  0.0  4.0  0.0  5.0  5.0  4.0  5.0  \n",
      "84       0.0  0.0  5.0  0.0  5.0  0.0  4.0  0.0  \n",
      "85       0.0  0.0  0.0  3.0  0.0  5.0  0.0  0.0  \n",
      "86       0.0  0.0  4.0  0.0  1.0  3.0  3.0  5.0  \n",
      "87       0.0  0.0  0.0  3.0  1.0  4.0  3.0  4.0  \n",
      "88       0.0  0.0  4.0  0.0  5.0  5.0  4.0  0.0  \n",
      "89       0.0  0.0  3.0  0.0  4.0  5.0  5.0  2.0  \n",
      "90       0.0  0.0  4.0  0.0  1.0  3.0  4.0  2.0  \n",
      "91       0.0  0.0  0.0  4.0  4.0  4.0  5.0  2.0  \n",
      "92       0.0  0.0  0.0  0.0  1.0  4.0  1.0  5.0  \n",
      "93       0.0  0.0  0.0  3.0  0.0  0.0  4.0  4.0  \n",
      "94       0.0  0.0  0.0  2.0  5.0  5.0  2.0  4.0  \n",
      "95       0.0  0.0  0.0  5.0  4.0  5.0  4.0  3.0  \n",
      "96       0.0  0.0  0.0  1.0  1.0  3.0  1.0  4.0  \n",
      "97       0.0  0.0  0.0  5.0  4.0  4.0  4.0  5.0  \n",
      "98       0.0  0.0  5.0  0.0  4.0  5.0  4.0  5.0  \n",
      "99       0.0  0.0  0.0  1.0  3.0  5.0  3.0  3.0  \n",
      "100      1.0  0.0  3.0  0.0  4.0  3.0  3.0  5.0  \n",
      "\n",
      "[100 rows x 34 columns]\n"
     ]
    }
   ],
   "source": [
    "# Transpose the dataset set so that the columns represent the individual movies\n",
    "df_pivot = pd.pivot_table(df, index='userid', columns='movieid', aggfunc=np.max).fillna(0)\n",
    "print(df_pivot)"
   ]
  },
  {
   "cell_type": "markdown",
   "metadata": {
    "colab_type": "text",
    "ein.tags": "worksheet-0",
    "id": "I6duS5vBFwDn",
    "slideshow": {
     "slide_type": "-"
    }
   },
   "source": [
    "We will utilize ** Matrix Factorization** to arrive at the 2 matrices i.e. **a)** User Ratings (across attributes)** b) ** Movie Ratings (across attributes). Once we have the 2 matrices, we will compute the \"dot\" product of the 2 matrices to come up with an estimate/prediction for the  missing user ratings \n",
    "\n",
    "There are a few different variations of the \"Matrix Factorization\" implementation, we will use the code put together by Albert Yeung: http://www.quuxlabs.com/wp-content/uploads/2010/09/mf.py_.txt\n",
    "\n",
    "The mathematics behind \"Matrix Factorization\" can be reviewed here: http://www.quuxlabs.com/blog/2010/09/matrix-factorization-a-simple-tutorial-and-implementation-in-python/#source-code\n",
    "\n",
    "Another resource on the concepts of \"Matrix Factorization\": https://www.youtube.com/watch?v=o8PiWO8C3zs\n",
    "\n",
    "\n"
   ]
  },
  {
   "cell_type": "code",
   "execution_count": 8,
   "metadata": {
    "autoscroll": false,
    "colab": null,
    "colab_type": "code",
    "collapsed": false,
    "ein.hycell": false,
    "ein.tags": "worksheet-0",
    "id": "Bobs6WxUL9ht",
    "slideshow": {
     "slide_type": "-"
    }
   },
   "outputs": [],
   "source": [
    "#\n",
    "# Created by Albert Au Yeung (2010)\n",
    "#\n",
    "# An implementation of matrix factorization\n",
    "#\n",
    "\n",
    "\n",
    "def matrix_factorization(R, P, Q, K, steps=5000, alpha=0.0002, beta=0.02):\n",
    "    Q = Q.T\n",
    "    for step in range(steps):\n",
    "        for i in range(len(R)):\n",
    "            for j in range(len(R[i])):\n",
    "                if R[i][j] > 0:\n",
    "                    eij = R[i][j] - np.dot(P[i,:],Q[:,j])\n",
    "                    for k in range(K):\n",
    "                        P[i][k] = P[i][k] + alpha * (2 * eij * Q[k][j] - beta * P[i][k])\n",
    "                        Q[k][j] = Q[k][j] + alpha * (2 * eij * P[i][k] - beta * Q[k][j])\n",
    "        eR = np.dot(P,Q)\n",
    "        e = 0\n",
    "        for i in range(len(R)):\n",
    "            for j in range(len(R[i])):\n",
    "                if R[i][j] > 0:\n",
    "                    e = e + pow(R[i][j] - np.dot(P[i,:],Q[:,j]), 2)\n",
    "                    for k in range(K):\n",
    "                        e = e + (beta/2) * ( pow(P[i][k],2) + pow(Q[k][j],2) )\n",
    "        if e < 0.001:\n",
    "            break\n",
    "    return P, Q.T"
   ]
  },
  {
   "cell_type": "code",
   "execution_count": 12,
   "metadata": {
    "autoscroll": false,
    "colab": null,
    "colab_type": "code",
    "collapsed": false,
    "ein.hycell": false,
    "ein.tags": "worksheet-0",
    "id": "0P2rvOAZMAfW",
    "slideshow": {
     "slide_type": "-"
    }
   },
   "outputs": [
    {
     "name": "stdout",
     "output_type": "stream",
     "text": [
      "CPU times: user 2min 25s, sys: 462 ms, total: 2min 26s\n",
      "Wall time: 2min 26s\n"
     ]
    }
   ],
   "source": [
    "%%time\n",
    "   # R     : a matrix to be factorized, dimension N x M\n",
    "   # P     : an initial matrix of dimension N x K\n",
    "   # Q     : an initial matrix of dimension M x K\n",
    "   # K     : the number of latent features\n",
    "   # steps : the maximum number of steps to perform the optimization\n",
    "   # alpha : the learning rate\n",
    "   # beta  : the regularization parameter  \n",
    "   R = df_pivot.as_matrix()\n",
    "   N = len(R)\n",
    "   M = len(R[0])\n",
    "   K = 2\n",
    "\n",
    "   P = np.random.rand(N,K) # Matrix of user attributes\n",
    "   Q = np.random.rand(M,K) # Matrix of movie attributes\n",
    "\n",
    "   nP, nQ = matrix_factorization(R, P, Q, K)"
   ]
  },
  {
   "cell_type": "code",
   "execution_count": 13,
   "metadata": {
    "autoscroll": false,
    "colab": {
     "base_uri": "https://localhost:8080/",
     "height": 266
    },
    "colab_type": "code",
    "collapsed": false,
    "ein.hycell": false,
    "ein.tags": "worksheet-0",
    "id": "qejbQxY1NRhk",
    "outputId": "7e041064-bbe8-4d1e-c80e-c70f597c4032",
    "slideshow": {
     "slide_type": "-"
    }
   },
   "outputs": [
    {
     "name": "stdout",
     "output_type": "stream",
     "text": [
      "[[4.23005046 4.12387145 4.40580732 ... 3.81956507 3.54905316 3.82854076]\n",
      " [4.65133688 4.52913345 4.84795448 ... 4.26417755 3.87550731 4.28575577]\n",
      " [4.33281832 4.26529507 4.48744814 ... 3.42652526 3.83964444 3.34712464]\n",
      " ...\n",
      " [5.61403284 5.47140451 5.84834668 ... 5.08939029 4.70175372 5.10497616]\n",
      " [4.40819766 4.33906574 4.5657849  ... 3.49125041 3.90429315 3.41140078]\n",
      " [3.74908253 3.58653006 3.9470117  ... 4.19170476 2.80628727 4.34671711]]\n",
      "(100, 34)\n",
      "[4.23005046 4.12387145 4.40580732 3.52214983 4.2507842  4.14965001\n",
      " 3.89504467 4.15875503 4.15002301 4.33940683 3.95003292 4.13607658\n",
      " 4.23989422 4.01826964 3.76730842 4.08296213 2.67825045 3.00565499\n",
      " 3.52235554 3.78140249 4.11902559 4.03674408 3.39647884 4.29631405\n",
      " 3.96961579 4.28912501 3.85984153 4.01363584 3.25424957 3.29716875\n",
      " 3.07097633 3.81956507 3.54905316 3.82854076]\n"
     ]
    }
   ],
   "source": [
    "# User Movie Ratings = User Ratings (across attributes) **X** Movie Ratings (across the same set of attributes) \n",
    "\n",
    "nR = np.dot(nP, nQ.T)\n",
    "\n",
    "print(nR) # Estimate/Prediction for the user movie ratings\n",
    "print(nR.shape)\n",
    "print(nR[0,:]) # Ratings from first user\n",
    "#print(nP)\n",
    "\n",
    "#print(nQ)"
   ]
  },
  {
   "cell_type": "markdown",
   "metadata": {
    "colab_type": "text",
    "ein.tags": "worksheet-0",
    "id": "oMorEFt-jIyj",
    "slideshow": {
     "slide_type": "-"
    }
   },
   "source": [
    "### Objective 3: Measure Recommendation Accuracy"
   ]
  },
  {
   "cell_type": "markdown",
   "metadata": {
    "colab_type": "text",
    "ein.tags": "worksheet-0",
    "id": "kn1vvqjakGA-",
    "slideshow": {
     "slide_type": "-"
    }
   },
   "source": [
    "To measure the accuracy of estimated \"User Movie Ratings\" , we will use a  statistical metric called root-mean-square-error (RMSE). RMSE is a meaure of the difference between the user's *actual *movie ratings and the ratings that were predicted for the same movies. \n",
    "\n",
    "The lower the root-mean-square-error, the more accurate the model. A root-mean-square-error of zero means our model perfectly estimates user ratings. If the root-mean-square-error for the test set is much higher than that of the training set, it is likely that you may have overfitted the data. In this example scenario, we are off by about one rating star on average when predicting user ratings.\n",
    "\n",
    "We could adjust the **regularization** amount parameter to improve the accuracy of the recommendations. Regularization limits the amount of weight we place on a single attribute when finding user/item features with matrix factorization. The higher we set the regularization amount, the less weight we put on any single attribute. When you are building a recommendation engine, you will want to experiment with different regularization values to see how it affects the quality of your recommendations.\n",
    "\n",
    "**Note**: One limitation that we faced in this example scenario is that we only had a few hundred movie reviews to work with; the best thing that could be done to improve accuracy in this case is to get more user reviews. More movie reviews will give our engine more information to work with so it can do a better job of making recommendations.\n",
    "\n",
    "\n",
    "\n"
   ]
  },
  {
   "cell_type": "code",
   "execution_count": 15,
   "metadata": {
    "autoscroll": false,
    "colab": {
     "base_uri": "https://localhost:8080/",
     "height": 53
    },
    "colab_type": "code",
    "collapsed": false,
    "ein.hycell": false,
    "ein.tags": "worksheet-0",
    "id": "ldJp1JPcjSyM",
    "outputId": "d2c2985f-63bc-4f93-ddf8-e984b9050f85",
    "slideshow": {
     "slide_type": "-"
    }
   },
   "outputs": [
    {
     "name": "stdout",
     "output_type": "stream",
     "text": [
      "Training RMSE is: 0.5892891585261517\n",
      "Testing RMSE is: 1.3177666668894445\n"
     ]
    },
    {
     "name": "stdout",
     "output_type": "stream",
     "text": [
      "Training RMSE is: 0.6045913541547454\n",
      "Testing RMSE is: 1.2873565533092435\n"
     ]
    }
   ],
   "source": [
    "# Import the requisite packages\n",
    "import numpy as np\n",
    "import pandas as pd\n",
    "from pandas import Series, DataFrame\n",
    "\n",
    "# Load user ratings\n",
    "df_training = pd.read_csv('https://www.dropbox.com/s/ej76ujnyxmxn2mi/movie_ratings_training.csv?raw=1')\n",
    "df_testing = pd.read_csv('https://www.dropbox.com/s/h5jwlmnaxu5xdvq/movie_ratings_testing.csv?raw=1')\n",
    "\n",
    "# Convert the running list of user ratings into a matrix\n",
    "df_training = pd.pivot_table(df_training, index='userid', columns='movieid', aggfunc=np.max)\n",
    "df_testing = pd.pivot_table(df_testing, index='userid', columns='movieid', aggfunc=np.max)\n",
    "\n",
    "R = df_training.as_matrix()\n",
    "N = len(R)\n",
    "M = len(R[0])\n",
    "K = 2\n",
    "\n",
    "P = np.random.rand(N,K) # Matrix of user attributes\n",
    "Q = np.random.rand(M,K) # Matrix of movie attributes\n",
    "\n",
    "nP, nQ = matrix_factorization(R, P, Q, K)\n",
    "\n",
    "# Find all predicted ratings by multiplying nP and nQ \n",
    "   \n",
    "nR = np.dot(nP, nQ.T)\n",
    "\n",
    "# print(nR) # Estimate/Prediction for the user movie ratings\n",
    "\n",
    "def RMSE(real, predicted):\n",
    "\n",
    "  return np.sqrt(np.nanmean(np.square(real - predicted)))\n",
    "\n",
    "# Measure RMSE\n",
    "training_rmse = RMSE(df_training.as_matrix(), nR)\n",
    "testing_rmse = RMSE(df_testing.as_matrix(), nR)\n",
    "\n",
    "print(\"Training RMSE is: {}\".format(training_rmse))\n",
    "print(\"Testing RMSE is: {}\".format(testing_rmse))"
   ]
  },
  {
   "cell_type": "markdown",
   "metadata": {
    "colab_type": "text",
    "ein.tags": "worksheet-0",
    "id": "lVvrYn4WgWqz",
    "slideshow": {
     "slide_type": "-"
    }
   },
   "source": [
    "**Additional Resources on Collaborative Filtering for your reference:** https://towardsdatascience.com/various-implementations-of-collaborative-filtering-100385c6dfe0"
   ]
  },
  {
   "cell_type": "markdown",
   "metadata": {
    "colab_type": "text",
    "ein.tags": "worksheet-0",
    "id": "YNEmHziOtA6q",
    "slideshow": {
     "slide_type": "-"
    }
   },
   "source": [
    "# Assignment"
   ]
  },
  {
   "cell_type": "markdown",
   "metadata": {
    "colab_type": "text",
    "ein.tags": "worksheet-0",
    "id": "ZtCTNdlQtJio",
    "slideshow": {
     "slide_type": "-"
    }
   },
   "source": [
    "Write a function `recommend_for_user(user)` that takes a user and returns the top 5 recommended movies for them to watch that they have not already rated.\n",
    "\n",
    "You should use the code from the lecture and coding challenge, and experiment with different approaches - you can use the predicted ratings we generated above, and you can experiment with different distance measurements or hybrid approaches (considering item similarity). You can also try an approach where e.g. you find the `n` users most similar to the given user, and average their preferences to generate new ratings and recommendations.\n",
    "\n",
    "The end result should be a function that is reusable and suitable for an application and that satisfies this spec:\n",
    "\n",
    "```\n",
    "def recommend_for_user(user, n=5):\n",
    "  \"\"\"\n",
    "  Generate movie recommendations for a user.\n",
    "  Input: userId (from MovieLens data)\n",
    "  Output: list of tuples (movieId, predictedRating) of top n movies recommended for user (not previously rated by them)\n",
    "  \"\"\"\n",
    "  pass\n",
    "```\n",
    "\n",
    "As a stretch goal, prepare the data such that you generate test data - get a subset of users and drop some of their top ratings (favorite movies), then generate recommendations for them and see if they get recommended those movies and at what rating.\n",
    "\n",
    "Part of the goal here is to think about making your code general and reusable, so it could plug into an actual live recommendation system. As a super-stretch goal, you can explore popular Python web application frameworks - these are the tools used to build the back-end that exposes an API so data can be displayed to the user.\n",
    "\n",
    "- http://flask.pocoo.org/ - popular minimal framework\n",
    "- https://www.djangoproject.com/ - \"industry-grade\" framework (more complicated, includes more features)\n",
    "\n",
    "In a real-world situation, your role in a team could be ensuring that the API endpoint for generating recommendations does what it should (so everyone else can build on it). In web application terminology, this means that some route (e.g. `/recommendations/<user>`) can accept requests and return JSON data in response, essentially wrapping the function you built for this assignment."
   ]
  }
 ],
 "metadata": {
  "colab": {
   "name": "Foundations of Recommendation Systems.ipynb",
   "provenance": null,
   "version": "0.3.2"
  },
  "kernelspec": {
   "display_name": "Python 3",
   "name": "python3"
  },
  "language_info": {
   "codemirror_mode": {
    "name": "ipython",
    "version": 3
   },
   "file_extension": ".py",
   "mimetype": "text/x-python",
   "name": "python",
   "nbconvert_exporter": "python",
   "pygments_lexer": "ipython3",
   "version": "3.6.4"
  },
  "name": "Th08_A--DJ--Foundations_of_Recommendation_Systems.ipynb"
 },
 "nbformat": 4,
 "nbformat_minor": 2
}
